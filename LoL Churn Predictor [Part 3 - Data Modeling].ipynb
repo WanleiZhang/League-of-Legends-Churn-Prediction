{
 "cells": [
  {
   "cell_type": "markdown",
   "metadata": {},
   "source": [
    "# LoL Churn Predictor [Part 3 - Data Modeling]\n",
    "\n",
    "**David Skarbrevik - 2018**\n",
    "\n",
    "In part 2 we cleaned and analyzed our League of Legends data. Now we want to use that data to build a model that completes some sort of churn-like prediction."
   ]
  },
  {
   "cell_type": "markdown",
   "metadata": {},
   "source": [
    "<a id=\"toc\"></a>\n",
    "\n",
    "<br>\n",
    "<hr style=\"background-color: black; padding: 1px;\">\n",
    "<br>\n",
    "\n",
    "<h2>Table of Contents</h2>\n",
    "\n",
    "<br>\n",
    "\n",
    "<ol>\n",
    "    <h3><li><a href=\"#section1\">Planning</a></li></h3>\n",
    "    <br>\n",
    "    <h3><li><a href=\"#section2\">Prepparing the data for modeling</a></li></h3>\n",
    "    <br>\n",
    "    <h3><li><a href=\"#section3\">Baseline model</a></li></h3>\n",
    "    <br>\n",
    "    <h3><li><a href=\"#section4\">Neural Network model</a></li></h3>\n",
    "</ol>\n",
    "\n",
    "<br>\n",
    "<hr style=\"background-color: black; padding: 1px;\">\n",
    "<br>"
   ]
  },
  {
   "cell_type": "markdown",
   "metadata": {},
   "source": [
    "<a id='section1'></a>\n",
    "\n",
    "## Step 1) Planning\n",
    "\n",
    "### What preprocessing steps maybe necessary before fitting data to a model?\n",
    "\n",
    "**There are four things we may need/want to do before training our models:**\n",
    "\n",
    "**1)** OHE encode categorical and binary features\n",
    "\n",
    "**2) [optional]** normalize values (many columns have large values)\n",
    "\n",
    "**3)** create a \"label\" feature that we will predict on\n",
    "\n",
    "**4)** remove unwanted features from the dataset\n",
    "\n",
    "\n",
    "### What prediction tasks to model?\n",
    "\n",
    "Some possibilities:\n",
    "\n",
    "* Will the summoner get to level 3 or higher within the first month of play?\n",
    "* Did the summoner play more than 1 match?\n",
    "* Did the summoner play at least X matches?\n",
    "\n",
    "\n",
    "\n",
    "### What types of models to try?\n",
    "\n",
    "I will start with logistic regression as it seems most fitting for the prediction tasks above, however I will also try some other common models such as random forests. Finally I'll try a simple neural network model if I have time."
   ]
  },
  {
   "cell_type": "markdown",
   "metadata": {},
   "source": [
    "***"
   ]
  },
  {
   "cell_type": "markdown",
   "metadata": {},
   "source": [
    "<div align=\"right\">\n",
    "    <a href=\"#toc\">back to top</a>\n",
    "</div>\n",
    "<a id='section2'></a>\n",
    "\n",
    "## Step 2) Prepping the data for modeling\n",
    "\n",
    "This is similar to \"cleaning\" phase in last notebook, but all changes to dataset here are for the purposes of ML not general analysis."
   ]
  },
  {
   "cell_type": "code",
   "execution_count": 1,
   "metadata": {},
   "outputs": [],
   "source": [
    "import pandas as pd\n",
    "import numpy as np\n",
    "from collections import Counter\n",
    "\n",
    "# this dataset has over 100 columns so pandas will truncate our results by default\n",
    "pd.set_option('display.max_columns', 200)\n",
    "pd.set_option('display.max_rows', 200)\n",
    "# pd.options.mode.chained_assignment = None  # default='warn'\n",
    "\n",
    "import warnings\n",
    "warnings.filterwarnings(\"ignore\")\n",
    "\n",
    "np.random.seed(1)"
   ]
  },
  {
   "cell_type": "markdown",
   "metadata": {},
   "source": [
    "**First, read cleaned dataframe from file**"
   ]
  },
  {
   "cell_type": "code",
   "execution_count": 2,
   "metadata": {},
   "outputs": [],
   "source": [
    "df = pd.read_csv(\"./data/cleaned_riot_data2.csv\", encoding=\"ISO-8859-1\")"
   ]
  },
  {
   "cell_type": "markdown",
   "metadata": {},
   "source": [
    "**1) OHE encoding for categorical features**"
   ]
  },
  {
   "cell_type": "code",
   "execution_count": 3,
   "metadata": {},
   "outputs": [
    {
     "data": {
      "text/plain": [
       "[('summoner_id', Counter({92201075: 1, 93650017: 1, 92729877: 1})),\n",
       " ('summoner_name', Counter({'TrEx18': 1, 'iMain N01': 1, 'luexolu99': 1})),\n",
       " ('summoner_level', Counter({5: 3})),\n",
       " ('total_matches', Counter({7: 1, 6: 1, 4: 1})),\n",
       " ('first_match_time',\n",
       "  Counter({'2018-01-16T05:50:54.986000+00:00': 1,\n",
       "           '2018-03-10T06:24:33.477000+00:00': 1,\n",
       "           '2018-03-10T06:56:11.750000+00:00': 1})),\n",
       " ('first_match_duration',\n",
       "  Counter({'0 days 00:14:00.000000000': 1,\n",
       "           '0 days 00:16:41.000000000': 1,\n",
       "           '0 days 00:22:54.000000000': 1})),\n",
       " ('first_match_id', Counter({2695060245: 1, 2736710108: 1, 2736716714: 1})),\n",
       " ('assists', Counter({16.0: 1, 4.0: 1, 10.0: 1})),\n",
       " ('champLevel', Counter({12.0: 1, 11.0: 1, 13.0: 1})),\n",
       " ('combatPlayerScore', Counter({0.0: 3})),\n",
       " ('creepsPerMinDeltas_0-10', Counter({5.1: 1, 3.5: 1, 0.8: 1})),\n",
       " ('creepsPerMinDeltas_10-20', Counter({0.0: 2, 3.6: 1})),\n",
       " ('creepsPerMinDeltas_20-30', Counter({0.0: 3})),\n",
       " ('creepsPerMinDeltas_30-end', Counter({0.0: 3})),\n",
       " ('csDiffPerMinDeltas_0-10',\n",
       "  Counter({4.800000000000002: 1, 1.7200000000000002: 1, 0.0: 1})),\n",
       " ('csDiffPerMinDeltas_10-20', Counter({0.0: 3})),\n",
       " ('csDiffPerMinDeltas_20-30', Counter({0.0: 3})),\n",
       " ('csDiffPerMinDeltas_30-end', Counter({0.0: 3})),\n",
       " ('damageDealtToObjectives', Counter({4624.0: 1, 1885.0: 1, 6838.0: 1})),\n",
       " ('damageDealtToTurrets', Counter({4624.0: 1, 1885.0: 1, 5972.0: 1})),\n",
       " ('damageSelfMitigated', Counter({4268.0: 1, 5206.0: 1, 11147.0: 1})),\n",
       " ('damageTakenDiffPerMinDeltas_0-10',\n",
       "  Counter({-205.3: 1, -200.00000000000003: 1, 0.0: 1})),\n",
       " ('damageTakenDiffPerMinDeltas_10-20', Counter({0.0: 3})),\n",
       " ('damageTakenDiffPerMinDeltas_20-30', Counter({0.0: 3})),\n",
       " ('damageTakenDiffPerMinDeltas_30-end', Counter({0.0: 3})),\n",
       " ('damageTakenPerMinDeltas_0-10', Counter({388.2: 1, 478.0: 1, 564.3: 1})),\n",
       " ('damageTakenPerMinDeltas_10-20', Counter({0.0: 2, 862.0999999999997: 1})),\n",
       " ('damageTakenPerMinDeltas_20-30', Counter({0.0: 3})),\n",
       " ('damageTakenPerMinDeltas_30-end', Counter({0.0: 3})),\n",
       " ('deaths', Counter({0.0: 1, 2.0: 2})),\n",
       " ('doubleKills', Counter({0.0: 2, 3.0: 1})),\n",
       " ('firstBloodAssist', Counter({False: 3})),\n",
       " ('firstBloodKill', Counter({False: 3})),\n",
       " ('firstInhibitorAssist', Counter({True: 2, False: 1})),\n",
       " ('firstInhibitorKill', Counter({False: 3})),\n",
       " ('firstTowerAssist', Counter({False: 3})),\n",
       " ('firstTowerKill', Counter({False: 3})),\n",
       " ('goldEarned', Counter({8012.0: 1, 9014.0: 1, 10869.0: 1})),\n",
       " ('goldPerMinDeltas_0-10', Counter({496.3: 1, 318.3: 1, 353.0: 1})),\n",
       " ('goldPerMinDeltas_10-20', Counter({0.0: 2, 412.7: 1})),\n",
       " ('goldPerMinDeltas_20-30', Counter({0.0: 3})),\n",
       " ('goldPerMinDeltas_30-end', Counter({0.0: 3})),\n",
       " ('goldSpent', Counter({2850.0: 1, 8850.0: 1, 6800.0: 1})),\n",
       " ('id', Counter({4.0: 1, 2.0: 2})),\n",
       " ('inhibitorKills', Counter({0.0: 3})),\n",
       " ('item0', Counter({1054.0: 1, 3142.0: 1, 2003.0: 1})),\n",
       " ('item1', Counter({3044.0: 1, 3147.0: 1, 1055.0: 1})),\n",
       " ('item2', Counter({3067.0: 1, 3111.0: 1, 3133.0: 1})),\n",
       " ('item3', Counter({1001.0: 1, 1043.0: 1, 3071.0: 1})),\n",
       " ('item4', Counter({0.0: 1, 1036.0: 1, 3076.0: 1})),\n",
       " ('item5', Counter({0.0: 1, 1055.0: 1, 3086.0: 1})),\n",
       " ('item6', Counter({3340.0: 3})),\n",
       " ('killingSprees', Counter({1.0: 1, 2.0: 1, 3.0: 1})),\n",
       " ('kills', Counter({13.0: 2, 10.0: 1})),\n",
       " ('lane', Counter({'MIDDLE': 1, 'NONE': 1, 'JUNGLE': 1})),\n",
       " ('largestCriticalStrike', Counter({456.0: 1, 0.0: 1, 499.0: 1})),\n",
       " ('largestKillingSpree', Counter({13.0: 1, 9.0: 1, 5.0: 1})),\n",
       " ('largestMultiKill', Counter({1.0: 2, 2.0: 1})),\n",
       " ('latest_match_time',\n",
       "  Counter({'2018-01-17T06:05:14.227000+00:00': 1,\n",
       "           '2018-03-10T14:58:21.007000+00:00': 1,\n",
       "           '2018-03-21T08:32:17.048000+00:00': 1})),\n",
       " ('longestTimeSpentLiving', Counter({0.0: 1, 654.0: 1, 419.0: 1})),\n",
       " ('magicDamageDealt', Counter({3005.0: 1, 968.0: 1, 1229.0: 1})),\n",
       " ('magicDamageDealtToChampions', Counter({2392.0: 1, 888.0: 1, 288.0: 1})),\n",
       " ('magicalDamageTaken', Counter({1005.0: 1, 3374.0: 1, 2291.0: 1})),\n",
       " ('neutralMinionsKilled', Counter({0.0: 1, 4.0: 1, 16.0: 1})),\n",
       " ('neutralMinionsKilledEnemyJungle', Counter({0.0: 2, 4.0: 1})),\n",
       " ('neutralMinionsKilledTeamJungle', Counter({0.0: 2, 13.0: 1})),\n",
       " ('objectivePlayerScore', Counter({0.0: 3})),\n",
       " ('participantId', Counter({4.0: 1, 2.0: 2})),\n",
       " ('pentaKills', Counter({0.0: 3})),\n",
       " ('perkPrimaryStyle', Counter({8400.0: 1, 8100.0: 2})),\n",
       " ('perkSubStyle', Counter({8200.0: 1, 8000.0: 2})),\n",
       " ('physicalDamageDealt', Counter({48136.0: 1, 46817.0: 1, 67383.0: 1})),\n",
       " ('physicalDamageDealtToChampions',\n",
       "  Counter({11330.0: 1, 12594.0: 1, 10907.0: 1})),\n",
       " ('physicalDamageTaken', Counter({7246.0: 1, 7109.0: 1, 14573.0: 1})),\n",
       " ('playerScore0', Counter({0.0: 3})),\n",
       " ('playerScore1', Counter({0.0: 3})),\n",
       " ('playerScore2', Counter({0.0: 3})),\n",
       " ('playerScore3', Counter({0.0: 3})),\n",
       " ('playerScore4', Counter({0.0: 3})),\n",
       " ('playerScore5', Counter({0.0: 3})),\n",
       " ('playerScore6', Counter({0.0: 3})),\n",
       " ('playerScore7', Counter({0.0: 3})),\n",
       " ('playerScore8', Counter({0.0: 3})),\n",
       " ('playerScore9', Counter({0.0: 3})),\n",
       " ('quadraKills', Counter({0.0: 3})),\n",
       " ('role', Counter({'SOLO': 1, 'DUO_SUPPORT': 1, 'NONE': 1})),\n",
       " ('sightWardsBoughtInGame', Counter({0.0: 3})),\n",
       " ('timeCCingOthers', Counter({18.0: 1, 59.0: 1, 36.0: 1})),\n",
       " ('totalDamageDealt', Counter({51142.0: 1, 52490.0: 1, 70890.0: 1})),\n",
       " ('totalDamageDealtToChampions',\n",
       "  Counter({13723.0: 1, 13817.0: 1, 11789.0: 1})),\n",
       " ('totalDamageTaken', Counter({8252.0: 1, 11503.0: 1, 16942.0: 1})),\n",
       " ('totalHeal', Counter({1128.0: 1, 3662.0: 1, 8791.0: 1})),\n",
       " ('totalMinionsKilled', Counter({63.0: 1, 58.0: 1, 50.0: 1})),\n",
       " ('totalPlayerScore', Counter({0.0: 3})),\n",
       " ('totalScoreRank', Counter({0.0: 3})),\n",
       " ('totalTimeCrowdControlDealt', Counter({274.0: 1, 123.0: 1, 145.0: 1})),\n",
       " ('totalUnitsHealed', Counter({1.0: 3})),\n",
       " ('tripleKills', Counter({0.0: 3})),\n",
       " ('trueDamageDealt', Counter({0.0: 1, 4704.0: 1, 2277.0: 1})),\n",
       " ('trueDamageDealtToChampions', Counter({0.0: 1, 334.0: 1, 593.0: 1})),\n",
       " ('trueDamageTaken', Counter({0.0: 1, 1019.0: 1, 77.0: 1})),\n",
       " ('turretKills', Counter({2.0: 2, 0.0: 1})),\n",
       " ('unrealKills', Counter({0.0: 3})),\n",
       " ('visionScore', Counter({0.0: 2, 3.0: 1})),\n",
       " ('visionWardsBoughtInGame', Counter({0.0: 3})),\n",
       " ('wardsKilled', Counter({0.0: 3})),\n",
       " ('wardsPlaced', Counter({0.0: 2, 3.0: 1})),\n",
       " ('win', Counter({True: 3})),\n",
       " ('xpDiffPerMinDeltas_0-10',\n",
       "  Counter({371.20000000000016: 1, 84.65999999999998: 1, 0.0: 1})),\n",
       " ('xpDiffPerMinDeltas_10-20', Counter({0.0: 3})),\n",
       " ('xpDiffPerMinDeltas_20-30', Counter({0.0: 3})),\n",
       " ('xpDiffPerMinDeltas_30-end', Counter({0.0: 3})),\n",
       " ('xpPerMinDeltas_0-10', Counter({583.9000000000002: 1, 363.9: 1, 331.8: 1})),\n",
       " ('xpPerMinDeltas_10-20', Counter({0.0: 2, 464.2: 1})),\n",
       " ('xpPerMinDeltas_20-30', Counter({0.0: 3})),\n",
       " ('xpPerMinDeltas_30-end', Counter({0.0: 3}))]"
      ]
     },
     "execution_count": 3,
     "metadata": {},
     "output_type": "execute_result"
    }
   ],
   "source": [
    "[(feature, Counter(df[feature].head(n=3))) for feature in list(df)] # which features are categorical?"
   ]
  },
  {
   "cell_type": "markdown",
   "metadata": {},
   "source": [
    "Looks like just the 'lane' and 'role' features are categorical so let's OHE those. \n",
    "\n",
    "Note also, there are a couple True/False columns. Python and python libraries usually treats them as 1/0 already but we'll explicitly change them just in case it causes trouble later."
   ]
  },
  {
   "cell_type": "code",
   "execution_count": 4,
   "metadata": {},
   "outputs": [],
   "source": [
    "dummy_lane = pd.get_dummies(df['lane'])\n",
    "dummy_role = pd.get_dummies(df['role'])\n",
    "\n",
    "dummy_role.columns.values[3] = \"NO_ROLE\"\n",
    "dummy_lane.columns.values[3] = \"NO_LANE\""
   ]
  },
  {
   "cell_type": "code",
   "execution_count": 5,
   "metadata": {},
   "outputs": [
    {
     "data": {
      "text/html": [
       "<div>\n",
       "<style scoped>\n",
       "    .dataframe tbody tr th:only-of-type {\n",
       "        vertical-align: middle;\n",
       "    }\n",
       "\n",
       "    .dataframe tbody tr th {\n",
       "        vertical-align: top;\n",
       "    }\n",
       "\n",
       "    .dataframe thead th {\n",
       "        text-align: right;\n",
       "    }\n",
       "</style>\n",
       "<table border=\"1\" class=\"dataframe\">\n",
       "  <thead>\n",
       "    <tr style=\"text-align: right;\">\n",
       "      <th></th>\n",
       "      <th>BOTTOM</th>\n",
       "      <th>JUNGLE</th>\n",
       "      <th>MIDDLE</th>\n",
       "      <th>NO_LANE</th>\n",
       "      <th>TOP</th>\n",
       "    </tr>\n",
       "  </thead>\n",
       "  <tbody>\n",
       "    <tr>\n",
       "      <th>0</th>\n",
       "      <td>0</td>\n",
       "      <td>0</td>\n",
       "      <td>1</td>\n",
       "      <td>0</td>\n",
       "      <td>0</td>\n",
       "    </tr>\n",
       "    <tr>\n",
       "      <th>1</th>\n",
       "      <td>0</td>\n",
       "      <td>0</td>\n",
       "      <td>0</td>\n",
       "      <td>1</td>\n",
       "      <td>0</td>\n",
       "    </tr>\n",
       "    <tr>\n",
       "      <th>2</th>\n",
       "      <td>0</td>\n",
       "      <td>1</td>\n",
       "      <td>0</td>\n",
       "      <td>0</td>\n",
       "      <td>0</td>\n",
       "    </tr>\n",
       "    <tr>\n",
       "      <th>3</th>\n",
       "      <td>0</td>\n",
       "      <td>0</td>\n",
       "      <td>0</td>\n",
       "      <td>0</td>\n",
       "      <td>1</td>\n",
       "    </tr>\n",
       "    <tr>\n",
       "      <th>4</th>\n",
       "      <td>0</td>\n",
       "      <td>1</td>\n",
       "      <td>0</td>\n",
       "      <td>0</td>\n",
       "      <td>0</td>\n",
       "    </tr>\n",
       "  </tbody>\n",
       "</table>\n",
       "</div>"
      ],
      "text/plain": [
       "   BOTTOM  JUNGLE  MIDDLE  NO_LANE  TOP\n",
       "0       0       0       1        0    0\n",
       "1       0       0       0        1    0\n",
       "2       0       1       0        0    0\n",
       "3       0       0       0        0    1\n",
       "4       0       1       0        0    0"
      ]
     },
     "execution_count": 5,
     "metadata": {},
     "output_type": "execute_result"
    }
   ],
   "source": [
    "dummy_lane.head()"
   ]
  },
  {
   "cell_type": "code",
   "execution_count": 6,
   "metadata": {},
   "outputs": [
    {
     "data": {
      "text/html": [
       "<div>\n",
       "<style scoped>\n",
       "    .dataframe tbody tr th:only-of-type {\n",
       "        vertical-align: middle;\n",
       "    }\n",
       "\n",
       "    .dataframe tbody tr th {\n",
       "        vertical-align: top;\n",
       "    }\n",
       "\n",
       "    .dataframe thead th {\n",
       "        text-align: right;\n",
       "    }\n",
       "</style>\n",
       "<table border=\"1\" class=\"dataframe\">\n",
       "  <thead>\n",
       "    <tr style=\"text-align: right;\">\n",
       "      <th></th>\n",
       "      <th>DUO</th>\n",
       "      <th>DUO_CARRY</th>\n",
       "      <th>DUO_SUPPORT</th>\n",
       "      <th>NO_ROLE</th>\n",
       "      <th>SOLO</th>\n",
       "    </tr>\n",
       "  </thead>\n",
       "  <tbody>\n",
       "    <tr>\n",
       "      <th>0</th>\n",
       "      <td>0</td>\n",
       "      <td>0</td>\n",
       "      <td>0</td>\n",
       "      <td>0</td>\n",
       "      <td>1</td>\n",
       "    </tr>\n",
       "    <tr>\n",
       "      <th>1</th>\n",
       "      <td>0</td>\n",
       "      <td>0</td>\n",
       "      <td>1</td>\n",
       "      <td>0</td>\n",
       "      <td>0</td>\n",
       "    </tr>\n",
       "    <tr>\n",
       "      <th>2</th>\n",
       "      <td>0</td>\n",
       "      <td>0</td>\n",
       "      <td>0</td>\n",
       "      <td>1</td>\n",
       "      <td>0</td>\n",
       "    </tr>\n",
       "    <tr>\n",
       "      <th>3</th>\n",
       "      <td>0</td>\n",
       "      <td>0</td>\n",
       "      <td>1</td>\n",
       "      <td>0</td>\n",
       "      <td>0</td>\n",
       "    </tr>\n",
       "    <tr>\n",
       "      <th>4</th>\n",
       "      <td>0</td>\n",
       "      <td>0</td>\n",
       "      <td>0</td>\n",
       "      <td>1</td>\n",
       "      <td>0</td>\n",
       "    </tr>\n",
       "  </tbody>\n",
       "</table>\n",
       "</div>"
      ],
      "text/plain": [
       "   DUO  DUO_CARRY  DUO_SUPPORT  NO_ROLE  SOLO\n",
       "0    0          0            0        0     1\n",
       "1    0          0            1        0     0\n",
       "2    0          0            0        1     0\n",
       "3    0          0            1        0     0\n",
       "4    0          0            0        1     0"
      ]
     },
     "execution_count": 6,
     "metadata": {},
     "output_type": "execute_result"
    }
   ],
   "source": [
    "dummy_role.head()"
   ]
  },
  {
   "cell_type": "code",
   "execution_count": 7,
   "metadata": {},
   "outputs": [],
   "source": [
    "df = df.drop(['lane', 'role'], axis=1)\n",
    "df = df.join([dummy_role,dummy_lane])"
   ]
  },
  {
   "cell_type": "code",
   "execution_count": 8,
   "metadata": {},
   "outputs": [],
   "source": [
    "boolean_features = ['firstBloodAssist', 'firstBloodKill', 'firstInhibitorAssist', \n",
    "                    'firstInhibitorKill', 'firstTowerAssist', 'firstTowerKill', 'win']\n",
    "\n",
    "df[boolean_features] = df[boolean_features].astype(int)"
   ]
  },
  {
   "cell_type": "markdown",
   "metadata": {},
   "source": [
    "Let's just make sure all our features are numeric now:"
   ]
  },
  {
   "cell_type": "code",
   "execution_count": 9,
   "metadata": {},
   "outputs": [
    {
     "data": {
      "text/html": [
       "<div>\n",
       "<style scoped>\n",
       "    .dataframe tbody tr th:only-of-type {\n",
       "        vertical-align: middle;\n",
       "    }\n",
       "\n",
       "    .dataframe tbody tr th {\n",
       "        vertical-align: top;\n",
       "    }\n",
       "\n",
       "    .dataframe thead th {\n",
       "        text-align: right;\n",
       "    }\n",
       "</style>\n",
       "<table border=\"1\" class=\"dataframe\">\n",
       "  <thead>\n",
       "    <tr style=\"text-align: right;\">\n",
       "      <th></th>\n",
       "      <th>summoner_id</th>\n",
       "      <th>summoner_name</th>\n",
       "      <th>summoner_level</th>\n",
       "      <th>total_matches</th>\n",
       "      <th>first_match_time</th>\n",
       "      <th>first_match_duration</th>\n",
       "      <th>first_match_id</th>\n",
       "      <th>assists</th>\n",
       "      <th>champLevel</th>\n",
       "      <th>combatPlayerScore</th>\n",
       "      <th>creepsPerMinDeltas_0-10</th>\n",
       "      <th>creepsPerMinDeltas_10-20</th>\n",
       "      <th>creepsPerMinDeltas_20-30</th>\n",
       "      <th>creepsPerMinDeltas_30-end</th>\n",
       "      <th>csDiffPerMinDeltas_0-10</th>\n",
       "      <th>csDiffPerMinDeltas_10-20</th>\n",
       "      <th>csDiffPerMinDeltas_20-30</th>\n",
       "      <th>csDiffPerMinDeltas_30-end</th>\n",
       "      <th>damageDealtToObjectives</th>\n",
       "      <th>damageDealtToTurrets</th>\n",
       "      <th>damageSelfMitigated</th>\n",
       "      <th>damageTakenDiffPerMinDeltas_0-10</th>\n",
       "      <th>damageTakenDiffPerMinDeltas_10-20</th>\n",
       "      <th>damageTakenDiffPerMinDeltas_20-30</th>\n",
       "      <th>damageTakenDiffPerMinDeltas_30-end</th>\n",
       "      <th>damageTakenPerMinDeltas_0-10</th>\n",
       "      <th>damageTakenPerMinDeltas_10-20</th>\n",
       "      <th>damageTakenPerMinDeltas_20-30</th>\n",
       "      <th>damageTakenPerMinDeltas_30-end</th>\n",
       "      <th>deaths</th>\n",
       "      <th>doubleKills</th>\n",
       "      <th>firstBloodAssist</th>\n",
       "      <th>firstBloodKill</th>\n",
       "      <th>firstInhibitorAssist</th>\n",
       "      <th>firstInhibitorKill</th>\n",
       "      <th>firstTowerAssist</th>\n",
       "      <th>firstTowerKill</th>\n",
       "      <th>goldEarned</th>\n",
       "      <th>goldPerMinDeltas_0-10</th>\n",
       "      <th>goldPerMinDeltas_10-20</th>\n",
       "      <th>goldPerMinDeltas_20-30</th>\n",
       "      <th>goldPerMinDeltas_30-end</th>\n",
       "      <th>goldSpent</th>\n",
       "      <th>id</th>\n",
       "      <th>inhibitorKills</th>\n",
       "      <th>item0</th>\n",
       "      <th>item1</th>\n",
       "      <th>item2</th>\n",
       "      <th>item3</th>\n",
       "      <th>item4</th>\n",
       "      <th>item5</th>\n",
       "      <th>item6</th>\n",
       "      <th>killingSprees</th>\n",
       "      <th>kills</th>\n",
       "      <th>largestCriticalStrike</th>\n",
       "      <th>largestKillingSpree</th>\n",
       "      <th>largestMultiKill</th>\n",
       "      <th>latest_match_time</th>\n",
       "      <th>longestTimeSpentLiving</th>\n",
       "      <th>magicDamageDealt</th>\n",
       "      <th>magicDamageDealtToChampions</th>\n",
       "      <th>magicalDamageTaken</th>\n",
       "      <th>neutralMinionsKilled</th>\n",
       "      <th>neutralMinionsKilledEnemyJungle</th>\n",
       "      <th>neutralMinionsKilledTeamJungle</th>\n",
       "      <th>objectivePlayerScore</th>\n",
       "      <th>participantId</th>\n",
       "      <th>pentaKills</th>\n",
       "      <th>perkPrimaryStyle</th>\n",
       "      <th>perkSubStyle</th>\n",
       "      <th>physicalDamageDealt</th>\n",
       "      <th>physicalDamageDealtToChampions</th>\n",
       "      <th>physicalDamageTaken</th>\n",
       "      <th>playerScore0</th>\n",
       "      <th>playerScore1</th>\n",
       "      <th>playerScore2</th>\n",
       "      <th>playerScore3</th>\n",
       "      <th>playerScore4</th>\n",
       "      <th>playerScore5</th>\n",
       "      <th>playerScore6</th>\n",
       "      <th>playerScore7</th>\n",
       "      <th>playerScore8</th>\n",
       "      <th>playerScore9</th>\n",
       "      <th>quadraKills</th>\n",
       "      <th>sightWardsBoughtInGame</th>\n",
       "      <th>timeCCingOthers</th>\n",
       "      <th>totalDamageDealt</th>\n",
       "      <th>totalDamageDealtToChampions</th>\n",
       "      <th>totalDamageTaken</th>\n",
       "      <th>totalHeal</th>\n",
       "      <th>totalMinionsKilled</th>\n",
       "      <th>totalPlayerScore</th>\n",
       "      <th>totalScoreRank</th>\n",
       "      <th>totalTimeCrowdControlDealt</th>\n",
       "      <th>totalUnitsHealed</th>\n",
       "      <th>tripleKills</th>\n",
       "      <th>trueDamageDealt</th>\n",
       "      <th>trueDamageDealtToChampions</th>\n",
       "      <th>trueDamageTaken</th>\n",
       "      <th>turretKills</th>\n",
       "      <th>unrealKills</th>\n",
       "      <th>visionScore</th>\n",
       "      <th>visionWardsBoughtInGame</th>\n",
       "      <th>wardsKilled</th>\n",
       "      <th>wardsPlaced</th>\n",
       "      <th>win</th>\n",
       "      <th>xpDiffPerMinDeltas_0-10</th>\n",
       "      <th>xpDiffPerMinDeltas_10-20</th>\n",
       "      <th>xpDiffPerMinDeltas_20-30</th>\n",
       "      <th>xpDiffPerMinDeltas_30-end</th>\n",
       "      <th>xpPerMinDeltas_0-10</th>\n",
       "      <th>xpPerMinDeltas_10-20</th>\n",
       "      <th>xpPerMinDeltas_20-30</th>\n",
       "      <th>xpPerMinDeltas_30-end</th>\n",
       "      <th>DUO</th>\n",
       "      <th>DUO_CARRY</th>\n",
       "      <th>DUO_SUPPORT</th>\n",
       "      <th>NO_ROLE</th>\n",
       "      <th>SOLO</th>\n",
       "      <th>BOTTOM</th>\n",
       "      <th>JUNGLE</th>\n",
       "      <th>MIDDLE</th>\n",
       "      <th>NO_LANE</th>\n",
       "      <th>TOP</th>\n",
       "    </tr>\n",
       "  </thead>\n",
       "  <tbody>\n",
       "    <tr>\n",
       "      <th>0</th>\n",
       "      <td>92201075</td>\n",
       "      <td>TrEx18</td>\n",
       "      <td>5</td>\n",
       "      <td>7</td>\n",
       "      <td>2018-01-16T05:50:54.986000+00:00</td>\n",
       "      <td>0 days 00:14:00.000000000</td>\n",
       "      <td>2695060245</td>\n",
       "      <td>16.0</td>\n",
       "      <td>12.0</td>\n",
       "      <td>0.0</td>\n",
       "      <td>5.1</td>\n",
       "      <td>0.0</td>\n",
       "      <td>0.0</td>\n",
       "      <td>0.0</td>\n",
       "      <td>4.80</td>\n",
       "      <td>0.0</td>\n",
       "      <td>0.0</td>\n",
       "      <td>0.0</td>\n",
       "      <td>4624.0</td>\n",
       "      <td>4624.0</td>\n",
       "      <td>4268.0</td>\n",
       "      <td>-205.3</td>\n",
       "      <td>0.0</td>\n",
       "      <td>0.0</td>\n",
       "      <td>0.0</td>\n",
       "      <td>388.2</td>\n",
       "      <td>0.0</td>\n",
       "      <td>0.0</td>\n",
       "      <td>0.0</td>\n",
       "      <td>0.0</td>\n",
       "      <td>0.0</td>\n",
       "      <td>0</td>\n",
       "      <td>0</td>\n",
       "      <td>1</td>\n",
       "      <td>0</td>\n",
       "      <td>0</td>\n",
       "      <td>0</td>\n",
       "      <td>8012.0</td>\n",
       "      <td>496.3</td>\n",
       "      <td>0.0</td>\n",
       "      <td>0.0</td>\n",
       "      <td>0.0</td>\n",
       "      <td>2850.0</td>\n",
       "      <td>4.0</td>\n",
       "      <td>0.0</td>\n",
       "      <td>1054.0</td>\n",
       "      <td>3044.0</td>\n",
       "      <td>3067.0</td>\n",
       "      <td>1001.0</td>\n",
       "      <td>0.0</td>\n",
       "      <td>0.0</td>\n",
       "      <td>3340.0</td>\n",
       "      <td>1.0</td>\n",
       "      <td>13.0</td>\n",
       "      <td>456.0</td>\n",
       "      <td>13.0</td>\n",
       "      <td>1.0</td>\n",
       "      <td>2018-01-17T06:05:14.227000+00:00</td>\n",
       "      <td>0.0</td>\n",
       "      <td>3005.0</td>\n",
       "      <td>2392.0</td>\n",
       "      <td>1005.0</td>\n",
       "      <td>0.0</td>\n",
       "      <td>0.0</td>\n",
       "      <td>0.0</td>\n",
       "      <td>0.0</td>\n",
       "      <td>4.0</td>\n",
       "      <td>0.0</td>\n",
       "      <td>8400.0</td>\n",
       "      <td>8200.0</td>\n",
       "      <td>48136.0</td>\n",
       "      <td>11330.0</td>\n",
       "      <td>7246.0</td>\n",
       "      <td>0.0</td>\n",
       "      <td>0.0</td>\n",
       "      <td>0.0</td>\n",
       "      <td>0.0</td>\n",
       "      <td>0.0</td>\n",
       "      <td>0.0</td>\n",
       "      <td>0.0</td>\n",
       "      <td>0.0</td>\n",
       "      <td>0.0</td>\n",
       "      <td>0.0</td>\n",
       "      <td>0.0</td>\n",
       "      <td>0.0</td>\n",
       "      <td>18.0</td>\n",
       "      <td>51142.0</td>\n",
       "      <td>13723.0</td>\n",
       "      <td>8252.0</td>\n",
       "      <td>1128.0</td>\n",
       "      <td>63.0</td>\n",
       "      <td>0.0</td>\n",
       "      <td>0.0</td>\n",
       "      <td>274.0</td>\n",
       "      <td>1.0</td>\n",
       "      <td>0.0</td>\n",
       "      <td>0.0</td>\n",
       "      <td>0.0</td>\n",
       "      <td>0.0</td>\n",
       "      <td>2.0</td>\n",
       "      <td>0.0</td>\n",
       "      <td>0.0</td>\n",
       "      <td>0.0</td>\n",
       "      <td>0.0</td>\n",
       "      <td>0.0</td>\n",
       "      <td>1</td>\n",
       "      <td>371.20</td>\n",
       "      <td>0.0</td>\n",
       "      <td>0.0</td>\n",
       "      <td>0.0</td>\n",
       "      <td>583.9</td>\n",
       "      <td>0.0</td>\n",
       "      <td>0.0</td>\n",
       "      <td>0.0</td>\n",
       "      <td>0</td>\n",
       "      <td>0</td>\n",
       "      <td>0</td>\n",
       "      <td>0</td>\n",
       "      <td>1</td>\n",
       "      <td>0</td>\n",
       "      <td>0</td>\n",
       "      <td>1</td>\n",
       "      <td>0</td>\n",
       "      <td>0</td>\n",
       "    </tr>\n",
       "    <tr>\n",
       "      <th>1</th>\n",
       "      <td>93650017</td>\n",
       "      <td>iMain N01</td>\n",
       "      <td>5</td>\n",
       "      <td>6</td>\n",
       "      <td>2018-03-10T06:24:33.477000+00:00</td>\n",
       "      <td>0 days 00:16:41.000000000</td>\n",
       "      <td>2736710108</td>\n",
       "      <td>4.0</td>\n",
       "      <td>11.0</td>\n",
       "      <td>0.0</td>\n",
       "      <td>3.5</td>\n",
       "      <td>0.0</td>\n",
       "      <td>0.0</td>\n",
       "      <td>0.0</td>\n",
       "      <td>1.72</td>\n",
       "      <td>0.0</td>\n",
       "      <td>0.0</td>\n",
       "      <td>0.0</td>\n",
       "      <td>1885.0</td>\n",
       "      <td>1885.0</td>\n",
       "      <td>5206.0</td>\n",
       "      <td>-200.0</td>\n",
       "      <td>0.0</td>\n",
       "      <td>0.0</td>\n",
       "      <td>0.0</td>\n",
       "      <td>478.0</td>\n",
       "      <td>0.0</td>\n",
       "      <td>0.0</td>\n",
       "      <td>0.0</td>\n",
       "      <td>2.0</td>\n",
       "      <td>3.0</td>\n",
       "      <td>0</td>\n",
       "      <td>0</td>\n",
       "      <td>0</td>\n",
       "      <td>0</td>\n",
       "      <td>0</td>\n",
       "      <td>0</td>\n",
       "      <td>9014.0</td>\n",
       "      <td>318.3</td>\n",
       "      <td>0.0</td>\n",
       "      <td>0.0</td>\n",
       "      <td>0.0</td>\n",
       "      <td>8850.0</td>\n",
       "      <td>2.0</td>\n",
       "      <td>0.0</td>\n",
       "      <td>3142.0</td>\n",
       "      <td>3147.0</td>\n",
       "      <td>3111.0</td>\n",
       "      <td>1043.0</td>\n",
       "      <td>1036.0</td>\n",
       "      <td>1055.0</td>\n",
       "      <td>3340.0</td>\n",
       "      <td>2.0</td>\n",
       "      <td>13.0</td>\n",
       "      <td>0.0</td>\n",
       "      <td>9.0</td>\n",
       "      <td>2.0</td>\n",
       "      <td>2018-03-10T14:58:21.007000+00:00</td>\n",
       "      <td>654.0</td>\n",
       "      <td>968.0</td>\n",
       "      <td>888.0</td>\n",
       "      <td>3374.0</td>\n",
       "      <td>4.0</td>\n",
       "      <td>4.0</td>\n",
       "      <td>0.0</td>\n",
       "      <td>0.0</td>\n",
       "      <td>2.0</td>\n",
       "      <td>0.0</td>\n",
       "      <td>8100.0</td>\n",
       "      <td>8000.0</td>\n",
       "      <td>46817.0</td>\n",
       "      <td>12594.0</td>\n",
       "      <td>7109.0</td>\n",
       "      <td>0.0</td>\n",
       "      <td>0.0</td>\n",
       "      <td>0.0</td>\n",
       "      <td>0.0</td>\n",
       "      <td>0.0</td>\n",
       "      <td>0.0</td>\n",
       "      <td>0.0</td>\n",
       "      <td>0.0</td>\n",
       "      <td>0.0</td>\n",
       "      <td>0.0</td>\n",
       "      <td>0.0</td>\n",
       "      <td>0.0</td>\n",
       "      <td>59.0</td>\n",
       "      <td>52490.0</td>\n",
       "      <td>13817.0</td>\n",
       "      <td>11503.0</td>\n",
       "      <td>3662.0</td>\n",
       "      <td>58.0</td>\n",
       "      <td>0.0</td>\n",
       "      <td>0.0</td>\n",
       "      <td>123.0</td>\n",
       "      <td>1.0</td>\n",
       "      <td>0.0</td>\n",
       "      <td>4704.0</td>\n",
       "      <td>334.0</td>\n",
       "      <td>1019.0</td>\n",
       "      <td>0.0</td>\n",
       "      <td>0.0</td>\n",
       "      <td>3.0</td>\n",
       "      <td>0.0</td>\n",
       "      <td>0.0</td>\n",
       "      <td>3.0</td>\n",
       "      <td>1</td>\n",
       "      <td>84.66</td>\n",
       "      <td>0.0</td>\n",
       "      <td>0.0</td>\n",
       "      <td>0.0</td>\n",
       "      <td>363.9</td>\n",
       "      <td>0.0</td>\n",
       "      <td>0.0</td>\n",
       "      <td>0.0</td>\n",
       "      <td>0</td>\n",
       "      <td>0</td>\n",
       "      <td>1</td>\n",
       "      <td>0</td>\n",
       "      <td>0</td>\n",
       "      <td>0</td>\n",
       "      <td>0</td>\n",
       "      <td>0</td>\n",
       "      <td>1</td>\n",
       "      <td>0</td>\n",
       "    </tr>\n",
       "    <tr>\n",
       "      <th>2</th>\n",
       "      <td>92729877</td>\n",
       "      <td>luexolu99</td>\n",
       "      <td>5</td>\n",
       "      <td>4</td>\n",
       "      <td>2018-03-10T06:56:11.750000+00:00</td>\n",
       "      <td>0 days 00:22:54.000000000</td>\n",
       "      <td>2736716714</td>\n",
       "      <td>10.0</td>\n",
       "      <td>13.0</td>\n",
       "      <td>0.0</td>\n",
       "      <td>0.8</td>\n",
       "      <td>3.6</td>\n",
       "      <td>0.0</td>\n",
       "      <td>0.0</td>\n",
       "      <td>0.00</td>\n",
       "      <td>0.0</td>\n",
       "      <td>0.0</td>\n",
       "      <td>0.0</td>\n",
       "      <td>6838.0</td>\n",
       "      <td>5972.0</td>\n",
       "      <td>11147.0</td>\n",
       "      <td>0.0</td>\n",
       "      <td>0.0</td>\n",
       "      <td>0.0</td>\n",
       "      <td>0.0</td>\n",
       "      <td>564.3</td>\n",
       "      <td>862.1</td>\n",
       "      <td>0.0</td>\n",
       "      <td>0.0</td>\n",
       "      <td>2.0</td>\n",
       "      <td>0.0</td>\n",
       "      <td>0</td>\n",
       "      <td>0</td>\n",
       "      <td>1</td>\n",
       "      <td>0</td>\n",
       "      <td>0</td>\n",
       "      <td>0</td>\n",
       "      <td>10869.0</td>\n",
       "      <td>353.0</td>\n",
       "      <td>412.7</td>\n",
       "      <td>0.0</td>\n",
       "      <td>0.0</td>\n",
       "      <td>6800.0</td>\n",
       "      <td>2.0</td>\n",
       "      <td>0.0</td>\n",
       "      <td>2003.0</td>\n",
       "      <td>1055.0</td>\n",
       "      <td>3133.0</td>\n",
       "      <td>3071.0</td>\n",
       "      <td>3076.0</td>\n",
       "      <td>3086.0</td>\n",
       "      <td>3340.0</td>\n",
       "      <td>3.0</td>\n",
       "      <td>10.0</td>\n",
       "      <td>499.0</td>\n",
       "      <td>5.0</td>\n",
       "      <td>1.0</td>\n",
       "      <td>2018-03-21T08:32:17.048000+00:00</td>\n",
       "      <td>419.0</td>\n",
       "      <td>1229.0</td>\n",
       "      <td>288.0</td>\n",
       "      <td>2291.0</td>\n",
       "      <td>16.0</td>\n",
       "      <td>0.0</td>\n",
       "      <td>13.0</td>\n",
       "      <td>0.0</td>\n",
       "      <td>2.0</td>\n",
       "      <td>0.0</td>\n",
       "      <td>8100.0</td>\n",
       "      <td>8000.0</td>\n",
       "      <td>67383.0</td>\n",
       "      <td>10907.0</td>\n",
       "      <td>14573.0</td>\n",
       "      <td>0.0</td>\n",
       "      <td>0.0</td>\n",
       "      <td>0.0</td>\n",
       "      <td>0.0</td>\n",
       "      <td>0.0</td>\n",
       "      <td>0.0</td>\n",
       "      <td>0.0</td>\n",
       "      <td>0.0</td>\n",
       "      <td>0.0</td>\n",
       "      <td>0.0</td>\n",
       "      <td>0.0</td>\n",
       "      <td>0.0</td>\n",
       "      <td>36.0</td>\n",
       "      <td>70890.0</td>\n",
       "      <td>11789.0</td>\n",
       "      <td>16942.0</td>\n",
       "      <td>8791.0</td>\n",
       "      <td>50.0</td>\n",
       "      <td>0.0</td>\n",
       "      <td>0.0</td>\n",
       "      <td>145.0</td>\n",
       "      <td>1.0</td>\n",
       "      <td>0.0</td>\n",
       "      <td>2277.0</td>\n",
       "      <td>593.0</td>\n",
       "      <td>77.0</td>\n",
       "      <td>2.0</td>\n",
       "      <td>0.0</td>\n",
       "      <td>0.0</td>\n",
       "      <td>0.0</td>\n",
       "      <td>0.0</td>\n",
       "      <td>0.0</td>\n",
       "      <td>1</td>\n",
       "      <td>0.00</td>\n",
       "      <td>0.0</td>\n",
       "      <td>0.0</td>\n",
       "      <td>0.0</td>\n",
       "      <td>331.8</td>\n",
       "      <td>464.2</td>\n",
       "      <td>0.0</td>\n",
       "      <td>0.0</td>\n",
       "      <td>0</td>\n",
       "      <td>0</td>\n",
       "      <td>0</td>\n",
       "      <td>1</td>\n",
       "      <td>0</td>\n",
       "      <td>0</td>\n",
       "      <td>1</td>\n",
       "      <td>0</td>\n",
       "      <td>0</td>\n",
       "      <td>0</td>\n",
       "    </tr>\n",
       "    <tr>\n",
       "      <th>3</th>\n",
       "      <td>93839689</td>\n",
       "      <td>Md95359</td>\n",
       "      <td>1</td>\n",
       "      <td>1</td>\n",
       "      <td>2018-03-09T13:05:59.377000+00:00</td>\n",
       "      <td>0 days 00:28:54.000000000</td>\n",
       "      <td>2736217337</td>\n",
       "      <td>0.0</td>\n",
       "      <td>1.0</td>\n",
       "      <td>0.0</td>\n",
       "      <td>0.0</td>\n",
       "      <td>0.0</td>\n",
       "      <td>0.0</td>\n",
       "      <td>0.0</td>\n",
       "      <td>0.00</td>\n",
       "      <td>0.0</td>\n",
       "      <td>0.0</td>\n",
       "      <td>0.0</td>\n",
       "      <td>0.0</td>\n",
       "      <td>0.0</td>\n",
       "      <td>0.0</td>\n",
       "      <td>0.0</td>\n",
       "      <td>0.0</td>\n",
       "      <td>0.0</td>\n",
       "      <td>0.0</td>\n",
       "      <td>0.0</td>\n",
       "      <td>0.0</td>\n",
       "      <td>0.0</td>\n",
       "      <td>0.0</td>\n",
       "      <td>0.0</td>\n",
       "      <td>0.0</td>\n",
       "      <td>0</td>\n",
       "      <td>0</td>\n",
       "      <td>0</td>\n",
       "      <td>0</td>\n",
       "      <td>0</td>\n",
       "      <td>0</td>\n",
       "      <td>5089.0</td>\n",
       "      <td>100.0</td>\n",
       "      <td>164.5</td>\n",
       "      <td>0.0</td>\n",
       "      <td>0.0</td>\n",
       "      <td>0.0</td>\n",
       "      <td>3.0</td>\n",
       "      <td>0.0</td>\n",
       "      <td>0.0</td>\n",
       "      <td>0.0</td>\n",
       "      <td>0.0</td>\n",
       "      <td>0.0</td>\n",
       "      <td>0.0</td>\n",
       "      <td>0.0</td>\n",
       "      <td>0.0</td>\n",
       "      <td>0.0</td>\n",
       "      <td>0.0</td>\n",
       "      <td>0.0</td>\n",
       "      <td>0.0</td>\n",
       "      <td>0.0</td>\n",
       "      <td>2018-03-09T13:05:59.377000+00:00</td>\n",
       "      <td>0.0</td>\n",
       "      <td>0.0</td>\n",
       "      <td>0.0</td>\n",
       "      <td>0.0</td>\n",
       "      <td>0.0</td>\n",
       "      <td>0.0</td>\n",
       "      <td>0.0</td>\n",
       "      <td>0.0</td>\n",
       "      <td>3.0</td>\n",
       "      <td>0.0</td>\n",
       "      <td>8400.0</td>\n",
       "      <td>8200.0</td>\n",
       "      <td>0.0</td>\n",
       "      <td>0.0</td>\n",
       "      <td>0.0</td>\n",
       "      <td>0.0</td>\n",
       "      <td>0.0</td>\n",
       "      <td>0.0</td>\n",
       "      <td>0.0</td>\n",
       "      <td>0.0</td>\n",
       "      <td>0.0</td>\n",
       "      <td>0.0</td>\n",
       "      <td>0.0</td>\n",
       "      <td>0.0</td>\n",
       "      <td>0.0</td>\n",
       "      <td>0.0</td>\n",
       "      <td>0.0</td>\n",
       "      <td>0.0</td>\n",
       "      <td>0.0</td>\n",
       "      <td>0.0</td>\n",
       "      <td>0.0</td>\n",
       "      <td>0.0</td>\n",
       "      <td>0.0</td>\n",
       "      <td>0.0</td>\n",
       "      <td>0.0</td>\n",
       "      <td>0.0</td>\n",
       "      <td>0.0</td>\n",
       "      <td>0.0</td>\n",
       "      <td>0.0</td>\n",
       "      <td>0.0</td>\n",
       "      <td>0.0</td>\n",
       "      <td>0.0</td>\n",
       "      <td>0.0</td>\n",
       "      <td>0.0</td>\n",
       "      <td>0.0</td>\n",
       "      <td>0.0</td>\n",
       "      <td>0.0</td>\n",
       "      <td>1</td>\n",
       "      <td>0.00</td>\n",
       "      <td>0.0</td>\n",
       "      <td>0.0</td>\n",
       "      <td>0.0</td>\n",
       "      <td>0.0</td>\n",
       "      <td>0.0</td>\n",
       "      <td>0.0</td>\n",
       "      <td>0.0</td>\n",
       "      <td>0</td>\n",
       "      <td>0</td>\n",
       "      <td>1</td>\n",
       "      <td>0</td>\n",
       "      <td>0</td>\n",
       "      <td>0</td>\n",
       "      <td>0</td>\n",
       "      <td>0</td>\n",
       "      <td>0</td>\n",
       "      <td>1</td>\n",
       "    </tr>\n",
       "    <tr>\n",
       "      <th>4</th>\n",
       "      <td>93599676</td>\n",
       "      <td>lwvvs</td>\n",
       "      <td>5</td>\n",
       "      <td>6</td>\n",
       "      <td>2018-03-09T11:42:58.309000+00:00</td>\n",
       "      <td>0 days 00:30:05.000000000</td>\n",
       "      <td>2736195812</td>\n",
       "      <td>7.0</td>\n",
       "      <td>17.0</td>\n",
       "      <td>0.0</td>\n",
       "      <td>4.1</td>\n",
       "      <td>4.0</td>\n",
       "      <td>3.1</td>\n",
       "      <td>0.0</td>\n",
       "      <td>4.10</td>\n",
       "      <td>4.0</td>\n",
       "      <td>3.0</td>\n",
       "      <td>0.0</td>\n",
       "      <td>12430.0</td>\n",
       "      <td>5835.0</td>\n",
       "      <td>24460.0</td>\n",
       "      <td>460.6</td>\n",
       "      <td>526.1</td>\n",
       "      <td>1591.4</td>\n",
       "      <td>0.0</td>\n",
       "      <td>460.6</td>\n",
       "      <td>526.1</td>\n",
       "      <td>1680.6</td>\n",
       "      <td>0.0</td>\n",
       "      <td>0.0</td>\n",
       "      <td>4.0</td>\n",
       "      <td>0</td>\n",
       "      <td>0</td>\n",
       "      <td>1</td>\n",
       "      <td>0</td>\n",
       "      <td>0</td>\n",
       "      <td>0</td>\n",
       "      <td>13502.0</td>\n",
       "      <td>291.5</td>\n",
       "      <td>357.5</td>\n",
       "      <td>649.7</td>\n",
       "      <td>0.0</td>\n",
       "      <td>7200.0</td>\n",
       "      <td>5.0</td>\n",
       "      <td>0.0</td>\n",
       "      <td>3044.0</td>\n",
       "      <td>3044.0</td>\n",
       "      <td>3111.0</td>\n",
       "      <td>1054.0</td>\n",
       "      <td>1036.0</td>\n",
       "      <td>3065.0</td>\n",
       "      <td>3340.0</td>\n",
       "      <td>1.0</td>\n",
       "      <td>18.0</td>\n",
       "      <td>0.0</td>\n",
       "      <td>18.0</td>\n",
       "      <td>4.0</td>\n",
       "      <td>2018-03-10T08:36:51.633000+00:00</td>\n",
       "      <td>0.0</td>\n",
       "      <td>2836.0</td>\n",
       "      <td>2836.0</td>\n",
       "      <td>8021.0</td>\n",
       "      <td>12.0</td>\n",
       "      <td>0.0</td>\n",
       "      <td>12.0</td>\n",
       "      <td>0.0</td>\n",
       "      <td>5.0</td>\n",
       "      <td>0.0</td>\n",
       "      <td>8400.0</td>\n",
       "      <td>8200.0</td>\n",
       "      <td>105334.0</td>\n",
       "      <td>27625.0</td>\n",
       "      <td>18651.0</td>\n",
       "      <td>0.0</td>\n",
       "      <td>0.0</td>\n",
       "      <td>0.0</td>\n",
       "      <td>0.0</td>\n",
       "      <td>0.0</td>\n",
       "      <td>0.0</td>\n",
       "      <td>0.0</td>\n",
       "      <td>0.0</td>\n",
       "      <td>0.0</td>\n",
       "      <td>0.0</td>\n",
       "      <td>1.0</td>\n",
       "      <td>0.0</td>\n",
       "      <td>17.0</td>\n",
       "      <td>114535.0</td>\n",
       "      <td>32503.0</td>\n",
       "      <td>26673.0</td>\n",
       "      <td>8576.0</td>\n",
       "      <td>112.0</td>\n",
       "      <td>0.0</td>\n",
       "      <td>0.0</td>\n",
       "      <td>88.0</td>\n",
       "      <td>3.0</td>\n",
       "      <td>2.0</td>\n",
       "      <td>6365.0</td>\n",
       "      <td>2041.0</td>\n",
       "      <td>0.0</td>\n",
       "      <td>2.0</td>\n",
       "      <td>0.0</td>\n",
       "      <td>1.0</td>\n",
       "      <td>0.0</td>\n",
       "      <td>0.0</td>\n",
       "      <td>1.0</td>\n",
       "      <td>1</td>\n",
       "      <td>538.60</td>\n",
       "      <td>429.1</td>\n",
       "      <td>783.3</td>\n",
       "      <td>0.0</td>\n",
       "      <td>538.6</td>\n",
       "      <td>429.1</td>\n",
       "      <td>806.5</td>\n",
       "      <td>0.0</td>\n",
       "      <td>0</td>\n",
       "      <td>0</td>\n",
       "      <td>0</td>\n",
       "      <td>1</td>\n",
       "      <td>0</td>\n",
       "      <td>0</td>\n",
       "      <td>1</td>\n",
       "      <td>0</td>\n",
       "      <td>0</td>\n",
       "      <td>0</td>\n",
       "    </tr>\n",
       "  </tbody>\n",
       "</table>\n",
       "</div>"
      ],
      "text/plain": [
       "   summoner_id summoner_name  summoner_level  total_matches  \\\n",
       "0     92201075        TrEx18               5              7   \n",
       "1     93650017     iMain N01               5              6   \n",
       "2     92729877     luexolu99               5              4   \n",
       "3     93839689       Md95359               1              1   \n",
       "4     93599676         lwvvs               5              6   \n",
       "\n",
       "                   first_match_time       first_match_duration  \\\n",
       "0  2018-01-16T05:50:54.986000+00:00  0 days 00:14:00.000000000   \n",
       "1  2018-03-10T06:24:33.477000+00:00  0 days 00:16:41.000000000   \n",
       "2  2018-03-10T06:56:11.750000+00:00  0 days 00:22:54.000000000   \n",
       "3  2018-03-09T13:05:59.377000+00:00  0 days 00:28:54.000000000   \n",
       "4  2018-03-09T11:42:58.309000+00:00  0 days 00:30:05.000000000   \n",
       "\n",
       "   first_match_id  assists  champLevel  combatPlayerScore  \\\n",
       "0      2695060245     16.0        12.0                0.0   \n",
       "1      2736710108      4.0        11.0                0.0   \n",
       "2      2736716714     10.0        13.0                0.0   \n",
       "3      2736217337      0.0         1.0                0.0   \n",
       "4      2736195812      7.0        17.0                0.0   \n",
       "\n",
       "   creepsPerMinDeltas_0-10  creepsPerMinDeltas_10-20  \\\n",
       "0                      5.1                       0.0   \n",
       "1                      3.5                       0.0   \n",
       "2                      0.8                       3.6   \n",
       "3                      0.0                       0.0   \n",
       "4                      4.1                       4.0   \n",
       "\n",
       "   creepsPerMinDeltas_20-30  creepsPerMinDeltas_30-end  \\\n",
       "0                       0.0                        0.0   \n",
       "1                       0.0                        0.0   \n",
       "2                       0.0                        0.0   \n",
       "3                       0.0                        0.0   \n",
       "4                       3.1                        0.0   \n",
       "\n",
       "   csDiffPerMinDeltas_0-10  csDiffPerMinDeltas_10-20  \\\n",
       "0                     4.80                       0.0   \n",
       "1                     1.72                       0.0   \n",
       "2                     0.00                       0.0   \n",
       "3                     0.00                       0.0   \n",
       "4                     4.10                       4.0   \n",
       "\n",
       "   csDiffPerMinDeltas_20-30  csDiffPerMinDeltas_30-end  \\\n",
       "0                       0.0                        0.0   \n",
       "1                       0.0                        0.0   \n",
       "2                       0.0                        0.0   \n",
       "3                       0.0                        0.0   \n",
       "4                       3.0                        0.0   \n",
       "\n",
       "   damageDealtToObjectives  damageDealtToTurrets  damageSelfMitigated  \\\n",
       "0                   4624.0                4624.0               4268.0   \n",
       "1                   1885.0                1885.0               5206.0   \n",
       "2                   6838.0                5972.0              11147.0   \n",
       "3                      0.0                   0.0                  0.0   \n",
       "4                  12430.0                5835.0              24460.0   \n",
       "\n",
       "   damageTakenDiffPerMinDeltas_0-10  damageTakenDiffPerMinDeltas_10-20  \\\n",
       "0                            -205.3                                0.0   \n",
       "1                            -200.0                                0.0   \n",
       "2                               0.0                                0.0   \n",
       "3                               0.0                                0.0   \n",
       "4                             460.6                              526.1   \n",
       "\n",
       "   damageTakenDiffPerMinDeltas_20-30  damageTakenDiffPerMinDeltas_30-end  \\\n",
       "0                                0.0                                 0.0   \n",
       "1                                0.0                                 0.0   \n",
       "2                                0.0                                 0.0   \n",
       "3                                0.0                                 0.0   \n",
       "4                             1591.4                                 0.0   \n",
       "\n",
       "   damageTakenPerMinDeltas_0-10  damageTakenPerMinDeltas_10-20  \\\n",
       "0                         388.2                            0.0   \n",
       "1                         478.0                            0.0   \n",
       "2                         564.3                          862.1   \n",
       "3                           0.0                            0.0   \n",
       "4                         460.6                          526.1   \n",
       "\n",
       "   damageTakenPerMinDeltas_20-30  damageTakenPerMinDeltas_30-end  deaths  \\\n",
       "0                            0.0                             0.0     0.0   \n",
       "1                            0.0                             0.0     2.0   \n",
       "2                            0.0                             0.0     2.0   \n",
       "3                            0.0                             0.0     0.0   \n",
       "4                         1680.6                             0.0     0.0   \n",
       "\n",
       "   doubleKills  firstBloodAssist  firstBloodKill  firstInhibitorAssist  \\\n",
       "0          0.0                 0               0                     1   \n",
       "1          3.0                 0               0                     0   \n",
       "2          0.0                 0               0                     1   \n",
       "3          0.0                 0               0                     0   \n",
       "4          4.0                 0               0                     1   \n",
       "\n",
       "   firstInhibitorKill  firstTowerAssist  firstTowerKill  goldEarned  \\\n",
       "0                   0                 0               0      8012.0   \n",
       "1                   0                 0               0      9014.0   \n",
       "2                   0                 0               0     10869.0   \n",
       "3                   0                 0               0      5089.0   \n",
       "4                   0                 0               0     13502.0   \n",
       "\n",
       "   goldPerMinDeltas_0-10  goldPerMinDeltas_10-20  goldPerMinDeltas_20-30  \\\n",
       "0                  496.3                     0.0                     0.0   \n",
       "1                  318.3                     0.0                     0.0   \n",
       "2                  353.0                   412.7                     0.0   \n",
       "3                  100.0                   164.5                     0.0   \n",
       "4                  291.5                   357.5                   649.7   \n",
       "\n",
       "   goldPerMinDeltas_30-end  goldSpent   id  inhibitorKills   item0   item1  \\\n",
       "0                      0.0     2850.0  4.0             0.0  1054.0  3044.0   \n",
       "1                      0.0     8850.0  2.0             0.0  3142.0  3147.0   \n",
       "2                      0.0     6800.0  2.0             0.0  2003.0  1055.0   \n",
       "3                      0.0        0.0  3.0             0.0     0.0     0.0   \n",
       "4                      0.0     7200.0  5.0             0.0  3044.0  3044.0   \n",
       "\n",
       "    item2   item3   item4   item5   item6  killingSprees  kills  \\\n",
       "0  3067.0  1001.0     0.0     0.0  3340.0            1.0   13.0   \n",
       "1  3111.0  1043.0  1036.0  1055.0  3340.0            2.0   13.0   \n",
       "2  3133.0  3071.0  3076.0  3086.0  3340.0            3.0   10.0   \n",
       "3     0.0     0.0     0.0     0.0     0.0            0.0    0.0   \n",
       "4  3111.0  1054.0  1036.0  3065.0  3340.0            1.0   18.0   \n",
       "\n",
       "   largestCriticalStrike  largestKillingSpree  largestMultiKill  \\\n",
       "0                  456.0                 13.0               1.0   \n",
       "1                    0.0                  9.0               2.0   \n",
       "2                  499.0                  5.0               1.0   \n",
       "3                    0.0                  0.0               0.0   \n",
       "4                    0.0                 18.0               4.0   \n",
       "\n",
       "                  latest_match_time  longestTimeSpentLiving  magicDamageDealt  \\\n",
       "0  2018-01-17T06:05:14.227000+00:00                     0.0            3005.0   \n",
       "1  2018-03-10T14:58:21.007000+00:00                   654.0             968.0   \n",
       "2  2018-03-21T08:32:17.048000+00:00                   419.0            1229.0   \n",
       "3  2018-03-09T13:05:59.377000+00:00                     0.0               0.0   \n",
       "4  2018-03-10T08:36:51.633000+00:00                     0.0            2836.0   \n",
       "\n",
       "   magicDamageDealtToChampions  magicalDamageTaken  neutralMinionsKilled  \\\n",
       "0                       2392.0              1005.0                   0.0   \n",
       "1                        888.0              3374.0                   4.0   \n",
       "2                        288.0              2291.0                  16.0   \n",
       "3                          0.0                 0.0                   0.0   \n",
       "4                       2836.0              8021.0                  12.0   \n",
       "\n",
       "   neutralMinionsKilledEnemyJungle  neutralMinionsKilledTeamJungle  \\\n",
       "0                              0.0                             0.0   \n",
       "1                              4.0                             0.0   \n",
       "2                              0.0                            13.0   \n",
       "3                              0.0                             0.0   \n",
       "4                              0.0                            12.0   \n",
       "\n",
       "   objectivePlayerScore  participantId  pentaKills  perkPrimaryStyle  \\\n",
       "0                   0.0            4.0         0.0            8400.0   \n",
       "1                   0.0            2.0         0.0            8100.0   \n",
       "2                   0.0            2.0         0.0            8100.0   \n",
       "3                   0.0            3.0         0.0            8400.0   \n",
       "4                   0.0            5.0         0.0            8400.0   \n",
       "\n",
       "   perkSubStyle  physicalDamageDealt  physicalDamageDealtToChampions  \\\n",
       "0        8200.0              48136.0                         11330.0   \n",
       "1        8000.0              46817.0                         12594.0   \n",
       "2        8000.0              67383.0                         10907.0   \n",
       "3        8200.0                  0.0                             0.0   \n",
       "4        8200.0             105334.0                         27625.0   \n",
       "\n",
       "   physicalDamageTaken  playerScore0  playerScore1  playerScore2  \\\n",
       "0               7246.0           0.0           0.0           0.0   \n",
       "1               7109.0           0.0           0.0           0.0   \n",
       "2              14573.0           0.0           0.0           0.0   \n",
       "3                  0.0           0.0           0.0           0.0   \n",
       "4              18651.0           0.0           0.0           0.0   \n",
       "\n",
       "   playerScore3  playerScore4  playerScore5  playerScore6  playerScore7  \\\n",
       "0           0.0           0.0           0.0           0.0           0.0   \n",
       "1           0.0           0.0           0.0           0.0           0.0   \n",
       "2           0.0           0.0           0.0           0.0           0.0   \n",
       "3           0.0           0.0           0.0           0.0           0.0   \n",
       "4           0.0           0.0           0.0           0.0           0.0   \n",
       "\n",
       "   playerScore8  playerScore9  quadraKills  sightWardsBoughtInGame  \\\n",
       "0           0.0           0.0          0.0                     0.0   \n",
       "1           0.0           0.0          0.0                     0.0   \n",
       "2           0.0           0.0          0.0                     0.0   \n",
       "3           0.0           0.0          0.0                     0.0   \n",
       "4           0.0           0.0          1.0                     0.0   \n",
       "\n",
       "   timeCCingOthers  totalDamageDealt  totalDamageDealtToChampions  \\\n",
       "0             18.0           51142.0                      13723.0   \n",
       "1             59.0           52490.0                      13817.0   \n",
       "2             36.0           70890.0                      11789.0   \n",
       "3              0.0               0.0                          0.0   \n",
       "4             17.0          114535.0                      32503.0   \n",
       "\n",
       "   totalDamageTaken  totalHeal  totalMinionsKilled  totalPlayerScore  \\\n",
       "0            8252.0     1128.0                63.0               0.0   \n",
       "1           11503.0     3662.0                58.0               0.0   \n",
       "2           16942.0     8791.0                50.0               0.0   \n",
       "3               0.0        0.0                 0.0               0.0   \n",
       "4           26673.0     8576.0               112.0               0.0   \n",
       "\n",
       "   totalScoreRank  totalTimeCrowdControlDealt  totalUnitsHealed  tripleKills  \\\n",
       "0             0.0                       274.0               1.0          0.0   \n",
       "1             0.0                       123.0               1.0          0.0   \n",
       "2             0.0                       145.0               1.0          0.0   \n",
       "3             0.0                         0.0               0.0          0.0   \n",
       "4             0.0                        88.0               3.0          2.0   \n",
       "\n",
       "   trueDamageDealt  trueDamageDealtToChampions  trueDamageTaken  turretKills  \\\n",
       "0              0.0                         0.0              0.0          2.0   \n",
       "1           4704.0                       334.0           1019.0          0.0   \n",
       "2           2277.0                       593.0             77.0          2.0   \n",
       "3              0.0                         0.0              0.0          0.0   \n",
       "4           6365.0                      2041.0              0.0          2.0   \n",
       "\n",
       "   unrealKills  visionScore  visionWardsBoughtInGame  wardsKilled  \\\n",
       "0          0.0          0.0                      0.0          0.0   \n",
       "1          0.0          3.0                      0.0          0.0   \n",
       "2          0.0          0.0                      0.0          0.0   \n",
       "3          0.0          0.0                      0.0          0.0   \n",
       "4          0.0          1.0                      0.0          0.0   \n",
       "\n",
       "   wardsPlaced  win  xpDiffPerMinDeltas_0-10  xpDiffPerMinDeltas_10-20  \\\n",
       "0          0.0    1                   371.20                       0.0   \n",
       "1          3.0    1                    84.66                       0.0   \n",
       "2          0.0    1                     0.00                       0.0   \n",
       "3          0.0    1                     0.00                       0.0   \n",
       "4          1.0    1                   538.60                     429.1   \n",
       "\n",
       "   xpDiffPerMinDeltas_20-30  xpDiffPerMinDeltas_30-end  xpPerMinDeltas_0-10  \\\n",
       "0                       0.0                        0.0                583.9   \n",
       "1                       0.0                        0.0                363.9   \n",
       "2                       0.0                        0.0                331.8   \n",
       "3                       0.0                        0.0                  0.0   \n",
       "4                     783.3                        0.0                538.6   \n",
       "\n",
       "   xpPerMinDeltas_10-20  xpPerMinDeltas_20-30  xpPerMinDeltas_30-end  DUO  \\\n",
       "0                   0.0                   0.0                    0.0    0   \n",
       "1                   0.0                   0.0                    0.0    0   \n",
       "2                 464.2                   0.0                    0.0    0   \n",
       "3                   0.0                   0.0                    0.0    0   \n",
       "4                 429.1                 806.5                    0.0    0   \n",
       "\n",
       "   DUO_CARRY  DUO_SUPPORT  NO_ROLE  SOLO  BOTTOM  JUNGLE  MIDDLE  NO_LANE  TOP  \n",
       "0          0            0        0     1       0       0       1        0    0  \n",
       "1          0            1        0     0       0       0       0        1    0  \n",
       "2          0            0        1     0       0       1       0        0    0  \n",
       "3          0            1        0     0       0       0       0        0    1  \n",
       "4          0            0        1     0       0       1       0        0    0  "
      ]
     },
     "execution_count": 9,
     "metadata": {},
     "output_type": "execute_result"
    }
   ],
   "source": [
    "df.head()"
   ]
  },
  {
   "cell_type": "markdown",
   "metadata": {},
   "source": [
    "Looks good, let's move on."
   ]
  },
  {
   "cell_type": "markdown",
   "metadata": {},
   "source": [
    "**2) Normalize feature values**"
   ]
  },
  {
   "cell_type": "code",
   "execution_count": 10,
   "metadata": {},
   "outputs": [],
   "source": [
    "# skipping this step for now"
   ]
  },
  {
   "cell_type": "markdown",
   "metadata": {},
   "source": [
    "**3) Create a prediction task label feature**\n",
    "\n",
    "We are trying to predict, from a player's first match stats, if they will play enough to reach summoner level 3 or greater. \n",
    "\n",
    "Let's see what the summoner level breakdown for players is in this dataset."
   ]
  },
  {
   "cell_type": "code",
   "execution_count": 11,
   "metadata": {},
   "outputs": [
    {
     "data": {
      "text/plain": [
       "Counter({5: 799, 1: 368, 4: 694, 3: 528, 2: 348})"
      ]
     },
     "execution_count": 11,
     "metadata": {},
     "output_type": "execute_result"
    }
   ],
   "source": [
    "level_counts = Counter(df['summoner_level'])\n",
    "level_counts"
   ]
  },
  {
   "cell_type": "markdown",
   "metadata": {},
   "source": [
    "We see a good amount of each summoner level 1-5. Let's make prediction labels where `level < 3` gets `0` and `level >= 3` gets `1`."
   ]
  },
  {
   "cell_type": "code",
   "execution_count": 12,
   "metadata": {},
   "outputs": [],
   "source": [
    "level_data = df['summoner_level'].tolist()\n",
    "labels = []\n",
    "\n",
    "for value in level_data:\n",
    "    if value < 3:\n",
    "        labels.append(0)\n",
    "    else:\n",
    "        labels.append(1)"
   ]
  },
  {
   "cell_type": "code",
   "execution_count": 13,
   "metadata": {},
   "outputs": [
    {
     "data": {
      "text/plain": [
       "Counter({1: 2021, 0: 716})"
      ]
     },
     "execution_count": 13,
     "metadata": {},
     "output_type": "execute_result"
    }
   ],
   "source": [
    "Counter(labels)"
   ]
  },
  {
   "cell_type": "markdown",
   "metadata": {},
   "source": [
    "While there may not be as many players under level 3 as we'd like, there are still over 300 examples in this group, so this may be a reasonable dataset to prototype the viability of our prediction task."
   ]
  },
  {
   "cell_type": "markdown",
   "metadata": {},
   "source": [
    "**4) Removing unwanted features**\n",
    "\n",
    "Some features like \"summoner_name\" aren't relevant to training our model and others like \"total_matches\" and \"summoner_level\" give the model information we don't want it to have access to."
   ]
  },
  {
   "cell_type": "code",
   "execution_count": 14,
   "metadata": {},
   "outputs": [
    {
     "data": {
      "text/plain": [
       "['summoner_id',\n",
       " 'summoner_name',\n",
       " 'summoner_level',\n",
       " 'total_matches',\n",
       " 'first_match_time',\n",
       " 'first_match_duration',\n",
       " 'first_match_id',\n",
       " 'assists',\n",
       " 'champLevel',\n",
       " 'combatPlayerScore',\n",
       " 'creepsPerMinDeltas_0-10',\n",
       " 'creepsPerMinDeltas_10-20',\n",
       " 'creepsPerMinDeltas_20-30',\n",
       " 'creepsPerMinDeltas_30-end',\n",
       " 'csDiffPerMinDeltas_0-10',\n",
       " 'csDiffPerMinDeltas_10-20',\n",
       " 'csDiffPerMinDeltas_20-30',\n",
       " 'csDiffPerMinDeltas_30-end',\n",
       " 'damageDealtToObjectives',\n",
       " 'damageDealtToTurrets',\n",
       " 'damageSelfMitigated',\n",
       " 'damageTakenDiffPerMinDeltas_0-10',\n",
       " 'damageTakenDiffPerMinDeltas_10-20',\n",
       " 'damageTakenDiffPerMinDeltas_20-30',\n",
       " 'damageTakenDiffPerMinDeltas_30-end',\n",
       " 'damageTakenPerMinDeltas_0-10',\n",
       " 'damageTakenPerMinDeltas_10-20',\n",
       " 'damageTakenPerMinDeltas_20-30',\n",
       " 'damageTakenPerMinDeltas_30-end',\n",
       " 'deaths',\n",
       " 'doubleKills',\n",
       " 'firstBloodAssist',\n",
       " 'firstBloodKill',\n",
       " 'firstInhibitorAssist',\n",
       " 'firstInhibitorKill',\n",
       " 'firstTowerAssist',\n",
       " 'firstTowerKill',\n",
       " 'goldEarned',\n",
       " 'goldPerMinDeltas_0-10',\n",
       " 'goldPerMinDeltas_10-20',\n",
       " 'goldPerMinDeltas_20-30',\n",
       " 'goldPerMinDeltas_30-end',\n",
       " 'goldSpent',\n",
       " 'id',\n",
       " 'inhibitorKills',\n",
       " 'item0',\n",
       " 'item1',\n",
       " 'item2',\n",
       " 'item3',\n",
       " 'item4',\n",
       " 'item5',\n",
       " 'item6',\n",
       " 'killingSprees',\n",
       " 'kills',\n",
       " 'largestCriticalStrike',\n",
       " 'largestKillingSpree',\n",
       " 'largestMultiKill',\n",
       " 'latest_match_time',\n",
       " 'longestTimeSpentLiving',\n",
       " 'magicDamageDealt',\n",
       " 'magicDamageDealtToChampions',\n",
       " 'magicalDamageTaken',\n",
       " 'neutralMinionsKilled',\n",
       " 'neutralMinionsKilledEnemyJungle',\n",
       " 'neutralMinionsKilledTeamJungle',\n",
       " 'objectivePlayerScore',\n",
       " 'participantId',\n",
       " 'pentaKills',\n",
       " 'perkPrimaryStyle',\n",
       " 'perkSubStyle',\n",
       " 'physicalDamageDealt',\n",
       " 'physicalDamageDealtToChampions',\n",
       " 'physicalDamageTaken',\n",
       " 'playerScore0',\n",
       " 'playerScore1',\n",
       " 'playerScore2',\n",
       " 'playerScore3',\n",
       " 'playerScore4',\n",
       " 'playerScore5',\n",
       " 'playerScore6',\n",
       " 'playerScore7',\n",
       " 'playerScore8',\n",
       " 'playerScore9',\n",
       " 'quadraKills',\n",
       " 'sightWardsBoughtInGame',\n",
       " 'timeCCingOthers',\n",
       " 'totalDamageDealt',\n",
       " 'totalDamageDealtToChampions',\n",
       " 'totalDamageTaken',\n",
       " 'totalHeal',\n",
       " 'totalMinionsKilled',\n",
       " 'totalPlayerScore',\n",
       " 'totalScoreRank',\n",
       " 'totalTimeCrowdControlDealt',\n",
       " 'totalUnitsHealed',\n",
       " 'tripleKills',\n",
       " 'trueDamageDealt',\n",
       " 'trueDamageDealtToChampions',\n",
       " 'trueDamageTaken',\n",
       " 'turretKills',\n",
       " 'unrealKills',\n",
       " 'visionScore',\n",
       " 'visionWardsBoughtInGame',\n",
       " 'wardsKilled',\n",
       " 'wardsPlaced',\n",
       " 'win',\n",
       " 'xpDiffPerMinDeltas_0-10',\n",
       " 'xpDiffPerMinDeltas_10-20',\n",
       " 'xpDiffPerMinDeltas_20-30',\n",
       " 'xpDiffPerMinDeltas_30-end',\n",
       " 'xpPerMinDeltas_0-10',\n",
       " 'xpPerMinDeltas_10-20',\n",
       " 'xpPerMinDeltas_20-30',\n",
       " 'xpPerMinDeltas_30-end',\n",
       " 'DUO',\n",
       " 'DUO_CARRY',\n",
       " 'DUO_SUPPORT',\n",
       " 'NO_ROLE',\n",
       " 'SOLO',\n",
       " 'BOTTOM',\n",
       " 'JUNGLE',\n",
       " 'MIDDLE',\n",
       " 'NO_LANE',\n",
       " 'TOP']"
      ]
     },
     "execution_count": 14,
     "metadata": {},
     "output_type": "execute_result"
    }
   ],
   "source": [
    "list(df)"
   ]
  },
  {
   "cell_type": "code",
   "execution_count": 15,
   "metadata": {},
   "outputs": [
    {
     "name": "stdout",
     "output_type": "stream",
     "text": [
      "Number of features in full dataset: 124\n",
      "Number of features in model training dataset: 115\n"
     ]
    }
   ],
   "source": [
    "extra_features = ['summoner_id', 'summoner_level', 'summoner_name', 'id', 'first_match_time',\n",
    "                  'first_match_id', 'first_match_duration', 'latest_match_time', 'total_matches']\n",
    "\n",
    "num_full_features = df.shape[1]\n",
    "\n",
    "df = df.drop(extra_features, axis=1)\n",
    "\n",
    "num_training_features = df.shape[1]\n",
    "\n",
    "print(\"Number of features in full dataset: {}\".format(num_full_features))\n",
    "print(\"Number of features in model training dataset: {}\".format(num_training_features))"
   ]
  },
  {
   "cell_type": "markdown",
   "metadata": {},
   "source": [
    "**Lastly let's save the ML ready dataset and prediction labels for future use**"
   ]
  },
  {
   "cell_type": "code",
   "execution_count": 16,
   "metadata": {},
   "outputs": [],
   "source": [
    "df.to_csv(\"./data/riot_cleaned_ml_data.csv\", index=False) # dataset\n",
    "pd.DataFrame(labels).to_csv(\"./data/ml_data_labels.csv\", index=False) # labels"
   ]
  },
  {
   "cell_type": "markdown",
   "metadata": {},
   "source": [
    "**Great! We're finally ready to fit our data to some models!**"
   ]
  },
  {
   "cell_type": "markdown",
   "metadata": {},
   "source": [
    "***"
   ]
  },
  {
   "cell_type": "markdown",
   "metadata": {},
   "source": [
    "<div align=\"right\">\n",
    "    <a href=\"#toc\">back to top</a>\n",
    "</div>\n",
    "<a id='section3'></a>\n",
    "\n",
    "## Step 3) Baseline model"
   ]
  },
  {
   "cell_type": "code",
   "execution_count": 56,
   "metadata": {},
   "outputs": [
    {
     "data": {
      "application/javascript": [
       "if (!(\"Notification\" in window)) {\n",
       "    alert(\"This browser does not support desktop notifications, so the %%notify magic will not work.\");\n",
       "} else if (Notification.permission !== 'granted' && Notification.permission !== 'denied') {\n",
       "    Notification.requestPermission(function (permission) {\n",
       "        if(!('permission' in Notification)) {\n",
       "            Notification.permission = permission;\n",
       "        }\n",
       "    })\n",
       "}\n"
      ],
      "text/plain": [
       "<IPython.core.display.Javascript object>"
      ]
     },
     "metadata": {},
     "output_type": "display_data"
    }
   ],
   "source": [
    "# import libraries \n",
    "import pandas as pd\n",
    "import numpy as np\n",
    "from collections import Counter, defaultdict\n",
    "\n",
    "np.random.seed(1)\n",
    "\n",
    "from sklearn.model_selection import train_test_split\n",
    "from sklearn.decomposition import PCA\n",
    "from sklearn.linear_model import LogisticRegression\n",
    "from sklearn.tree import DecisionTreeClassifier\n",
    "from sklearn.ensemble import AdaBoostClassifier, RandomForestClassifier, GradientBoostingClassifier\n",
    "from sklearn.metrics import f1_score\n",
    "\n",
    "import tensorflow as tf\n",
    "\n",
    "import math\n",
    "import matplotlib.pyplot as plt\n",
    "from tensorflow.python.framework import ops\n",
    "\n",
    "%matplotlib inline\n",
    "\n",
    "import warnings\n",
    "warnings.filterwarnings(\"ignore\")\n",
    "\n",
    "import ipywidgets as widgets # for progress bar\n",
    "\n",
    "import jupyternotify # gives desktop notifications when cell blocks complete\n",
    "ip = get_ipython()\n",
    "ip.register_magics(jupyternotify.JupyterNotifyMagics(ip, require_interaction=True))"
   ]
  },
  {
   "cell_type": "code",
   "execution_count": 18,
   "metadata": {},
   "outputs": [],
   "source": [
    "# import ML ready data\n",
    "df = pd.read_csv(\"./data/riot_cleaned_ml_data.csv\", encoding=\"ISO-8859-1\")\n",
    "labels = pd.read_csv(\"./data/ml_data_labels.csv\", encoding=\"ISO-8859-1\")"
   ]
  },
  {
   "cell_type": "code",
   "execution_count": 19,
   "metadata": {},
   "outputs": [],
   "source": [
    "# convert to np arrays\n",
    "X = np.array(df)\n",
    "Y = np.array(labels)"
   ]
  },
  {
   "cell_type": "markdown",
   "metadata": {},
   "source": [
    "**Randomize and split data into train/test sets**"
   ]
  },
  {
   "cell_type": "code",
   "execution_count": 48,
   "metadata": {},
   "outputs": [
    {
     "name": "stdout",
     "output_type": "stream",
     "text": [
      "Training examples: 2463\n",
      "Training labels: 2463\n",
      "Test examples: 274\n",
      "Test labels: 274\n"
     ]
    }
   ],
   "source": [
    "X_train, X_test, Y_train, Y_test = train_test_split(X,Y, train_size=0.90, test_size=0.10, random_state=1)\n",
    "\n",
    "print(\"Training examples: {}\".format(X_train.shape[0]))\n",
    "print(\"Training labels: {}\".format(Y_train.shape[0]))\n",
    "print(\"Test examples: {}\".format(X_test.shape[0]))\n",
    "print(\"Test labels: {}\".format(Y_test.shape[0]))"
   ]
  },
  {
   "cell_type": "markdown",
   "metadata": {},
   "source": [
    "Before we fit our data to the prediction task we created, let's take a moment to run principal component analysis to see if there are any features of particularly high explanatory variance."
   ]
  },
  {
   "cell_type": "markdown",
   "metadata": {},
   "source": [
    "### Principal Component Analysis"
   ]
  },
  {
   "cell_type": "code",
   "execution_count": 22,
   "metadata": {},
   "outputs": [
    {
     "data": {
      "text/plain": [
       "Text(0.5,1,'PCA: Explained Variance in first 10 components')"
      ]
     },
     "execution_count": 22,
     "metadata": {},
     "output_type": "execute_result"
    },
    {
     "data": {
      "image/png": "[encoded data removed]",
      "text/plain": [
       "<Figure size 432x288 with 1 Axes>"
      ]
     },
     "metadata": {},
     "output_type": "display_data"
    }
   ],
   "source": [
    "# project data across N-dimensions\n",
    "n_comp = 10\n",
    "pca_mod = PCA(n_components = n_comp)\n",
    "pca_mod.fit(X_train)\n",
    "\n",
    "# cummulative ratio of explained variance\n",
    "varRatio = pca_mod.explained_variance_ratio_\n",
    "sumVarRatio = np.cumsum(np.concatenate(([0], varRatio)))\n",
    "\n",
    "# plot the data to visualize\n",
    "plt.plot(range(n_comp+1),sumVarRatio)\n",
    "plt.xlabel('number components')\n",
    "plt.ylabel('sum of explained variance ratios')\n",
    "plt.ylim([0,1])\n",
    "plt.title(\"PCA: Explained Variance in first 10 components\", \n",
    "          fontsize=12, fontweight=\"bold\")"
   ]
  },
  {
   "cell_type": "code",
   "execution_count": 23,
   "metadata": {},
   "outputs": [
    {
     "name": "stdout",
     "output_type": "stream",
     "text": [
      "First component = 76.34%\n",
      "Second component = 18.86%\n",
      "Together, these two components make up 95.20% of all variance in our dataset\n"
     ]
    }
   ],
   "source": [
    "print(\"First component = {:.2f}%\".format(pca_mod.explained_variance_ratio_[0]*100))\n",
    "print(\"Second component = {:.2f}%\".format(pca_mod.explained_variance_ratio_[1]*100))\n",
    "print(\"Together, these two components make up {:.2f}% of all variance in our dataset\".format((pca_mod.explained_variance_ratio_[0]+pca_mod.explained_variance_ratio_[1])*100))"
   ]
  },
  {
   "cell_type": "markdown",
   "metadata": {},
   "source": [
    "A lot of variance can be summarized in the first two components, let's see which features are contributing the most to these two components:"
   ]
  },
  {
   "cell_type": "code",
   "execution_count": 24,
   "metadata": {},
   "outputs": [],
   "source": [
    "most_variance = []\n",
    "\n",
    "# top three components\n",
    "for variance in pca_mod.components_[:3]:\n",
    "    \n",
    "    variance_components = zip(list(df),np.abs(variance))\n",
    "    sorted_variance = list(reversed(sorted(variance_components, key=lambda tup: tup[1])))\n",
    "\n",
    "    most_variance.append(sorted_variance)"
   ]
  },
  {
   "cell_type": "code",
   "execution_count": 25,
   "metadata": {},
   "outputs": [
    {
     "name": "stdout",
     "output_type": "stream",
     "text": [
      "Top features in component 1\n",
      "----------------------------------------\n",
      "totalDamageDealt = 75.42%\n",
      "physicalDamageDealt = 55.09%\n",
      "totalDamageDealtToChampions = 20.70%\n",
      "magicDamageDealt = 16.06%\n",
      "physicalDamageDealtToChampions = 14.40%\n",
      "totalDamageTaken = 10.10%\n",
      "damageSelfMitigated = 6.98%\n",
      "goldSpent = 6.11%\n",
      "physicalDamageTaken = 5.99%\n",
      "damageDealtToObjectives = 5.55%\n",
      "\n",
      "\n",
      "Top features in component 2\n",
      "----------------------------------------\n",
      "magicDamageDealt = 70.79%\n",
      "physicalDamageDealt = 58.10%\n",
      "totalDamageDealt = 25.35%\n",
      "magicDamageDealtToChampions = 21.43%\n",
      "physicalDamageDealtToChampions = 14.51%\n",
      "trueDamageDealt = 12.66%\n",
      "totalDamageDealtToChampions = 8.45%\n",
      "damageDealtToTurrets = 4.71%\n",
      "damageDealtToObjectives = 4.35%\n",
      "damageSelfMitigated = 3.51%\n",
      "\n",
      "\n",
      "Top features in component 3\n",
      "----------------------------------------\n",
      "damageSelfMitigated = 62.13%\n",
      "totalDamageTaken = 54.55%\n",
      "physicalDamageTaken = 41.67%\n",
      "damageDealtToObjectives = 18.96%\n",
      "damageDealtToTurrets = 18.37%\n",
      "trueDamageDealt = 13.19%\n",
      "magicalDamageTaken = 11.38%\n",
      "totalDamageDealt = 10.76%\n",
      "totalHeal = 10.38%\n",
      "physicalDamageDealtToChampions = 7.68%\n",
      "\n",
      "\n"
     ]
    }
   ],
   "source": [
    "for i in range(len(most_variance)):\n",
    "    print(\"Top features in component {}\".format(i+1))\n",
    "    print(\"-\"*40)\n",
    "    for name,value in most_variance[i][:10]:\n",
    "        print(\"{0} = {1:.2f}%\".format(name,(value*100)))\n",
    "    print(\"\\n\")"
   ]
  },
  {
   "cell_type": "markdown",
   "metadata": {},
   "source": [
    "We see that features describing damage dealt have very high explantory power in this dataset. This was an expected result but it's surprising just how overwhelming all those features are. We see \"gold spent\" ranking highly as well. This was not explored during EDA, but it is worth considering the subtlety that while it is intuitive to think a new player that is catching on to the game faster would have higher \"gold earned\", they would also be picking up on the game mechanic of spending that gold. In League of Legends there it is not shoved in your face or forced in any way that you spend your gold so it takes a player actually exploring the game's features to spend gold."
   ]
  },
  {
   "cell_type": "markdown",
   "metadata": {},
   "source": [
    "This PCA data may be useful to us in the future, but for now let's move on with our dataset as it stands now and try to fit a model to our prediction task (yup! no more detours, we're _finally_ there! :D )."
   ]
  },
  {
   "cell_type": "markdown",
   "metadata": {},
   "source": [
    "### Logistic Regression Model"
   ]
  },
  {
   "cell_type": "code",
   "execution_count": 20,
   "metadata": {},
   "outputs": [
    {
     "data": {
      "text/plain": [
       "LogisticRegression(C=1.0, class_weight=None, dual=False, fit_intercept=True,\n",
       "          intercept_scaling=1, max_iter=100, multi_class='ovr', n_jobs=1,\n",
       "          penalty='l2', random_state=None, solver='liblinear', tol=0.0001,\n",
       "          verbose=0, warm_start=False)"
      ]
     },
     "execution_count": 20,
     "metadata": {},
     "output_type": "execute_result"
    }
   ],
   "source": [
    "log_model = LogisticRegression()\n",
    "log_model.fit(X_train,Y_train)"
   ]
  },
  {
   "cell_type": "code",
   "execution_count": 21,
   "metadata": {},
   "outputs": [
    {
     "name": "stdout",
     "output_type": "stream",
     "text": [
      "Accuracy of logistic regression model on test data: 74.25%\n",
      "F1-score for logistic regression model on test data: 0.84\n"
     ]
    }
   ],
   "source": [
    "logistic_accuracy = log_model.score(X_test, Y_test)\n",
    "preds = log_model.predict(X_test)\n",
    "log_f1 = f1_score(Y_test, preds)\n",
    "print(\"Accuracy of logistic regression model on test data: {:.2f}%\".format(logistic_accuracy*100))\n",
    "print(\"F1-score for logistic regression model on test data: {:.2f}\".format(log_f1))"
   ]
  },
  {
   "cell_type": "markdown",
   "metadata": {},
   "source": [
    "**Not bad at all!**\n",
    "\n",
    "There are a lot of qualifiers we should point out about this result before we jump for joy, but 74% accuracy on this relatively small dataset with just a vanilla, out of the box, logistic regression model is very encouraging.\n",
    "\n",
    "Next, let's try some other out of the box models."
   ]
  },
  {
   "cell_type": "markdown",
   "metadata": {},
   "source": [
    "### Decision Tree Model"
   ]
  },
  {
   "cell_type": "code",
   "execution_count": 22,
   "metadata": {},
   "outputs": [
    {
     "data": {
      "text/plain": [
       "DecisionTreeClassifier(class_weight=None, criterion='gini', max_depth=None,\n",
       "            max_features=None, max_leaf_nodes=None,\n",
       "            min_impurity_decrease=0.0, min_impurity_split=None,\n",
       "            min_samples_leaf=1, min_samples_split=2,\n",
       "            min_weight_fraction_leaf=0.0, presort=False, random_state=None,\n",
       "            splitter='best')"
      ]
     },
     "execution_count": 22,
     "metadata": {},
     "output_type": "execute_result"
    }
   ],
   "source": [
    "tree_model = DecisionTreeClassifier()\n",
    "tree_model.fit(X_train, Y_train)"
   ]
  },
  {
   "cell_type": "code",
   "execution_count": 23,
   "metadata": {},
   "outputs": [
    {
     "name": "stdout",
     "output_type": "stream",
     "text": [
      "Accuracy of ada boosted model on test data: 64.21%\n",
      "F1-score for ada boosted model on test data: 0.76\n"
     ]
    }
   ],
   "source": [
    "tree_accuracy = tree_model.score(X_test, Y_test)\n",
    "preds = tree_model.predict(X_test)\n",
    "tree_f1 = f1_score(Y_test, preds)\n",
    "print(\"Accuracy of ada boosted model on test data: {:.2f}%\".format(tree_accuracy*100))\n",
    "print(\"F1-score for ada boosted model on test data: {:.2f}\".format(tree_f1))"
   ]
  },
  {
   "cell_type": "markdown",
   "metadata": {},
   "source": [
    "### Random Forest Model"
   ]
  },
  {
   "cell_type": "code",
   "execution_count": 24,
   "metadata": {},
   "outputs": [
    {
     "data": {
      "text/plain": [
       "RandomForestClassifier(bootstrap=True, class_weight=None, criterion='gini',\n",
       "            max_depth=None, max_features='auto', max_leaf_nodes=None,\n",
       "            min_impurity_decrease=0.0, min_impurity_split=None,\n",
       "            min_samples_leaf=1, min_samples_split=2,\n",
       "            min_weight_fraction_leaf=0.0, n_estimators=10, n_jobs=1,\n",
       "            oob_score=False, random_state=None, verbose=0,\n",
       "            warm_start=False)"
      ]
     },
     "execution_count": 24,
     "metadata": {},
     "output_type": "execute_result"
    }
   ],
   "source": [
    "forest_model = RandomForestClassifier()\n",
    "forest_model.fit(X_train, Y_train)"
   ]
  },
  {
   "cell_type": "code",
   "execution_count": 25,
   "metadata": {},
   "outputs": [
    {
     "name": "stdout",
     "output_type": "stream",
     "text": [
      "Accuracy of ada boosted model on test data: 70.90%\n",
      "F1-score for ada boosted model on test data: 0.82\n"
     ]
    }
   ],
   "source": [
    "forest_accuracy = forest_model.score(X_test, Y_test)\n",
    "preds = forest_model.predict(X_test)\n",
    "forest_f1 = f1_score(Y_test, preds)\n",
    "print(\"Accuracy of ada boosted model on test data: {:.2f}%\".format(forest_accuracy*100))\n",
    "print(\"F1-score for ada boosted model on test data: {:.2f}\".format(forest_f1))"
   ]
  },
  {
   "cell_type": "markdown",
   "metadata": {},
   "source": [
    "### Gradient Boosting Model"
   ]
  },
  {
   "cell_type": "code",
   "execution_count": 26,
   "metadata": {},
   "outputs": [
    {
     "data": {
      "text/plain": [
       "GradientBoostingClassifier(criterion='friedman_mse', init=None,\n",
       "              learning_rate=0.1, loss='deviance', max_depth=3,\n",
       "              max_features=None, max_leaf_nodes=None,\n",
       "              min_impurity_decrease=0.0, min_impurity_split=None,\n",
       "              min_samples_leaf=1, min_samples_split=2,\n",
       "              min_weight_fraction_leaf=0.0, n_estimators=100,\n",
       "              presort='auto', random_state=None, subsample=1.0, verbose=0,\n",
       "              warm_start=False)"
      ]
     },
     "execution_count": 26,
     "metadata": {},
     "output_type": "execute_result"
    }
   ],
   "source": [
    "gradient_model = GradientBoostingClassifier()\n",
    "gradient_model.fit(X_train, Y_train)"
   ]
  },
  {
   "cell_type": "code",
   "execution_count": 27,
   "metadata": {},
   "outputs": [
    {
     "name": "stdout",
     "output_type": "stream",
     "text": [
      "Accuracy of ada boosted model on test data: 73.91%\n",
      "F1-score for ada boosted model on test data: 0.84\n"
     ]
    }
   ],
   "source": [
    "gradient_accuracy = gradient_model.score(X_test, Y_test)\n",
    "preds = gradient_model.predict(X_test)\n",
    "gradient_f1 = f1_score(Y_test, preds)\n",
    "print(\"Accuracy of ada boosted model on test data: {:.2f}%\".format(gradient_accuracy*100))\n",
    "print(\"F1-score for ada boosted model on test data: {:.2f}\".format(gradient_f1))"
   ]
  },
  {
   "cell_type": "markdown",
   "metadata": {},
   "source": [
    "### Ada Boosting Model"
   ]
  },
  {
   "cell_type": "code",
   "execution_count": 28,
   "metadata": {},
   "outputs": [
    {
     "data": {
      "text/plain": [
       "AdaBoostClassifier(algorithm='SAMME.R', base_estimator=None,\n",
       "          learning_rate=1.0, n_estimators=50, random_state=None)"
      ]
     },
     "execution_count": 28,
     "metadata": {},
     "output_type": "execute_result"
    }
   ],
   "source": [
    "ada_model = AdaBoostClassifier()\n",
    "ada_model.fit(X_train, Y_train)"
   ]
  },
  {
   "cell_type": "code",
   "execution_count": 29,
   "metadata": {},
   "outputs": [
    {
     "name": "stdout",
     "output_type": "stream",
     "text": [
      "Accuracy of ada boosted model on test data: 70.90%\n",
      "F1-score for ada boosted model on test data: 0.81\n"
     ]
    }
   ],
   "source": [
    "ada_accuracy = ada_model.score(X_test, Y_test)\n",
    "preds = ada_model.predict(X_test)\n",
    "ada_f1 = f1_score(Y_test, preds)\n",
    "print(\"Accuracy of ada boosted model on test data: {:.2f}%\".format(ada_accuracy*100))\n",
    "print(\"F1-score for ada boosted model on test data: {:.2f}\".format(ada_f1))"
   ]
  },
  {
   "cell_type": "markdown",
   "metadata": {},
   "source": [
    "<h3>Summary of Basic Models</h3>\n",
    "\n",
    "<br>\n",
    "\n",
    "<table align=\"left\" style=\"width:30%\">\n",
    "    <tr>\n",
    "        <th>Model Type</th>\n",
    "        <th>Accuracy</th>\n",
    "        <th>F1-Score</th>\n",
    "    </tr>\n",
    "    <tr>\n",
    "        <td>Logistic Regression</td>\n",
    "        <td>74.25%</td>\n",
    "        <td>0.84</td>\n",
    "    </tr>\n",
    "    <tr>\n",
    "        <td>Decision Tree</td>\n",
    "        <td>62.21%</td>\n",
    "        <td>0.74</td>\n",
    "    </tr>\n",
    "    <tr>\n",
    "        <td>Random Forest</td>\n",
    "        <td>70.90%</td>\n",
    "        <td>0.82</td>\n",
    "    </tr>\n",
    "    <tr>\n",
    "        <td>Gradient Boosting</td>\n",
    "        <td>73.91%</td>\n",
    "        <td>0.84</td>\n",
    "    </tr>\n",
    "    <tr>\n",
    "        <td>Ada Boosting</td>\n",
    "        <td>70.90%</td>\n",
    "        <td>0.81</td>\n",
    "    </tr>\n",
    "</table>\n",
    "\n",
    "<br>\n",
    "\n",
    "<p style=\"padding-left:350px;\"> We achieved good results with logistic regression and random forests without any hyperparameter tuning. Because logistic regression worked so well, I'm curious how a small feed-forward neural network will fare on this dataset. </p>"
   ]
  },
  {
   "cell_type": "markdown",
   "metadata": {},
   "source": [
    "<div align=\"right\">\n",
    "    <a href=\"#toc\">back to top</a>\n",
    "</div>\n",
    "<a id='section4'></a>\n",
    "\n",
    "## Step 4) Neural network model [currently under development]\n",
    "\n",
    "This was originally part of step 3, so it was never intended to be part of this workflow, but I ended up putting more time into building and tuning this network than I thought I would so I decided to give it its own section in the notebook."
   ]
  },
  {
   "cell_type": "code",
   "execution_count": 49,
   "metadata": {},
   "outputs": [],
   "source": [
    "# transpose train/test set to prepare for neural network\n",
    "X_train_network = X_train.T\n",
    "X_test_network = X_test.T\n",
    "Y_train_network = Y_train.reshape(1, Y_train.shape[0])\n",
    "Y_test_network = Y_test.reshape(1, Y_test.shape[0])"
   ]
  },
  {
   "cell_type": "code",
   "execution_count": 50,
   "metadata": {},
   "outputs": [
    {
     "name": "stdout",
     "output_type": "stream",
     "text": [
      "Training set shape: (115, 2463)\n",
      "Training labels shape: (1, 2463)\n",
      "\n",
      "\n",
      "Test set shape: (115, 274)\n",
      "Test labels shape: (1, 274)\n"
     ]
    }
   ],
   "source": [
    "print(\"Training set shape: {}\".format(X_train_network.shape))\n",
    "print(\"Training labels shape: {}\".format(Y_train_network.shape))\n",
    "print(\"\\n\")\n",
    "print(\"Test set shape: {}\".format(X_test_network.shape))\n",
    "print(\"Test labels shape: {}\".format(Y_test_network.shape))"
   ]
  },
  {
   "cell_type": "code",
   "execution_count": 85,
   "metadata": {},
   "outputs": [],
   "source": [
    "def neural_network(X_train_network, Y_train_network, X_test_network, Y_test_network, \n",
    "                   num_layers, nodes_in_layer, num_epochs, learning_rate, L2=False, beta=0.01,\n",
    "                   optimization=\"gradient descent\", verbose=False, report_cost=None,\n",
    "                   hypertune_mode=False, dropout=False, keep_prob=None, save_loss_plot=False):\n",
    "\n",
    "    if not report_cost:\n",
    "        report_cost = num_epochs/10\n",
    "    \n",
    "    if dropout and not keep_prob:\n",
    "        keep_prob = 0.8\n",
    "    \n",
    "    # to allow re-running of the network\n",
    "    ops.reset_default_graph()                         \n",
    "    \n",
    "    # make sure all layers are assigned nodes\n",
    "    assert num_layers == len(nodes_in_layer)\n",
    "\n",
    "    \n",
    "    costs = []\n",
    "    parameters = {}\n",
    "    activations = {}\n",
    "     \n",
    "        \n",
    "    # step 1) placeholders for data\n",
    "\n",
    "    X = tf.placeholder(tf.float32, shape=[X_train_network.shape[0], None], name=\"X_data\")\n",
    "    Y = tf.placeholder(tf.float32, shape=[Y_train_network.shape[0], None], name=\"Y_data\")\n",
    "\n",
    "    \n",
    "    # step 2) initialize network parameters\n",
    "\n",
    "    parameters[\"W1\"] = tf.get_variable(\"W1\", [nodes_in_layer[0],X_train_network.shape[0]], initializer = tf.contrib.layers.xavier_initializer(seed=2))\n",
    "    parameters[\"b1\"] = tf.get_variable(\"b1\", [nodes_in_layer[0],1], initializer = tf.contrib.layers.xavier_initializer(seed=2))\n",
    "    \n",
    "    if verbose:\n",
    "        print(\"W1 shape = {}\".format(parameters[\"W1\"].get_shape()))\n",
    "        print(\"b1 shape = {}\".format(parameters[\"b1\"].get_shape()))\n",
    "\n",
    "    for i in range(1,num_layers):\n",
    "        parameters[\"W{}\".format(i+1)] = tf.get_variable(\"W{}\".format(i+1), [nodes_in_layer[i],nodes_in_layer[i-1]], \n",
    "                                                        initializer = tf.contrib.layers.xavier_initializer(seed=2))\n",
    "        \n",
    "        if verbose:\n",
    "            print(\"W{0} shape = {1}\".format((i+1),parameters[\"W{}\".format(i+1)].get_shape()))\n",
    "            \n",
    "        parameters[\"b{}\".format(i+1)] = tf.get_variable(\"b{}\".format(i+1), [nodes_in_layer[i], 1], \n",
    "                                                        initializer = tf.contrib.layers.xavier_initializer(seed=2))\n",
    "        \n",
    "        if verbose:\n",
    "            print(\"b{0} shape = {1}\".format((i+1),parameters[\"b{}\".format(i+1)].get_shape()))\n",
    "\n",
    "        \n",
    "    # step 3) forward propagation\n",
    "    \n",
    "    activations[\"Z1\"] = tf.add(tf.matmul(parameters[\"W1\"], X), parameters[\"b1\"])\n",
    "    activations[\"A1\"] = tf.nn.tanh(activations[\"Z1\"])\n",
    "    \n",
    "    if verbose:\n",
    "        print(\"Z1 shape = {}\".format(activations[\"Z1\"].get_shape()))\n",
    "        print(\"A1 shape = {}\".format(activations[\"A1\"].get_shape()))\n",
    "    \n",
    "    for i in range(1,num_layers-1):\n",
    "        activations[\"Z{}\".format(i+1)] = tf.add(tf.matmul(parameters[\"W{}\".format(i+1)],\n",
    "                                                          activations[\"A{}\".format(i)]), parameters[\"b{}\".format(i+1)])\n",
    "        \n",
    "        if verbose:\n",
    "            print(\"Z{0} shape = {1}\".format((i+1),activations[\"Z{}\".format(i+1)].get_shape()))\n",
    "        \n",
    "        activations[\"A{}\".format(i+1)] = tf.nn.tanh(activations[\"Z{}\".format(i+1)])  \n",
    "        \n",
    "        if verbose:\n",
    "            print(\"A{0} shape = {1}\".format((i+1),activations[\"A{}\".format(i+1)].get_shape()))\n",
    "     \n",
    "    \n",
    "#     activations[\"A{}\".format(num_layers-1)] = tf.nn.dropout(activations[\"A{}\".format(num_layers-1)], keep_prob)\n",
    "\n",
    "    activations[\"Z{}\".format(num_layers)] = tf.add(tf.matmul(parameters[\"W{}\".format(num_layers)],\n",
    "                                                             activations[\"A{}\".format(num_layers-1)]), parameters[\"b{}\".format(num_layers)])\n",
    "    \n",
    "    if verbose:\n",
    "        print(\"Z{0} shape = {1}\".format((num_layers),activations[\"Z{}\".format(num_layers)].get_shape()))\n",
    "\n",
    "        \n",
    "    # side step - adding dropout\n",
    "    \n",
    "    # step 4) compute cost & perform backprop\n",
    "    \n",
    "    logits = tf.transpose(activations[\"Z{}\".format(num_layers)])\n",
    "    labels = tf.transpose(Y)\n",
    "    \n",
    "    if L2:\n",
    "        l2_reg = tf.nn.l2_loss(tf.transpose(parameters[\"W1\"]))\n",
    "        for i in range(1,num_layers):\n",
    "            l2_reg += tf.nn.l2_loss(tf.transpose(parameters[\"W{}\".format(i+1)]))\n",
    "    \n",
    "        cost = tf.reduce_mean(tf.nn.sigmoid_cross_entropy_with_logits(logits=logits,labels=labels))\n",
    "        \n",
    "        cost = tf.reduce_mean(cost + beta * l2_reg)\n",
    "        \n",
    "        if optimization == \"gradient descent\":\n",
    "            optimizer = tf.train.GradientDescentOptimizer(learning_rate = learning_rate).minimize(cost)\n",
    "        elif optimization == \"adam\":\n",
    "            optimizer = tf.train.AdamOptimizer(learning_rate = learning_rate).minimize(cost)\n",
    "        else:\n",
    "            raise NameError(\"optimization must be either 'gradient descent' or 'adam'\")\n",
    "\n",
    "    else:        \n",
    "        cost = tf.reduce_mean(tf.nn.sigmoid_cross_entropy_with_logits(logits=logits,labels=labels))\n",
    "        \n",
    "        if optimization == \"gradient descent\":\n",
    "            optimizer = tf.train.GradientDescentOptimizer(learning_rate = learning_rate).minimize(cost)\n",
    "        elif optimization == \"adam\":\n",
    "            optimizer = tf.train.AdamOptimizer(learning_rate = learning_rate).minimize(cost)\n",
    "        else:\n",
    "            raise NameError(\"optimization must be either 'gradient descent' or 'adam'\")\n",
    "  \n",
    "    \n",
    "    # step 5) initialize and run Session\n",
    "    \n",
    "    # help measure progress for long runs\n",
    "    interval = 100/num_epochs # for incrementing progress bar\n",
    "    progress = widgets.FloatProgress(value=0.0, min=0.0, max=100.0, description='0%', bar_style='info')\n",
    "    display(progress)\n",
    "    \n",
    "    init = tf.global_variables_initializer()\n",
    "\n",
    "    with tf.Session() as sess:\n",
    "        \n",
    "        # Run the initialization\n",
    "        sess.run(init)\n",
    "        \n",
    "        # Do the training loop\n",
    "        for epoch in range(num_epochs):\n",
    "    \n",
    "            _ , epoch_cost = sess.run([optimizer, cost], feed_dict={X: X_train_network, Y: Y_train_network})\n",
    "                \n",
    "            # Print the cost every epoch\n",
    "            if ((epoch+1) % report_cost == 0) or ((epoch+1) == 1):\n",
    "                print (\"Cost after epoch {0}: {1}\".format((epoch+1), epoch_cost))\n",
    "            if epoch % 10 == 0:\n",
    "                costs.append(epoch_cost)\n",
    "            \n",
    "            progress.value += interval\n",
    "            progress.description = \"{}%\".format(round(progress.value,1))\n",
    "                \n",
    "        # plot the cost\n",
    "        plt.plot(np.squeeze(costs))\n",
    "        plt.ylabel('cost')\n",
    "        plt.xlabel('iterations (per tens)')\n",
    "        plt.title(\"Learning rate =\" + str(learning_rate))\n",
    "        \n",
    "        if save_loss_plot:\n",
    "            plt.savefig(\"./docs/nn_cost_high_res.png\", dpi=750, bbox_inches=\"tight\")\n",
    "            \n",
    "        plt.show()\n",
    "\n",
    "        # lets save the parameters in a variable\n",
    "        trained_parameters = sess.run(parameters)\n",
    "        print (\"Parameters have been trained!\")\n",
    "        \n",
    "        progress.style.bar_color = 'lightgreen'\n",
    "        progress.value = 100.0\n",
    "        progress.description = \"100.0%\"\n",
    "        \n",
    "        # Calculate the correct predictions        \n",
    "        correct_prediction = tf.equal(tf.greater(activations[\"Z{}\".format(num_layers)],0.5), tf.cast(Y, tf.bool))\n",
    "        \n",
    "        # Calculate accuracy on the test set\n",
    "        accuracy = tf.reduce_mean(tf.cast(correct_prediction, \"float\"))\n",
    "        \n",
    "        train_accuracy = accuracy.eval({X: X_train_network, Y: Y_train_network})\n",
    "        test_accuracy = accuracy.eval({X: X_test_network, Y: Y_test_network})\n",
    "        \n",
    "        print (\"Train Accuracy: {}\".format(train_accuracy))\n",
    "        print (\"Test Accuracy: {}\".format(test_accuracy))\n",
    "\n",
    "        if hypertune_mode:\n",
    "            return trained_parameters, train_accuracy, test_accuracy\n",
    "        else:\n",
    "            return trained_parameters"
   ]
  },
  {
   "cell_type": "code",
   "execution_count": 92,
   "metadata": {},
   "outputs": [],
   "source": [
    "# I later realize I should be keeping track of which parameters are doing best...\n",
    "hypertune = defaultdict(list)"
   ]
  },
  {
   "cell_type": "markdown",
   "metadata": {},
   "source": [
    "## Testing the neural network\n",
    "\n",
    "Now that we have our function set up nicely, there will likely be many iterations of models as I tune hyperparameters and decide what's best for this dataset. So **if you just want to see what ended up being the best model I could make, scroll to the very bottom of this notebook now.**\n",
    "\n",
    "Now let's roll up our sleeves and get started!"
   ]
  },
  {
   "cell_type": "code",
   "execution_count": 90,
   "metadata": {
    "scrolled": false
   },
   "outputs": [
    {
     "name": "stdout",
     "output_type": "stream",
     "text": [
      "Cost after epoch 0: 0.593246\n",
      "Cost after epoch 100: 0.526663\n",
      "Cost after epoch 200: 0.525855\n",
      "Cost after epoch 300: 0.524321\n",
      "Cost after epoch 400: 0.523534\n",
      "Cost after epoch 500: 0.522908\n",
      "Cost after epoch 600: 0.522393\n",
      "Cost after epoch 700: 0.521955\n",
      "Cost after epoch 800: 0.521579\n",
      "Cost after epoch 900: 0.521247\n"
     ]
    },
    {
     "data": {
      "image/png": "[encoded data removed]",
      "text/plain": [
       "<Figure size 432x288 with 1 Axes>"
      ]
     },
     "metadata": {},
     "output_type": "display_data"
    },
    {
     "name": "stdout",
     "output_type": "stream",
     "text": [
      "Parameters have been trained!\n",
      "Train Accuracy: 0.769291341304779\n",
      "Test Accuracy: 0.7599999904632568\n"
     ]
    }
   ],
   "source": [
    "# seed for reproducibility\n",
    "tf.set_random_seed(2)\n",
    "\n",
    "# choose your parameters\n",
    "num_layers = 3\n",
    "nodes_in_layer = [25,12,1]\n",
    "num_epochs= 1000\n",
    "learning_rate = 0.05\n",
    "\n",
    "# train and test the network\n",
    "test = neural_network(X_train_network, Y_train_network, X_test_network, Y_test_network, \n",
    "               num_layers, nodes_in_layer, num_epochs, learning_rate)"
   ]
  },
  {
   "cell_type": "markdown",
   "metadata": {},
   "source": [
    "Great! Our neural network seems to be working well. Let's review some hyperparameters we've set for this network and consider how best to tune it.\n",
    "\n",
    "**Hyperparameters:**\n",
    "\n",
    "* Learning rate\n",
    "* Number of epochs\n",
    "* Number of layers\n",
    "* Number of nodes per player\n",
    "* Regularization\n",
    "* Optimizer algorithm\n",
    "\n",
    "These are a few things we might play around with to get better accuracy. I'm kind of hungry, so first I'm going to play with the number of epochs (set it all the way up to 1,000,000) while I go get lunch :D\n",
    "\n",
    "Let's also start using desktop notifications so we know when this finishes training."
   ]
  },
  {
   "cell_type": "markdown",
   "metadata": {
    "collapsed": true
   },
   "source": [
    "**Increasing number of epochs (to 1 million)**"
   ]
  },
  {
   "cell_type": "code",
   "execution_count": 45,
   "metadata": {},
   "outputs": [
    {
     "name": "stdout",
     "output_type": "stream",
     "text": [
      "W1 shape = (25, 115)\n",
      "b1 shape = (25, 1)\n",
      "W2 shape = (12, 25)\n",
      "b2 shape = (12, 1)\n",
      "W3 shape = (1, 12)\n",
      "b3 shape = (1, 1)\n",
      "Z1 shape = (25, ?)\n",
      "A1 shape = (25, ?)\n",
      "Z2 shape = (12, ?)\n",
      "A2 shape = (12, ?)\n",
      "Z3 shape = (1, ?)\n",
      "Cost after epoch 0: 0.593246\n",
      "Cost after epoch 10000: 0.511948\n",
      "Cost after epoch 20000: 0.498437\n",
      "Cost after epoch 30000: 0.492476\n",
      "Cost after epoch 40000: 0.489381\n",
      "Cost after epoch 50000: 0.487745\n",
      "Cost after epoch 60000: 0.486808\n",
      "Cost after epoch 70000: 0.486282\n",
      "Cost after epoch 80000: 0.485969\n",
      "Cost after epoch 90000: 0.485765\n",
      "Cost after epoch 100000: 0.485624\n",
      "Cost after epoch 110000: 0.485521\n",
      "Cost after epoch 120000: 0.485443\n",
      "Cost after epoch 130000: 0.485381\n",
      "Cost after epoch 140000: 0.485332\n",
      "Cost after epoch 150000: 0.485292\n",
      "Cost after epoch 160000: 0.485258\n",
      "Cost after epoch 170000: 0.485230\n",
      "Cost after epoch 180000: 0.485206\n",
      "Cost after epoch 190000: 0.485186\n",
      "Cost after epoch 200000: 0.485168\n",
      "Cost after epoch 210000: 0.485152\n",
      "Cost after epoch 220000: 0.485172\n",
      "Cost after epoch 230000: 0.485160\n",
      "Cost after epoch 240000: 0.485150\n",
      "Cost after epoch 250000: 0.485139\n",
      "Cost after epoch 260000: 0.485129\n",
      "Cost after epoch 270000: 0.485120\n",
      "Cost after epoch 280000: 0.485112\n",
      "Cost after epoch 290000: 0.485104\n",
      "Cost after epoch 300000: 0.485097\n",
      "Cost after epoch 310000: 0.485091\n",
      "Cost after epoch 320000: 0.485084\n",
      "Cost after epoch 330000: 0.485078\n",
      "Cost after epoch 340000: 0.485072\n",
      "Cost after epoch 350000: 0.485067\n",
      "Cost after epoch 360000: 0.485063\n",
      "Cost after epoch 370000: 0.485058\n",
      "Cost after epoch 380000: 0.485054\n",
      "Cost after epoch 390000: 0.485049\n",
      "Cost after epoch 400000: 0.485045\n",
      "Cost after epoch 410000: 0.485042\n",
      "Cost after epoch 420000: 0.485038\n",
      "Cost after epoch 430000: 0.485035\n",
      "Cost after epoch 440000: 0.485032\n",
      "Cost after epoch 450000: 0.485029\n",
      "Cost after epoch 460000: 0.485027\n",
      "Cost after epoch 470000: 0.485024\n",
      "Cost after epoch 480000: 0.485022\n",
      "Cost after epoch 490000: 0.485019\n",
      "Cost after epoch 500000: 0.485016\n",
      "Cost after epoch 510000: 0.485014\n",
      "Cost after epoch 520000: 0.485012\n",
      "Cost after epoch 530000: 0.485010\n",
      "Cost after epoch 540000: 0.485009\n",
      "Cost after epoch 550000: 0.485006\n",
      "Cost after epoch 560000: 0.485005\n",
      "Cost after epoch 570000: 0.485003\n",
      "Cost after epoch 580000: 0.485001\n",
      "Cost after epoch 590000: 0.485000\n",
      "Cost after epoch 600000: 0.484997\n",
      "Cost after epoch 610000: 0.484996\n",
      "Cost after epoch 620000: 0.484996\n",
      "Cost after epoch 630000: 0.484994\n",
      "Cost after epoch 640000: 0.484992\n",
      "Cost after epoch 650000: 0.484991\n",
      "Cost after epoch 660000: 0.484990\n",
      "Cost after epoch 670000: 0.484988\n",
      "Cost after epoch 680000: 0.484987\n",
      "Cost after epoch 690000: 0.484986\n",
      "Cost after epoch 700000: 0.484985\n",
      "Cost after epoch 710000: 0.484984\n",
      "Cost after epoch 720000: 0.484983\n",
      "Cost after epoch 730000: 0.484982\n",
      "Cost after epoch 740000: 0.484980\n",
      "Cost after epoch 750000: 0.484979\n",
      "Cost after epoch 760000: 0.484979\n",
      "Cost after epoch 770000: 0.484979\n",
      "Cost after epoch 780000: 0.484978\n",
      "Cost after epoch 790000: 0.484976\n",
      "Cost after epoch 800000: 0.484976\n",
      "Cost after epoch 810000: 0.484975\n",
      "Cost after epoch 820000: 0.484974\n",
      "Cost after epoch 830000: 0.484973\n",
      "Cost after epoch 840000: 0.484973\n",
      "Cost after epoch 850000: 0.484972\n",
      "Cost after epoch 860000: 0.484971\n",
      "Cost after epoch 870000: 0.484970\n",
      "Cost after epoch 880000: 0.484970\n",
      "Cost after epoch 890000: 0.484969\n",
      "Cost after epoch 900000: 0.484969\n",
      "Cost after epoch 910000: 0.484968\n",
      "Cost after epoch 920000: 0.484968\n",
      "Cost after epoch 930000: 0.484966\n",
      "Cost after epoch 940000: 0.484966\n",
      "Cost after epoch 950000: 0.484966\n",
      "Cost after epoch 960000: 0.484965\n",
      "Cost after epoch 970000: 0.484965\n",
      "Cost after epoch 980000: 0.484964\n",
      "Cost after epoch 990000: 0.484964\n"
     ]
    },
    {
     "data": {
      "image/png": "[encoded data removed]",
      "text/plain": [
       "<Figure size 432x288 with 1 Axes>"
      ]
     },
     "metadata": {},
     "output_type": "display_data"
    },
    {
     "name": "stdout",
     "output_type": "stream",
     "text": [
      "Parameters have been trained!\n",
      "Train Accuracy: 0.78503937\n",
      "Test Accuracy: 0.7511111\n",
      "Wall time: 49min 31s\n"
     ]
    },
    {
     "data": {
      "application/javascript": [
       "$(document).ready(\n",
       "    function() {\n",
       "        function appendUniqueDiv(){\n",
       "            // append a div with our uuid so we can check that it's already\n",
       "            // been sent and avoid duplicates on page reload\n",
       "            var notifiedDiv = document.createElement(\"div\")\n",
       "            notifiedDiv.id = \"b2921918-9ff7-4a22-a52e-461e033367f5\"\n",
       "            element.append(notifiedDiv)\n",
       "        }\n",
       "\n",
       "        // only send notifications if the pageload is complete; this will\n",
       "        // help stop extra notifications when a saved notebook is loaded,\n",
       "        // which during testing gives us state \"interactive\", not \"complete\"\n",
       "        if (document.readyState === 'complete') {\n",
       "            // check for the div that signifies that the notification\n",
       "            // was already sent\n",
       "            if (document.getElementById(\"b2921918-9ff7-4a22-a52e-461e033367f5\") === null) {\n",
       "                var notificationPayload = {\"requireInteraction\": true, \"icon\": \"/static/base/images/favicon.ico\", \"body\": \"1 million epoch training complete!\"};\n",
       "                if (Notification.permission !== 'denied') {\n",
       "                    if (Notification.permission !== 'granted') { \n",
       "                        Notification.requestPermission(function (permission) {\n",
       "                            if(!('permission' in Notification)) {\n",
       "                                Notification.permission = permission\n",
       "                            }\n",
       "                        })\n",
       "                    }\n",
       "                    if (Notification.permission === 'granted') {\n",
       "                    var notification = new Notification(\"Jupyter Notebook\", notificationPayload)\n",
       "                    appendUniqueDiv()\n",
       "                    notification.onclick = function () {\n",
       "                        window.focus();\n",
       "                        this.close();\n",
       "                        };\n",
       "                    } \n",
       "                }     \n",
       "            }\n",
       "        }\n",
       "    }\n",
       ")\n"
      ],
      "text/plain": [
       "<IPython.core.display.Javascript object>"
      ]
     },
     "metadata": {},
     "output_type": "display_data"
    }
   ],
   "source": [
    "%%notify -m \"1 million epoch training complete!\"\n",
    "%%time\n",
    "\n",
    "# seed for reproducibility\n",
    "tf.set_random_seed(2)\n",
    "\n",
    "# choose your parameters\n",
    "num_layers = 3\n",
    "nodes_in_layer = [25,12,1]\n",
    "num_epochs= 1000000\n",
    "learning_rate = 0.05\n",
    "\n",
    "# train and test the network\n",
    "test = neural_network(X_train_network, Y_train_network, X_test_network, Y_test_network, \n",
    "               num_layers, nodes_in_layer, num_epochs, learning_rate)"
   ]
  },
  {
   "cell_type": "markdown",
   "metadata": {
    "collapsed": true
   },
   "source": [
    "It looks like the cost was coming to a minimum at around 20,000 epochs. Training for 1 million just caused us to overfit the data.\n",
    "\n",
    "**Next let's try increasing the number and size of layers and rerunning with 20,000 epochs!**"
   ]
  },
  {
   "cell_type": "code",
   "execution_count": 48,
   "metadata": {},
   "outputs": [
    {
     "name": "stdout",
     "output_type": "stream",
     "text": [
      "W1 shape = (75, 115)\n",
      "b1 shape = (75, 1)\n",
      "W2 shape = (50, 75)\n",
      "b2 shape = (50, 1)\n",
      "W3 shape = (50, 50)\n",
      "b3 shape = (50, 1)\n",
      "W4 shape = (25, 50)\n",
      "b4 shape = (25, 1)\n",
      "W5 shape = (12, 25)\n",
      "b5 shape = (12, 1)\n",
      "W6 shape = (1, 12)\n",
      "b6 shape = (1, 1)\n",
      "Z1 shape = (75, ?)\n",
      "A1 shape = (75, ?)\n",
      "Z2 shape = (50, ?)\n",
      "A2 shape = (50, ?)\n",
      "Z3 shape = (50, ?)\n",
      "A3 shape = (50, ?)\n",
      "Z4 shape = (25, ?)\n",
      "A4 shape = (25, ?)\n",
      "Z5 shape = (12, ?)\n",
      "A5 shape = (12, ?)\n",
      "Z6 shape = (1, ?)\n",
      "Cost after epoch 0: 0.577163\n",
      "Cost after epoch 100: 0.528031\n",
      "Cost after epoch 200: 0.524358\n",
      "Cost after epoch 300: 0.521026\n",
      "Cost after epoch 400: 0.518838\n",
      "Cost after epoch 500: 0.517749\n",
      "Cost after epoch 600: 0.515660\n",
      "Cost after epoch 700: 0.513785\n",
      "Cost after epoch 800: 0.513308\n",
      "Cost after epoch 900: 0.510518\n",
      "Cost after epoch 1000: 0.507958\n",
      "Cost after epoch 1100: 0.505336\n",
      "Cost after epoch 1200: 0.503134\n",
      "Cost after epoch 1300: 0.501649\n",
      "Cost after epoch 1400: 0.498434\n",
      "Cost after epoch 1500: 0.496939\n",
      "Cost after epoch 1600: 0.500093\n",
      "Cost after epoch 1700: 0.496517\n",
      "Cost after epoch 1800: 0.493910\n",
      "Cost after epoch 1900: 0.491257\n",
      "Cost after epoch 2000: 0.488638\n",
      "Cost after epoch 2100: 0.486132\n",
      "Cost after epoch 2200: 0.483777\n",
      "Cost after epoch 2300: 0.481565\n",
      "Cost after epoch 2400: 0.479458\n",
      "Cost after epoch 2500: 0.482020\n",
      "Cost after epoch 2600: 0.480229\n",
      "Cost after epoch 2700: 0.478525\n",
      "Cost after epoch 2800: 0.476837\n",
      "Cost after epoch 2900: 0.475121\n",
      "Cost after epoch 3000: 0.473374\n",
      "Cost after epoch 3100: 0.471603\n",
      "Cost after epoch 3200: 0.469815\n",
      "Cost after epoch 3300: 0.467946\n",
      "Cost after epoch 3400: 0.466172\n",
      "Cost after epoch 3500: 0.464345\n",
      "Cost after epoch 3600: 0.462501\n",
      "Cost after epoch 3700: 0.460410\n",
      "Cost after epoch 3800: 0.466248\n",
      "Cost after epoch 3900: 0.463348\n",
      "Cost after epoch 4000: 0.460972\n",
      "Cost after epoch 4100: 0.458800\n",
      "Cost after epoch 4200: 0.460351\n",
      "Cost after epoch 4300: 0.459268\n",
      "Cost after epoch 4400: 0.456841\n",
      "Cost after epoch 4500: 0.454697\n",
      "Cost after epoch 4600: 0.452660\n",
      "Cost after epoch 4700: 0.450674\n",
      "Cost after epoch 4800: 0.448718\n",
      "Cost after epoch 4900: 0.446784\n",
      "Cost after epoch 5000: 0.444870\n",
      "Cost after epoch 5100: 0.442974\n",
      "Cost after epoch 5200: 0.441097\n",
      "Cost after epoch 5300: 0.439237\n",
      "Cost after epoch 5400: 0.437394\n",
      "Cost after epoch 5500: 0.435570\n",
      "Cost after epoch 5600: 0.433763\n",
      "Cost after epoch 5700: 0.431974\n",
      "Cost after epoch 5800: 0.430205\n",
      "Cost after epoch 5900: 0.428456\n",
      "Cost after epoch 6000: 0.426728\n",
      "Cost after epoch 6100: 0.425022\n",
      "Cost after epoch 6200: 0.423339\n",
      "Cost after epoch 6300: 0.421678\n",
      "Cost after epoch 6400: 0.420039\n",
      "Cost after epoch 6500: 0.418422\n",
      "Cost after epoch 6600: 0.416824\n",
      "Cost after epoch 6700: 0.415243\n",
      "Cost after epoch 6800: 0.413679\n",
      "Cost after epoch 6900: 0.412129\n",
      "Cost after epoch 7000: 0.410592\n",
      "Cost after epoch 7100: 0.409069\n",
      "Cost after epoch 7200: 0.407562\n",
      "Cost after epoch 7300: 0.406073\n",
      "Cost after epoch 7400: 0.404606\n",
      "Cost after epoch 7500: 0.403163\n",
      "Cost after epoch 7600: 0.401748\n",
      "Cost after epoch 7700: 0.400359\n",
      "Cost after epoch 7800: 0.398999\n",
      "Cost after epoch 7900: 0.397667\n",
      "Cost after epoch 8000: 0.396364\n",
      "Cost after epoch 8100: 0.395089\n",
      "Cost after epoch 8200: 0.393845\n",
      "Cost after epoch 8300: 0.392636\n",
      "Cost after epoch 8400: 0.391465\n",
      "Cost after epoch 8500: 0.390332\n",
      "Cost after epoch 8600: 0.389240\n",
      "Cost after epoch 8700: 0.388184\n",
      "Cost after epoch 8800: 0.387164\n",
      "Cost after epoch 8900: 0.386176\n",
      "Cost after epoch 9000: 0.385220\n",
      "Cost after epoch 9100: 0.384292\n",
      "Cost after epoch 9200: 0.383394\n",
      "Cost after epoch 9300: 0.382524\n",
      "Cost after epoch 9400: 0.381683\n",
      "Cost after epoch 9500: 0.380869\n",
      "Cost after epoch 9600: 0.380084\n",
      "Cost after epoch 9700: 0.379325\n",
      "Cost after epoch 9800: 0.378594\n",
      "Cost after epoch 9900: 0.377890\n",
      "Cost after epoch 10000: 0.377213\n",
      "Cost after epoch 10100: 0.376562\n",
      "Cost after epoch 10200: 0.375937\n",
      "Cost after epoch 10300: 0.375337\n",
      "Cost after epoch 10400: 0.374761\n",
      "Cost after epoch 10500: 0.374209\n",
      "Cost after epoch 10600: 0.373681\n",
      "Cost after epoch 10700: 0.373175\n",
      "Cost after epoch 10800: 0.372690\n",
      "Cost after epoch 10900: 0.372226\n",
      "Cost after epoch 11000: 0.371782\n",
      "Cost after epoch 11100: 0.371356\n",
      "Cost after epoch 11200: 0.370948\n",
      "Cost after epoch 11300: 0.370558\n",
      "Cost after epoch 11400: 0.370183\n",
      "Cost after epoch 11500: 0.369823\n",
      "Cost after epoch 11600: 0.369478\n",
      "Cost after epoch 11700: 0.369145\n",
      "Cost after epoch 11800: 0.368824\n",
      "Cost after epoch 11900: 0.368514\n",
      "Cost after epoch 12000: 0.368215\n",
      "Cost after epoch 12100: 0.367925\n",
      "Cost after epoch 12200: 0.367644\n",
      "Cost after epoch 12300: 0.367377\n",
      "Cost after epoch 12400: 0.372090\n",
      "Cost after epoch 12500: 0.367007\n",
      "Cost after epoch 12600: 0.366671\n",
      "Cost after epoch 12700: 0.367975\n",
      "Cost after epoch 12800: 0.366031\n",
      "Cost after epoch 12900: 0.368376\n",
      "Cost after epoch 13000: 0.365877\n",
      "Cost after epoch 13100: 0.366325\n",
      "Cost after epoch 13200: 0.365321\n",
      "Cost after epoch 13300: 0.365185\n",
      "Cost after epoch 13400: 0.365076\n",
      "Cost after epoch 13500: 0.364086\n",
      "Cost after epoch 13600: 0.364657\n",
      "Cost after epoch 13700: 0.365670\n",
      "Cost after epoch 13800: 0.364507\n",
      "Cost after epoch 13900: 0.364326\n",
      "Cost after epoch 14000: 0.363882\n",
      "Cost after epoch 14100: 0.364951\n",
      "Cost after epoch 14200: 0.363877\n",
      "Cost after epoch 14300: 0.363006\n",
      "Cost after epoch 14400: 0.363575\n",
      "Cost after epoch 14500: 0.364314\n",
      "Cost after epoch 14600: 0.363613\n",
      "Cost after epoch 14700: 0.363753\n",
      "Cost after epoch 14800: 0.363228\n",
      "Cost after epoch 14900: 0.364427\n",
      "Cost after epoch 15000: 0.362808\n",
      "Cost after epoch 15100: 0.363741\n",
      "Cost after epoch 15200: 0.362679\n",
      "Cost after epoch 15300: 0.362615\n",
      "Cost after epoch 15400: 0.362577\n",
      "Cost after epoch 15500: 0.363561\n",
      "Cost after epoch 15600: 0.362851\n",
      "Cost after epoch 15700: 0.362979\n",
      "Cost after epoch 15800: 0.362534\n",
      "Cost after epoch 15900: 0.362354\n",
      "Cost after epoch 16000: 0.362045\n",
      "Cost after epoch 16100: 0.361975\n",
      "Cost after epoch 16200: 0.361921\n",
      "Cost after epoch 16300: 0.362150\n",
      "Cost after epoch 16400: 0.362890\n",
      "Cost after epoch 16500: 0.361594\n",
      "Cost after epoch 16600: 0.361711\n",
      "Cost after epoch 16700: 0.361902\n",
      "Cost after epoch 16800: 0.362258\n",
      "Cost after epoch 16900: 0.361524\n",
      "Cost after epoch 17000: 0.361477\n",
      "Cost after epoch 17100: 0.361534\n",
      "Cost after epoch 17200: 0.361081\n",
      "Cost after epoch 17300: 0.361260\n",
      "Cost after epoch 17400: 0.361536\n",
      "Cost after epoch 17500: 0.361554\n",
      "Cost after epoch 17600: 0.361117\n",
      "Cost after epoch 17700: 0.361538\n",
      "Cost after epoch 17800: 0.361618\n",
      "Cost after epoch 17900: 0.360762\n",
      "Cost after epoch 18000: 0.361145\n",
      "Cost after epoch 18100: 0.361091\n",
      "Cost after epoch 18200: 0.360930\n",
      "Cost after epoch 18300: 0.360813\n",
      "Cost after epoch 18400: 0.360500\n",
      "Cost after epoch 18500: 0.360570\n",
      "Cost after epoch 18600: 0.360890\n",
      "Cost after epoch 18700: 0.360705\n",
      "Cost after epoch 18800: 0.360672\n",
      "Cost after epoch 18900: 0.360306\n",
      "Cost after epoch 19000: 0.360633\n",
      "Cost after epoch 19100: 0.360582\n",
      "Cost after epoch 19200: 0.360721\n",
      "Cost after epoch 19300: 0.361158\n",
      "Cost after epoch 19400: 0.360347\n",
      "Cost after epoch 19500: 0.360822\n",
      "Cost after epoch 19600: 0.360176\n",
      "Cost after epoch 19700: 0.360253\n",
      "Cost after epoch 19800: 0.359975\n",
      "Cost after epoch 19900: 0.360448\n"
     ]
    },
    {
     "data": {
      "image/png": "[encoded data removed]",
      "text/plain": [
       "<Figure size 432x288 with 1 Axes>"
      ]
     },
     "metadata": {},
     "output_type": "display_data"
    },
    {
     "name": "stdout",
     "output_type": "stream",
     "text": [
      "Parameters have been trained!\n",
      "Train Accuracy: 0.82755905\n",
      "Test Accuracy: 0.74666667\n",
      "Wall time: 2min 46s\n"
     ]
    },
    {
     "data": {
      "application/javascript": [
       "$(document).ready(\n",
       "    function() {\n",
       "        function appendUniqueDiv(){\n",
       "            // append a div with our uuid so we can check that it's already\n",
       "            // been sent and avoid duplicates on page reload\n",
       "            var notifiedDiv = document.createElement(\"div\")\n",
       "            notifiedDiv.id = \"3bf5a7c5-751d-45f3-9110-d06384278963\"\n",
       "            element.append(notifiedDiv)\n",
       "        }\n",
       "\n",
       "        // only send notifications if the pageload is complete; this will\n",
       "        // help stop extra notifications when a saved notebook is loaded,\n",
       "        // which during testing gives us state \"interactive\", not \"complete\"\n",
       "        if (document.readyState === 'complete') {\n",
       "            // check for the div that signifies that the notification\n",
       "            // was already sent\n",
       "            if (document.getElementById(\"3bf5a7c5-751d-45f3-9110-d06384278963\") === null) {\n",
       "                var notificationPayload = {\"requireInteraction\": true, \"icon\": \"/static/base/images/favicon.ico\", \"body\": \"6 layer neural network training complete!\"};\n",
       "                if (Notification.permission !== 'denied') {\n",
       "                    if (Notification.permission !== 'granted') { \n",
       "                        Notification.requestPermission(function (permission) {\n",
       "                            if(!('permission' in Notification)) {\n",
       "                                Notification.permission = permission\n",
       "                            }\n",
       "                        })\n",
       "                    }\n",
       "                    if (Notification.permission === 'granted') {\n",
       "                    var notification = new Notification(\"Jupyter Notebook\", notificationPayload)\n",
       "                    appendUniqueDiv()\n",
       "                    notification.onclick = function () {\n",
       "                        window.focus();\n",
       "                        this.close();\n",
       "                        };\n",
       "                    } \n",
       "                }     \n",
       "            }\n",
       "        }\n",
       "    }\n",
       ")\n"
      ],
      "text/plain": [
       "<IPython.core.display.Javascript object>"
      ]
     },
     "metadata": {},
     "output_type": "display_data"
    }
   ],
   "source": [
    "%%notify -m \"6 layer neural network training complete!\"\n",
    "%%time\n",
    "\n",
    "# seed for reproducibility\n",
    "tf.set_random_seed(2)\n",
    "\n",
    "# choose your parameters\n",
    "num_layers = 6\n",
    "nodes_in_layer = [75,50,50,25,12,1]\n",
    "num_epochs= 20000\n",
    "learning_rate = 0.05\n",
    "\n",
    "# train and test the network\n",
    "test = neural_network(X_train_network, Y_train_network, X_test_network, Y_test_network, \n",
    "               num_layers, nodes_in_layer, num_epochs, learning_rate)"
   ]
  },
  {
   "cell_type": "markdown",
   "metadata": {},
   "source": [
    "Hmm ok so with more layers and nodes we're seeing higher training accuracy but lower test accuracy. Let's try adding **L2 regularization** into the mix."
   ]
  },
  {
   "cell_type": "code",
   "execution_count": 55,
   "metadata": {},
   "outputs": [
    {
     "name": "stdout",
     "output_type": "stream",
     "text": [
      "W1 shape = (75, 115)\n",
      "b1 shape = (75, 1)\n",
      "Z1 shape = (75, ?)\n",
      "A1 shape = (75, ?)\n",
      "Cost after epoch 0: 1.834868\n",
      "Cost after epoch 1000: 0.991425\n",
      "Cost after epoch 2000: 0.706543\n",
      "Cost after epoch 3000: 0.602721\n",
      "Cost after epoch 4000: 0.568588\n",
      "Cost after epoch 5000: 0.558666\n",
      "Cost after epoch 6000: 0.564629\n",
      "Cost after epoch 7000: 0.557384\n",
      "Cost after epoch 8000: 0.561389\n",
      "Cost after epoch 9000: 0.556294\n",
      "Cost after epoch 10000: 0.559462\n",
      "Cost after epoch 11000: 0.552639\n",
      "Cost after epoch 12000: 0.548497\n",
      "Cost after epoch 13000: 0.572425\n",
      "Cost after epoch 14000: 0.578250\n",
      "Cost after epoch 15000: 0.579544\n",
      "Cost after epoch 16000: 0.587152\n",
      "Cost after epoch 17000: 0.579927\n",
      "Cost after epoch 18000: 0.576593\n",
      "Cost after epoch 19000: 0.573586\n"
     ]
    },
    {
     "data": {
      "image/png": "[encoded data removed]",
      "text/plain": [
       "<Figure size 432x288 with 1 Axes>"
      ]
     },
     "metadata": {},
     "output_type": "display_data"
    },
    {
     "name": "stdout",
     "output_type": "stream",
     "text": [
      "Parameters have been trained!\n",
      "Train Accuracy: 0.7622047\n",
      "Test Accuracy: 0.7688889\n",
      "Wall time: 2min 44s\n"
     ]
    },
    {
     "data": {
      "application/javascript": [
       "$(document).ready(\n",
       "    function() {\n",
       "        function appendUniqueDiv(){\n",
       "            // append a div with our uuid so we can check that it's already\n",
       "            // been sent and avoid duplicates on page reload\n",
       "            var notifiedDiv = document.createElement(\"div\")\n",
       "            notifiedDiv.id = \"dc79a4b8-25d5-4e63-93e5-52210770e19e\"\n",
       "            element.append(notifiedDiv)\n",
       "        }\n",
       "\n",
       "        // only send notifications if the pageload is complete; this will\n",
       "        // help stop extra notifications when a saved notebook is loaded,\n",
       "        // which during testing gives us state \"interactive\", not \"complete\"\n",
       "        if (document.readyState === 'complete') {\n",
       "            // check for the div that signifies that the notification\n",
       "            // was already sent\n",
       "            if (document.getElementById(\"dc79a4b8-25d5-4e63-93e5-52210770e19e\") === null) {\n",
       "                var notificationPayload = {\"requireInteraction\": true, \"icon\": \"/static/base/images/favicon.ico\", \"body\": \"6 layer neural network (with l2 loss) training complete!\"};\n",
       "                if (Notification.permission !== 'denied') {\n",
       "                    if (Notification.permission !== 'granted') { \n",
       "                        Notification.requestPermission(function (permission) {\n",
       "                            if(!('permission' in Notification)) {\n",
       "                                Notification.permission = permission\n",
       "                            }\n",
       "                        })\n",
       "                    }\n",
       "                    if (Notification.permission === 'granted') {\n",
       "                    var notification = new Notification(\"Jupyter Notebook\", notificationPayload)\n",
       "                    appendUniqueDiv()\n",
       "                    notification.onclick = function () {\n",
       "                        window.focus();\n",
       "                        this.close();\n",
       "                        };\n",
       "                    } \n",
       "                }     \n",
       "            }\n",
       "        }\n",
       "    }\n",
       ")\n"
      ],
      "text/plain": [
       "<IPython.core.display.Javascript object>"
      ]
     },
     "metadata": {},
     "output_type": "display_data"
    }
   ],
   "source": [
    "%%notify -m \"6 layer neural network (with l2 loss) training complete!\"\n",
    "%%time\n",
    "\n",
    "# seed for reproducibility\n",
    "tf.set_random_seed(2)\n",
    "\n",
    "# choose your parameters\n",
    "num_layers = 6\n",
    "nodes_in_layer = [75,50,50,25,12,1]\n",
    "num_epochs= 20000\n",
    "learning_rate = 0.01\n",
    "\n",
    "# train and test the network\n",
    "test = neural_network(X_train_network, Y_train_network, X_test_network, Y_test_network, \n",
    "               num_layers, nodes_in_layer, num_epochs, learning_rate, L2 = True)"
   ]
  },
  {
   "cell_type": "markdown",
   "metadata": {},
   "source": [
    "L2 loss has helped us get a similar accuracy between train and test sets but we aren't really seeing much improvement and our cost is just fluctuating after a couple hundred epochs. **Let's try lowering the learning rate considerably.** Because we're lowering the alpha considerably, we're also going to increase the number of epochs."
   ]
  },
  {
   "cell_type": "code",
   "execution_count": 92,
   "metadata": {},
   "outputs": [
    {
     "name": "stdout",
     "output_type": "stream",
     "text": [
      "Cost after epoch 0: 1.834868\n",
      "Cost after epoch 2000: 1.743892\n",
      "Cost after epoch 4000: 1.690653\n",
      "Cost after epoch 6000: 1.642418\n",
      "Cost after epoch 8000: 1.597107\n",
      "Cost after epoch 10000: 1.553827\n",
      "Cost after epoch 12000: 1.512265\n",
      "Cost after epoch 14000: 1.473534\n",
      "Cost after epoch 16000: 1.436089\n",
      "Cost after epoch 18000: 1.400683\n",
      "Cost after epoch 20000: 1.366131\n",
      "Cost after epoch 22000: 1.333043\n",
      "Cost after epoch 24000: 1.301143\n",
      "Cost after epoch 26000: 1.270533\n",
      "Cost after epoch 28000: 1.241383\n",
      "Cost after epoch 30000: 1.213429\n",
      "Cost after epoch 32000: 1.186291\n",
      "Cost after epoch 34000: 1.160371\n",
      "Cost after epoch 36000: 1.135412\n",
      "Cost after epoch 38000: 1.111436\n",
      "Cost after epoch 40000: 1.088581\n",
      "Cost after epoch 42000: 1.066564\n",
      "Cost after epoch 44000: 1.045667\n",
      "Cost after epoch 46000: 1.025677\n",
      "Cost after epoch 48000: 1.005784\n",
      "Cost after epoch 50000: 0.987193\n",
      "Cost after epoch 52000: 0.968783\n",
      "Cost after epoch 54000: 0.952954\n",
      "Cost after epoch 56000: 0.936299\n",
      "Cost after epoch 58000: 0.920072\n",
      "Cost after epoch 60000: 0.904474\n",
      "Cost after epoch 62000: 0.889612\n",
      "Cost after epoch 64000: 0.875341\n",
      "Cost after epoch 66000: 0.861591\n",
      "Cost after epoch 68000: 0.848848\n",
      "Cost after epoch 70000: 0.836783\n",
      "Cost after epoch 72000: 0.824511\n",
      "Cost after epoch 74000: 0.812849\n",
      "Cost after epoch 76000: 0.800975\n",
      "Cost after epoch 78000: 0.790603\n",
      "Cost after epoch 80000: 0.780079\n",
      "Cost after epoch 82000: 0.769614\n",
      "Cost after epoch 84000: 0.760304\n",
      "Cost after epoch 86000: 0.750853\n",
      "Cost after epoch 88000: 0.743074\n",
      "Cost after epoch 90000: 0.734400\n",
      "Cost after epoch 92000: 0.725947\n",
      "Cost after epoch 94000: 0.719872\n",
      "Cost after epoch 96000: 0.710670\n",
      "Cost after epoch 98000: 0.703789\n",
      "Cost after epoch 100000: 0.696412\n",
      "Cost after epoch 102000: 0.689310\n",
      "Cost after epoch 104000: 0.681252\n",
      "Cost after epoch 106000: 0.674510\n",
      "Cost after epoch 108000: 0.669960\n",
      "Cost after epoch 110000: 0.664188\n",
      "Cost after epoch 112000: 0.660659\n",
      "Cost after epoch 114000: 0.653189\n",
      "Cost after epoch 116000: 0.647998\n",
      "Cost after epoch 118000: 0.642752\n",
      "Cost after epoch 120000: 0.638057\n",
      "Cost after epoch 122000: 0.633534\n",
      "Cost after epoch 124000: 0.632589\n",
      "Cost after epoch 126000: 0.631047\n",
      "Cost after epoch 128000: 0.625234\n",
      "Cost after epoch 130000: 0.620620\n",
      "Cost after epoch 132000: 0.616267\n",
      "Cost after epoch 134000: 0.608012\n",
      "Cost after epoch 136000: 0.605436\n",
      "Cost after epoch 138000: 0.599611\n",
      "Cost after epoch 140000: 0.596051\n",
      "Cost after epoch 142000: 0.597005\n",
      "Cost after epoch 144000: 0.593922\n",
      "Cost after epoch 146000: 0.590333\n",
      "Cost after epoch 148000: 0.587787\n",
      "Cost after epoch 150000: 0.584620\n",
      "Cost after epoch 152000: 0.586628\n",
      "Cost after epoch 154000: 0.584261\n",
      "Cost after epoch 156000: 0.581336\n",
      "Cost after epoch 158000: 0.581281\n",
      "Cost after epoch 160000: 0.579272\n",
      "Cost after epoch 162000: 0.577932\n",
      "Cost after epoch 164000: 0.575690\n",
      "Cost after epoch 166000: 0.573533\n",
      "Cost after epoch 168000: 0.572485\n",
      "Cost after epoch 170000: 0.568641\n",
      "Cost after epoch 172000: 0.569245\n",
      "Cost after epoch 174000: 0.566829\n",
      "Cost after epoch 176000: 0.566696\n",
      "Cost after epoch 178000: 0.563966\n",
      "Cost after epoch 180000: 0.568364\n",
      "Cost after epoch 182000: 0.565732\n",
      "Cost after epoch 184000: 0.563858\n",
      "Cost after epoch 186000: 0.564214\n",
      "Cost after epoch 188000: 0.562584\n",
      "Cost after epoch 190000: 0.560251\n",
      "Cost after epoch 192000: 0.560985\n",
      "Cost after epoch 194000: 0.559250\n",
      "Cost after epoch 196000: 0.557925\n",
      "Cost after epoch 198000: 0.557231\n"
     ]
    },
    {
     "data": {
      "image/png": "[encoded data removed]",
      "text/plain": [
       "<Figure size 432x288 with 1 Axes>"
      ]
     },
     "metadata": {},
     "output_type": "display_data"
    },
    {
     "name": "stdout",
     "output_type": "stream",
     "text": [
      "Parameters have been trained!\n",
      "Train Accuracy: 0.7818897366523743\n",
      "Test Accuracy: 0.7733333110809326\n",
      "Wall time: 27min 56s\n"
     ]
    },
    {
     "data": {
      "application/javascript": [
       "$(document).ready(\n",
       "    function() {\n",
       "        function appendUniqueDiv(){\n",
       "            // append a div with our uuid so we can check that it's already\n",
       "            // been sent and avoid duplicates on page reload\n",
       "            var notifiedDiv = document.createElement(\"div\")\n",
       "            notifiedDiv.id = \"50451bca-c632-45ff-b09d-1c14c8f8c2b4\"\n",
       "            element.append(notifiedDiv)\n",
       "        }\n",
       "\n",
       "        // only send notifications if the pageload is complete; this will\n",
       "        // help stop extra notifications when a saved notebook is loaded,\n",
       "        // which during testing gives us state \"interactive\", not \"complete\"\n",
       "        if (document.readyState === 'complete') {\n",
       "            // check for the div that signifies that the notification\n",
       "            // was already sent\n",
       "            if (document.getElementById(\"50451bca-c632-45ff-b09d-1c14c8f8c2b4\") === null) {\n",
       "                var notificationPayload = {\"requireInteraction\": true, \"icon\": \"/static/base/images/favicon.ico\", \"body\": \"Neural network training complete!\"};\n",
       "                if (Notification.permission !== 'denied') {\n",
       "                    if (Notification.permission !== 'granted') { \n",
       "                        Notification.requestPermission(function (permission) {\n",
       "                            if(!('permission' in Notification)) {\n",
       "                                Notification.permission = permission\n",
       "                            }\n",
       "                        })\n",
       "                    }\n",
       "                    if (Notification.permission === 'granted') {\n",
       "                    var notification = new Notification(\"Jupyter Notebook\", notificationPayload)\n",
       "                    appendUniqueDiv()\n",
       "                    notification.onclick = function () {\n",
       "                        window.focus();\n",
       "                        this.close();\n",
       "                        };\n",
       "                    } \n",
       "                }     \n",
       "            }\n",
       "        }\n",
       "    }\n",
       ")\n"
      ],
      "text/plain": [
       "<IPython.core.display.Javascript object>"
      ]
     },
     "metadata": {},
     "output_type": "display_data"
    }
   ],
   "source": [
    "%%notify -m \"Neural network training complete!\"\n",
    "%%time\n",
    "\n",
    "# seed for reproducibility\n",
    "tf.set_random_seed(2)\n",
    "\n",
    "# choose your parameters\n",
    "num_layers = 6\n",
    "nodes_in_layer = [75,50,50,25,12,1]\n",
    "num_epochs= 200000\n",
    "learning_rate = 0.001\n",
    "L2_regularization = True\n",
    "optimizer = \"gradient descent\"\n",
    "hypertune = True\n",
    "save_plot = True\n",
    "\n",
    "# train and test the network\n",
    "test = neural_network(X_train_network, Y_train_network, X_test_network, Y_test_network, \n",
    "                      num_layers, nodes_in_layer, num_epochs, learning_rate, L2 = L2_regularization,\n",
    "                      optimization=optimizer, hypertune_mode = True, save_loss_plot = save_plot)"
   ]
  },
  {
   "cell_type": "markdown",
   "metadata": {},
   "source": [
    "A modest 2% improvement. We could decrease the learning rate a little more. Maybe also change the optimizer to something else like Adam. But let's settle for this accuracy for now.\n",
    "\n",
    "However what would likely help even more is having more data. So I'll do that first. In the first Jupyter notebook (\"Data Collection\") you'll see a new round of data collection (round 9) toward the very bottom of the notebook.\n",
    "\n",
    "Now in the mean time, while we're waiting for more data to come in, let's kick off training on more models with our current dataset."
   ]
  },
  {
   "cell_type": "code",
   "execution_count": 114,
   "metadata": {},
   "outputs": [
    {
     "name": "stdout",
     "output_type": "stream",
     "text": [
      "Cost after epoch 0: 2.098670\n",
      "Cost after epoch 20000: 0.547367\n",
      "Cost after epoch 40000: 0.544157\n",
      "Cost after epoch 60000: 0.550620\n",
      "Cost after epoch 80000: 0.547880\n",
      "Cost after epoch 100000: 0.544075\n",
      "Cost after epoch 120000: 0.547624\n",
      "Cost after epoch 140000: 0.551167\n",
      "Cost after epoch 160000: 0.549472\n",
      "Cost after epoch 180000: 0.545942\n"
     ]
    },
    {
     "data": {
      "image/png": "[encoded data removed]",
      "text/plain": [
       "<Figure size 432x288 with 1 Axes>"
      ]
     },
     "metadata": {},
     "output_type": "display_data"
    },
    {
     "name": "stdout",
     "output_type": "stream",
     "text": [
      "Parameters have been trained!\n",
      "Train Accuracy: 0.7763779759407043\n",
      "Test Accuracy: 0.7955555319786072\n",
      "Wall time: 34min 47s\n"
     ]
    },
    {
     "data": {
      "application/javascript": [
       "$(document).ready(\n",
       "    function() {\n",
       "        function appendUniqueDiv(){\n",
       "            // append a div with our uuid so we can check that it's already\n",
       "            // been sent and avoid duplicates on page reload\n",
       "            var notifiedDiv = document.createElement(\"div\")\n",
       "            notifiedDiv.id = \"ad52008d-56ad-4ee4-ba22-570fbf6caa12\"\n",
       "            element.append(notifiedDiv)\n",
       "        }\n",
       "\n",
       "        // only send notifications if the pageload is complete; this will\n",
       "        // help stop extra notifications when a saved notebook is loaded,\n",
       "        // which during testing gives us state \"interactive\", not \"complete\"\n",
       "        if (document.readyState === 'complete') {\n",
       "            // check for the div that signifies that the notification\n",
       "            // was already sent\n",
       "            if (document.getElementById(\"ad52008d-56ad-4ee4-ba22-570fbf6caa12\") === null) {\n",
       "                var notificationPayload = {\"requireInteraction\": true, \"icon\": \"/static/base/images/favicon.ico\", \"body\": \"Neural network training complete!\"};\n",
       "                if (Notification.permission !== 'denied') {\n",
       "                    if (Notification.permission !== 'granted') { \n",
       "                        Notification.requestPermission(function (permission) {\n",
       "                            if(!('permission' in Notification)) {\n",
       "                                Notification.permission = permission\n",
       "                            }\n",
       "                        })\n",
       "                    }\n",
       "                    if (Notification.permission === 'granted') {\n",
       "                    var notification = new Notification(\"Jupyter Notebook\", notificationPayload)\n",
       "                    appendUniqueDiv()\n",
       "                    notification.onclick = function () {\n",
       "                        window.focus();\n",
       "                        this.close();\n",
       "                        };\n",
       "                    } \n",
       "                }     \n",
       "            }\n",
       "        }\n",
       "    }\n",
       ")\n"
      ],
      "text/plain": [
       "<IPython.core.display.Javascript object>"
      ]
     },
     "metadata": {},
     "output_type": "display_data"
    }
   ],
   "source": [
    "%%notify -m \"Neural network training complete!\"\n",
    "%%time\n",
    "\n",
    "# seed for reproducibility\n",
    "tf.set_random_seed(2)\n",
    "\n",
    "# choose your parameters\n",
    "num_layers = 8\n",
    "nodes_in_layer = [75,50,50,30,25,15,12,1]\n",
    "num_epochs= 200000\n",
    "learning_rate = 0.0005\n",
    "L2_regularization = True\n",
    "optimizer = \"adam\"\n",
    "\n",
    "# train and test the network\n",
    "test = neural_network(X_train_network, Y_train_network, X_test_network, Y_test_network, \n",
    "               num_layers, nodes_in_layer, num_epochs, learning_rate, L2 = L2_regularization, optimization = optimizer)"
   ]
  },
  {
   "cell_type": "code",
   "execution_count": 115,
   "metadata": {},
   "outputs": [],
   "source": [
    "current_parameters = test"
   ]
  },
  {
   "cell_type": "code",
   "execution_count": 119,
   "metadata": {},
   "outputs": [
    {
     "name": "stdout",
     "output_type": "stream",
     "text": [
      "Cost after epoch 0: 5.040148\n",
      "Cost after epoch 20000: 4.829663\n",
      "Cost after epoch 40000: 4.652678\n",
      "Cost after epoch 60000: 4.486252\n",
      "Cost after epoch 80000: 4.326179\n",
      "Cost after epoch 100000: 4.171885\n",
      "Cost after epoch 120000: 4.023908\n",
      "Cost after epoch 140000: 3.880163\n",
      "Cost after epoch 160000: 3.744143\n",
      "Cost after epoch 180000: 3.613904\n"
     ]
    },
    {
     "data": {
      "image/png": "[encoded data removed]",
      "text/plain": [
       "<Figure size 432x288 with 1 Axes>"
      ]
     },
     "metadata": {},
     "output_type": "display_data"
    },
    {
     "name": "stdout",
     "output_type": "stream",
     "text": [
      "Parameters have been trained!\n",
      "Train Accuracy: 0.8031495809555054\n",
      "Test Accuracy: 0.7288888692855835\n",
      "Wall time: 1h 43min 6s\n"
     ]
    },
    {
     "data": {
      "application/javascript": [
       "$(document).ready(\n",
       "    function() {\n",
       "        function appendUniqueDiv(){\n",
       "            // append a div with our uuid so we can check that it's already\n",
       "            // been sent and avoid duplicates on page reload\n",
       "            var notifiedDiv = document.createElement(\"div\")\n",
       "            notifiedDiv.id = \"cd669136-8211-4251-ba21-1e52d35ead32\"\n",
       "            element.append(notifiedDiv)\n",
       "        }\n",
       "\n",
       "        // only send notifications if the pageload is complete; this will\n",
       "        // help stop extra notifications when a saved notebook is loaded,\n",
       "        // which during testing gives us state \"interactive\", not \"complete\"\n",
       "        if (document.readyState === 'complete') {\n",
       "            // check for the div that signifies that the notification\n",
       "            // was already sent\n",
       "            if (document.getElementById(\"cd669136-8211-4251-ba21-1e52d35ead32\") === null) {\n",
       "                var notificationPayload = {\"requireInteraction\": true, \"icon\": \"/static/base/images/favicon.ico\", \"body\": \"Neural network training complete!\"};\n",
       "                if (Notification.permission !== 'denied') {\n",
       "                    if (Notification.permission !== 'granted') { \n",
       "                        Notification.requestPermission(function (permission) {\n",
       "                            if(!('permission' in Notification)) {\n",
       "                                Notification.permission = permission\n",
       "                            }\n",
       "                        })\n",
       "                    }\n",
       "                    if (Notification.permission === 'granted') {\n",
       "                    var notification = new Notification(\"Jupyter Notebook\", notificationPayload)\n",
       "                    appendUniqueDiv()\n",
       "                    notification.onclick = function () {\n",
       "                        window.focus();\n",
       "                        this.close();\n",
       "                        };\n",
       "                    } \n",
       "                }     \n",
       "            }\n",
       "        }\n",
       "    }\n",
       ")\n"
      ],
      "text/plain": [
       "<IPython.core.display.Javascript object>"
      ]
     },
     "metadata": {},
     "output_type": "display_data"
    }
   ],
   "source": [
    "%%notify -m \"Neural network training complete!\"\n",
    "%%time\n",
    "\n",
    "# seed for reproducibility\n",
    "tf.set_random_seed(2)\n",
    "\n",
    "# choose your parameters\n",
    "num_layers = 16\n",
    "nodes_in_layer = [100,100,85,75,80,70,62,50,50,50,40,30,25,15,12,1]\n",
    "num_epochs= 200000\n",
    "learning_rate = 0.0001\n",
    "L2_regularization = True\n",
    "optimizer = \"gradient descent\"\n",
    "\n",
    "# train and test the network\n",
    "test = neural_network(X_train_network, Y_train_network, X_test_network, Y_test_network, \n",
    "               num_layers, nodes_in_layer, num_epochs, learning_rate, L2 = L2_regularization, optimization = optimizer)"
   ]
  },
  {
   "cell_type": "markdown",
   "metadata": {},
   "source": [
    "HMMMM interesting, our training accuracy is getting much higher which is great but our test accuracy is going down meaning that we are overfitting our training data. Perhaps the best way to remedy that situation is to add more data... and hey look... **the bigger dataset just came in!**\n",
    "\n",
    "Let's first test logistic regression again to see what we should consider our baseline here:"
   ]
  },
  {
   "cell_type": "code",
   "execution_count": 26,
   "metadata": {},
   "outputs": [
    {
     "data": {
      "text/plain": [
       "LogisticRegression(C=1.0, class_weight=None, dual=False, fit_intercept=True,\n",
       "          intercept_scaling=1, max_iter=100, multi_class='ovr', n_jobs=1,\n",
       "          penalty='l2', random_state=None, solver='liblinear', tol=0.0001,\n",
       "          verbose=0, warm_start=False)"
      ]
     },
     "execution_count": 26,
     "metadata": {},
     "output_type": "execute_result"
    }
   ],
   "source": [
    "log_model = LogisticRegression()\n",
    "log_model.fit(X_train,Y_train)"
   ]
  },
  {
   "cell_type": "code",
   "execution_count": 27,
   "metadata": {},
   "outputs": [
    {
     "name": "stdout",
     "output_type": "stream",
     "text": [
      "Accuracy of logistic regression model on test data: 72.51%\n",
      "F1-score for logistic regression model on test data: 0.83\n"
     ]
    }
   ],
   "source": [
    "logistic_accuracy = log_model.score(X_test, Y_test)\n",
    "preds = log_model.predict(X_test)\n",
    "log_f1 = f1_score(Y_test, preds)\n",
    "print(\"Accuracy of logistic regression model on test data: {:.2f}%\".format(logistic_accuracy*100))\n",
    "print(\"F1-score for logistic regression model on test data: {:.2f}\".format(log_f1))"
   ]
  },
  {
   "cell_type": "markdown",
   "metadata": {},
   "source": [
    "OK so essentially doubling the size of our dataset didn't help us improve our accuracy with logistic regression. But that's ok, not a big deal. Let's see how the first neural net we made (scroll up if you need a refresher) does with this bigger dataset:"
   ]
  },
  {
   "cell_type": "code",
   "execution_count": 38,
   "metadata": {},
   "outputs": [
    {
     "data": {
      "application/vnd.jupyter.widget-view+json": {
       "model_id": "0a3e68bc9d884a8784df65adc3958fee",
       "version_major": 2,
       "version_minor": 0
      },
      "text/plain": [
       "FloatProgress(value=0.0, bar_style='info', description='0%')"
      ]
     },
     "metadata": {},
     "output_type": "display_data"
    },
    {
     "name": "stdout",
     "output_type": "stream",
     "text": [
      "Cost after epoch 0: 0.597110\n",
      "Cost after epoch 100: 0.531008\n",
      "Cost after epoch 200: 0.529504\n",
      "Cost after epoch 300: 0.529800\n",
      "Cost after epoch 400: 0.528983\n",
      "Cost after epoch 500: 0.528476\n",
      "Cost after epoch 600: 0.528175\n",
      "Cost after epoch 700: 0.527852\n",
      "Cost after epoch 800: 0.527588\n",
      "Cost after epoch 900: 0.527347\n"
     ]
    },
    {
     "data": {
      "image/png": "[encoded data removed]",
      "text/plain": [
       "<Figure size 432x288 with 1 Axes>"
      ]
     },
     "metadata": {},
     "output_type": "display_data"
    },
    {
     "name": "stdout",
     "output_type": "stream",
     "text": [
      "Parameters have been trained!\n",
      "Train Accuracy: 0.7626827359199524\n",
      "Test Accuracy: 0.7299270033836365\n"
     ]
    }
   ],
   "source": [
    "# seed for reproducibility\n",
    "tf.set_random_seed(2)\n",
    "\n",
    "# choose your parameters\n",
    "num_layers = 3\n",
    "nodes_in_layer = [25,12,1]\n",
    "num_epochs= 1000\n",
    "learning_rate = 0.05\n",
    "\n",
    "# train and test the network\n",
    "test = neural_network(X_train_network, Y_train_network, X_test_network, Y_test_network, \n",
    "               num_layers, nodes_in_layer, num_epochs, learning_rate)"
   ]
  },
  {
   "cell_type": "markdown",
   "metadata": {},
   "source": [
    "Hmm we see roughly the same results but a surprising difference between test and train accuracy...\n",
    "\n",
    "Let's test a neural network with 20,000 epochs, a lot more nodes and a much lower learning rate to see if we can get any advantage out of this bigger dataset.\n",
    "\n",
    "_side note: I added a progress bar to help me see more precisely where a network is in the training process_"
   ]
  },
  {
   "cell_type": "code",
   "execution_count": 40,
   "metadata": {},
   "outputs": [
    {
     "data": {
      "application/vnd.jupyter.widget-view+json": {
       "model_id": "c9c1956179ab4caaa536e581bdbef432",
       "version_major": 2,
       "version_minor": 0
      },
      "text/plain": [
       "FloatProgress(value=0.0, bar_style='info', description='0%')"
      ]
     },
     "metadata": {},
     "output_type": "display_data"
    },
    {
     "name": "stdout",
     "output_type": "stream",
     "text": [
      "Cost after epoch 0: 5.041225\n",
      "Cost after epoch 2000: 5.013398\n",
      "Cost after epoch 4000: 4.991262\n",
      "Cost after epoch 6000: 4.970123\n",
      "Cost after epoch 8000: 4.949347\n",
      "Cost after epoch 10000: 4.928844\n",
      "Cost after epoch 12000: 4.908735\n",
      "Cost after epoch 14000: 4.889032\n",
      "Cost after epoch 16000: 4.869701\n",
      "Cost after epoch 18000: 4.850713\n"
     ]
    },
    {
     "data": {
      "image/png": "[encoded data removed]",
      "text/plain": [
       "<Figure size 432x288 with 1 Axes>"
      ]
     },
     "metadata": {},
     "output_type": "display_data"
    },
    {
     "name": "stdout",
     "output_type": "stream",
     "text": [
      "Parameters have been trained!\n",
      "Train Accuracy: 0.7678418159484863\n",
      "Test Accuracy: 0.7347931861877441\n",
      "Wall time: 18min 20s\n"
     ]
    },
    {
     "data": {
      "application/javascript": [
       "$(document).ready(\n",
       "    function() {\n",
       "        function appendUniqueDiv(){\n",
       "            // append a div with our uuid so we can check that it's already\n",
       "            // been sent and avoid duplicates on page reload\n",
       "            var notifiedDiv = document.createElement(\"div\")\n",
       "            notifiedDiv.id = \"47d31fe4-8f20-4264-990a-2937f766d79e\"\n",
       "            element.append(notifiedDiv)\n",
       "        }\n",
       "\n",
       "        // only send notifications if the pageload is complete; this will\n",
       "        // help stop extra notifications when a saved notebook is loaded,\n",
       "        // which during testing gives us state \"interactive\", not \"complete\"\n",
       "        if (document.readyState === 'complete') {\n",
       "            // check for the div that signifies that the notification\n",
       "            // was already sent\n",
       "            if (document.getElementById(\"47d31fe4-8f20-4264-990a-2937f766d79e\") === null) {\n",
       "                var notificationPayload = {\"requireInteraction\": true, \"icon\": \"/static/base/images/favicon.ico\", \"body\": \"Neural network training complete!\"};\n",
       "                if (Notification.permission !== 'denied') {\n",
       "                    if (Notification.permission !== 'granted') { \n",
       "                        Notification.requestPermission(function (permission) {\n",
       "                            if(!('permission' in Notification)) {\n",
       "                                Notification.permission = permission\n",
       "                            }\n",
       "                        })\n",
       "                    }\n",
       "                    if (Notification.permission === 'granted') {\n",
       "                    var notification = new Notification(\"Jupyter Notebook\", notificationPayload)\n",
       "                    appendUniqueDiv()\n",
       "                    notification.onclick = function () {\n",
       "                        window.focus();\n",
       "                        this.close();\n",
       "                        };\n",
       "                    } \n",
       "                }     \n",
       "            }\n",
       "        }\n",
       "    }\n",
       ")\n"
      ],
      "text/plain": [
       "<IPython.core.display.Javascript object>"
      ]
     },
     "metadata": {},
     "output_type": "display_data"
    }
   ],
   "source": [
    "%%notify -m \"Neural network training complete!\"\n",
    "%%time\n",
    "\n",
    "# seed for reproducibility\n",
    "tf.set_random_seed(2)\n",
    "\n",
    "# choose your parameters\n",
    "num_layers = 16\n",
    "nodes_in_layer = [100,100,85,75,80,70,62,50,50,50,40,30,25,15,12,1]\n",
    "num_epochs= 20000\n",
    "learning_rate = 0.0001\n",
    "L2_regularization = True\n",
    "optimizer = \"gradient descent\"\n",
    "\n",
    "# train and test the network\n",
    "test = neural_network(X_train_network, Y_train_network, X_test_network, Y_test_network, \n",
    "               num_layers, nodes_in_layer, num_epochs, learning_rate, L2 = L2_regularization, optimization = optimizer)"
   ]
  },
  {
   "cell_type": "markdown",
   "metadata": {},
   "source": [
    "**OK two notes about this model:**\n",
    "\n",
    "1) We're still getting a bit of a difference between test/train accuracy\n",
    "\n",
    "2) Our cost is still decreasing linearly after 20,000 epochs\n",
    "\n",
    "**Two changes for next model:**\n",
    "\n",
    "1) fewer layers and less nodes per layer\n",
    "\n",
    "2) raise learning rate\n",
    "\n",
    "OK let's go!"
   ]
  },
  {
   "cell_type": "code",
   "execution_count": 44,
   "metadata": {},
   "outputs": [
    {
     "data": {
      "application/vnd.jupyter.widget-view+json": {
       "model_id": "0495f0f5c98d44079bb43b17a7734079",
       "version_major": 2,
       "version_minor": 0
      },
      "text/plain": [
       "FloatProgress(value=0.0, bar_style='info', description='0%')"
      ]
     },
     "metadata": {},
     "output_type": "display_data"
    },
    {
     "name": "stdout",
     "output_type": "stream",
     "text": [
      "Cost after epoch 1: 1.8142063617706299\n",
      "Cost after epoch 2000: 1.7005343437194824\n",
      "Cost after epoch 4000: 1.6488189697265625\n",
      "Cost after epoch 6000: 1.6029633283615112\n",
      "Cost after epoch 8000: 1.5597598552703857\n",
      "Cost after epoch 10000: 1.5187044143676758\n",
      "Cost after epoch 12000: 1.479569435119629\n",
      "Cost after epoch 14000: 1.4420876502990723\n",
      "Cost after epoch 16000: 1.4058148860931396\n",
      "Cost after epoch 18000: 1.3709570169448853\n",
      "Cost after epoch 20000: 1.3377960920333862\n"
     ]
    },
    {
     "data": {
      "image/png": "[encoded data removed]",
      "text/plain": [
       "<Figure size 432x288 with 1 Axes>"
      ]
     },
     "metadata": {},
     "output_type": "display_data"
    },
    {
     "name": "stdout",
     "output_type": "stream",
     "text": [
      "Parameters have been trained!\n",
      "Train Accuracy: 0.7644023895263672\n",
      "Test Accuracy: 0.7250608205795288\n",
      "Wall time: 6min 15s\n"
     ]
    },
    {
     "data": {
      "application/javascript": [
       "$(document).ready(\n",
       "    function() {\n",
       "        function appendUniqueDiv(){\n",
       "            // append a div with our uuid so we can check that it's already\n",
       "            // been sent and avoid duplicates on page reload\n",
       "            var notifiedDiv = document.createElement(\"div\")\n",
       "            notifiedDiv.id = \"cb1faed4-c1e1-4728-8f74-d3cb11e7343a\"\n",
       "            element.append(notifiedDiv)\n",
       "        }\n",
       "\n",
       "        // only send notifications if the pageload is complete; this will\n",
       "        // help stop extra notifications when a saved notebook is loaded,\n",
       "        // which during testing gives us state \"interactive\", not \"complete\"\n",
       "        if (document.readyState === 'complete') {\n",
       "            // check for the div that signifies that the notification\n",
       "            // was already sent\n",
       "            if (document.getElementById(\"cb1faed4-c1e1-4728-8f74-d3cb11e7343a\") === null) {\n",
       "                var notificationPayload = {\"requireInteraction\": true, \"icon\": \"/static/base/images/favicon.ico\", \"body\": \"Neural network training complete!\"};\n",
       "                if (Notification.permission !== 'denied') {\n",
       "                    if (Notification.permission !== 'granted') { \n",
       "                        Notification.requestPermission(function (permission) {\n",
       "                            if(!('permission' in Notification)) {\n",
       "                                Notification.permission = permission\n",
       "                            }\n",
       "                        })\n",
       "                    }\n",
       "                    if (Notification.permission === 'granted') {\n",
       "                    var notification = new Notification(\"Jupyter Notebook\", notificationPayload)\n",
       "                    appendUniqueDiv()\n",
       "                    notification.onclick = function () {\n",
       "                        window.focus();\n",
       "                        this.close();\n",
       "                        };\n",
       "                    } \n",
       "                }     \n",
       "            }\n",
       "        }\n",
       "    }\n",
       ")\n"
      ],
      "text/plain": [
       "<IPython.core.display.Javascript object>"
      ]
     },
     "metadata": {},
     "output_type": "display_data"
    }
   ],
   "source": [
    "%%notify -m \"Neural network training complete!\"\n",
    "%%time\n",
    "\n",
    "# seed for reproducibility\n",
    "tf.set_random_seed(2)\n",
    "\n",
    "# choose your parameters\n",
    "num_layers = 7\n",
    "nodes_in_layer = [70,50,30,25,15,12,1]\n",
    "num_epochs= 20000\n",
    "learning_rate = 0.001\n",
    "L2_regularization = True\n",
    "optimizer = \"gradient descent\"\n",
    "\n",
    "# train and test the network\n",
    "test = neural_network(X_train_network, Y_train_network, X_test_network, Y_test_network, \n",
    "               num_layers, nodes_in_layer, num_epochs, learning_rate, L2 = L2_regularization, optimization = optimizer)"
   ]
  },
  {
   "cell_type": "code",
   "execution_count": 45,
   "metadata": {},
   "outputs": [
    {
     "data": {
      "application/vnd.jupyter.widget-view+json": {
       "model_id": "377c5b0e6d0f4674a9ceabee4971ae62",
       "version_major": 2,
       "version_minor": 0
      },
      "text/plain": [
       "FloatProgress(value=0.0, bar_style='info', description='0%')"
      ]
     },
     "metadata": {},
     "output_type": "display_data"
    },
    {
     "name": "stdout",
     "output_type": "stream",
     "text": [
      "Cost after epoch 1: 1.411400318145752\n",
      "Cost after epoch 2000: 1.0834616422653198\n",
      "Cost after epoch 4000: 0.9030131101608276\n",
      "Cost after epoch 6000: 0.7832704782485962\n",
      "Cost after epoch 8000: 0.7032466530799866\n",
      "Cost after epoch 10000: 0.6498012542724609\n",
      "Cost after epoch 12000: 0.616100013256073\n",
      "Cost after epoch 14000: 0.5927201509475708\n",
      "Cost after epoch 16000: 0.5786928534507751\n",
      "Cost after epoch 18000: 0.5698696374893188\n",
      "Cost after epoch 20000: 0.5637071132659912\n"
     ]
    },
    {
     "data": {
      "image/png": "[encoded data removed]",
      "text/plain": [
       "<Figure size 432x288 with 1 Axes>"
      ]
     },
     "metadata": {},
     "output_type": "display_data"
    },
    {
     "name": "stdout",
     "output_type": "stream",
     "text": [
      "Parameters have been trained!\n",
      "Train Accuracy: 0.7687016129493713\n",
      "Test Accuracy: 0.7299270033836365\n",
      "Wall time: 4min 43s\n"
     ]
    },
    {
     "data": {
      "application/javascript": [
       "$(document).ready(\n",
       "    function() {\n",
       "        function appendUniqueDiv(){\n",
       "            // append a div with our uuid so we can check that it's already\n",
       "            // been sent and avoid duplicates on page reload\n",
       "            var notifiedDiv = document.createElement(\"div\")\n",
       "            notifiedDiv.id = \"ab014b67-2664-4ca5-b982-d49ef3b02cd9\"\n",
       "            element.append(notifiedDiv)\n",
       "        }\n",
       "\n",
       "        // only send notifications if the pageload is complete; this will\n",
       "        // help stop extra notifications when a saved notebook is loaded,\n",
       "        // which during testing gives us state \"interactive\", not \"complete\"\n",
       "        if (document.readyState === 'complete') {\n",
       "            // check for the div that signifies that the notification\n",
       "            // was already sent\n",
       "            if (document.getElementById(\"ab014b67-2664-4ca5-b982-d49ef3b02cd9\") === null) {\n",
       "                var notificationPayload = {\"requireInteraction\": true, \"icon\": \"/static/base/images/favicon.ico\", \"body\": \"Neural network training complete!\"};\n",
       "                if (Notification.permission !== 'denied') {\n",
       "                    if (Notification.permission !== 'granted') { \n",
       "                        Notification.requestPermission(function (permission) {\n",
       "                            if(!('permission' in Notification)) {\n",
       "                                Notification.permission = permission\n",
       "                            }\n",
       "                        })\n",
       "                    }\n",
       "                    if (Notification.permission === 'granted') {\n",
       "                    var notification = new Notification(\"Jupyter Notebook\", notificationPayload)\n",
       "                    appendUniqueDiv()\n",
       "                    notification.onclick = function () {\n",
       "                        window.focus();\n",
       "                        this.close();\n",
       "                        };\n",
       "                    } \n",
       "                }     \n",
       "            }\n",
       "        }\n",
       "    }\n",
       ")\n"
      ],
      "text/plain": [
       "<IPython.core.display.Javascript object>"
      ]
     },
     "metadata": {},
     "output_type": "display_data"
    }
   ],
   "source": [
    "%%notify -m \"Neural network training complete!\"\n",
    "%%time\n",
    "\n",
    "# seed for reproducibility\n",
    "tf.set_random_seed(2)\n",
    "\n",
    "# choose your parameters\n",
    "num_layers = 6\n",
    "nodes_in_layer = [50,30,25,15,12,1]\n",
    "num_epochs= 20000\n",
    "learning_rate = 0.01\n",
    "L2_regularization = True\n",
    "optimizer = \"gradient descent\"\n",
    "\n",
    "# train and test the network\n",
    "test = neural_network(X_train_network, Y_train_network, X_test_network, Y_test_network, \n",
    "               num_layers, nodes_in_layer, num_epochs, learning_rate, L2 = L2_regularization, optimization = optimizer)"
   ]
  },
  {
   "cell_type": "code",
   "execution_count": 46,
   "metadata": {},
   "outputs": [
    {
     "data": {
      "application/vnd.jupyter.widget-view+json": {
       "model_id": "63c2bef51db64149a463bf7e68f029ba",
       "version_major": 2,
       "version_minor": 0
      },
      "text/plain": [
       "FloatProgress(value=0.0, bar_style='info', description='0%')"
      ]
     },
     "metadata": {},
     "output_type": "display_data"
    },
    {
     "name": "stdout",
     "output_type": "stream",
     "text": [
      "Cost after epoch 1: 0.5770103335380554\n",
      "Cost after epoch 2000: 0.5053916573524475\n",
      "Cost after epoch 4000: 0.4934016466140747\n",
      "Cost after epoch 6000: 0.47872403264045715\n",
      "Cost after epoch 8000: 0.4575656056404114\n",
      "Cost after epoch 10000: 0.43724456429481506\n",
      "Cost after epoch 12000: 0.4256719648838043\n",
      "Cost after epoch 14000: 0.41264280676841736\n",
      "Cost after epoch 16000: 0.40636515617370605\n",
      "Cost after epoch 18000: 0.402555912733078\n",
      "Cost after epoch 20000: 0.4002802073955536\n"
     ]
    },
    {
     "data": {
      "image/png": "[encoded data removed]",
      "text/plain": [
       "<Figure size 432x288 with 1 Axes>"
      ]
     },
     "metadata": {},
     "output_type": "display_data"
    },
    {
     "name": "stdout",
     "output_type": "stream",
     "text": [
      "Parameters have been trained!\n",
      "Train Accuracy: 0.8061048984527588\n",
      "Test Accuracy: 0.6812652349472046\n",
      "Wall time: 5min 49s\n"
     ]
    },
    {
     "data": {
      "application/javascript": [
       "$(document).ready(\n",
       "    function() {\n",
       "        function appendUniqueDiv(){\n",
       "            // append a div with our uuid so we can check that it's already\n",
       "            // been sent and avoid duplicates on page reload\n",
       "            var notifiedDiv = document.createElement(\"div\")\n",
       "            notifiedDiv.id = \"f85d294b-7a14-40ee-813c-0077733739e9\"\n",
       "            element.append(notifiedDiv)\n",
       "        }\n",
       "\n",
       "        // only send notifications if the pageload is complete; this will\n",
       "        // help stop extra notifications when a saved notebook is loaded,\n",
       "        // which during testing gives us state \"interactive\", not \"complete\"\n",
       "        if (document.readyState === 'complete') {\n",
       "            // check for the div that signifies that the notification\n",
       "            // was already sent\n",
       "            if (document.getElementById(\"f85d294b-7a14-40ee-813c-0077733739e9\") === null) {\n",
       "                var notificationPayload = {\"requireInteraction\": true, \"icon\": \"/static/base/images/favicon.ico\", \"body\": \"Neural network training complete!\"};\n",
       "                if (Notification.permission !== 'denied') {\n",
       "                    if (Notification.permission !== 'granted') { \n",
       "                        Notification.requestPermission(function (permission) {\n",
       "                            if(!('permission' in Notification)) {\n",
       "                                Notification.permission = permission\n",
       "                            }\n",
       "                        })\n",
       "                    }\n",
       "                    if (Notification.permission === 'granted') {\n",
       "                    var notification = new Notification(\"Jupyter Notebook\", notificationPayload)\n",
       "                    appendUniqueDiv()\n",
       "                    notification.onclick = function () {\n",
       "                        window.focus();\n",
       "                        this.close();\n",
       "                        };\n",
       "                    } \n",
       "                }     \n",
       "            }\n",
       "        }\n",
       "    }\n",
       ")\n"
      ],
      "text/plain": [
       "<IPython.core.display.Javascript object>"
      ]
     },
     "metadata": {},
     "output_type": "display_data"
    }
   ],
   "source": [
    "%%notify -m \"Neural network training complete!\"\n",
    "%%time\n",
    "\n",
    "# seed for reproducibility\n",
    "tf.set_random_seed(2)\n",
    "\n",
    "# choose your parameters\n",
    "num_layers = 6\n",
    "nodes_in_layer = [75,50,50,25,12,1]\n",
    "num_epochs= 20000\n",
    "learning_rate = 0.001\n",
    "\n",
    "# train and test the network\n",
    "test = neural_network(X_train_network, Y_train_network, X_test_network, Y_test_network, \n",
    "               num_layers, nodes_in_layer, num_epochs, learning_rate)"
   ]
  },
  {
   "cell_type": "code",
   "execution_count": 75,
   "metadata": {},
   "outputs": [
    {
     "data": {
      "application/vnd.jupyter.widget-view+json": {
       "model_id": "e135bec10fe84881940d1cb1f9056e91",
       "version_major": 2,
       "version_minor": 0
      },
      "text/plain": [
       "FloatProgress(value=0.0, bar_style='info', description='0%')"
      ]
     },
     "metadata": {},
     "output_type": "display_data"
    },
    {
     "name": "stdout",
     "output_type": "stream",
     "text": [
      "Cost after epoch 1: 1.8397951126098633\n",
      "Cost after epoch 100: 1.65989351272583\n",
      "Cost after epoch 200: 1.5231163501739502\n",
      "Cost after epoch 300: 1.4032865762710571\n",
      "Cost after epoch 400: 1.2969474792480469\n",
      "Cost after epoch 500: 1.2030012607574463\n",
      "Cost after epoch 600: 1.1203404664993286\n",
      "Cost after epoch 700: 1.047351598739624\n",
      "Cost after epoch 800: 0.9831026792526245\n",
      "Cost after epoch 900: 0.9262617826461792\n",
      "Cost after epoch 1000: 0.8773272037506104\n"
     ]
    },
    {
     "data": {
      "image/png": "[encoded data removed]",
      "text/plain": [
       "<Figure size 432x288 with 1 Axes>"
      ]
     },
     "metadata": {},
     "output_type": "display_data"
    },
    {
     "name": "stdout",
     "output_type": "stream",
     "text": [
      "Parameters have been trained!\n",
      "Train Accuracy: 0.7685748934745789\n",
      "Test Accuracy: 0.7700729966163635\n",
      "Wall time: 23.3 s\n"
     ]
    },
    {
     "data": {
      "application/javascript": [
       "$(document).ready(\n",
       "    function() {\n",
       "        function appendUniqueDiv(){\n",
       "            // append a div with our uuid so we can check that it's already\n",
       "            // been sent and avoid duplicates on page reload\n",
       "            var notifiedDiv = document.createElement(\"div\")\n",
       "            notifiedDiv.id = \"743e9486-aee2-4f1b-877d-0acc515a22de\"\n",
       "            element.append(notifiedDiv)\n",
       "        }\n",
       "\n",
       "        // only send notifications if the pageload is complete; this will\n",
       "        // help stop extra notifications when a saved notebook is loaded,\n",
       "        // which during testing gives us state \"interactive\", not \"complete\"\n",
       "        if (document.readyState === 'complete') {\n",
       "            // check for the div that signifies that the notification\n",
       "            // was already sent\n",
       "            if (document.getElementById(\"743e9486-aee2-4f1b-877d-0acc515a22de\") === null) {\n",
       "                var notificationPayload = {\"requireInteraction\": true, \"icon\": \"/static/base/images/favicon.ico\", \"body\": \"Neural network training complete!\"};\n",
       "                if (Notification.permission !== 'denied') {\n",
       "                    if (Notification.permission !== 'granted') { \n",
       "                        Notification.requestPermission(function (permission) {\n",
       "                            if(!('permission' in Notification)) {\n",
       "                                Notification.permission = permission\n",
       "                            }\n",
       "                        })\n",
       "                    }\n",
       "                    if (Notification.permission === 'granted') {\n",
       "                    var notification = new Notification(\"Jupyter Notebook\", notificationPayload)\n",
       "                    appendUniqueDiv()\n",
       "                    notification.onclick = function () {\n",
       "                        window.focus();\n",
       "                        this.close();\n",
       "                        };\n",
       "                    } \n",
       "                }     \n",
       "            }\n",
       "        }\n",
       "    }\n",
       ")\n"
      ],
      "text/plain": [
       "<IPython.core.display.Javascript object>"
      ]
     },
     "metadata": {},
     "output_type": "display_data"
    }
   ],
   "source": [
    "%%notify -m \"Neural network training complete!\"\n",
    "%%time\n",
    "\n",
    "# seed for reproducibility\n",
    "tf.set_random_seed(2)\n",
    "\n",
    "# choose your parameters\n",
    "num_layers = 6\n",
    "nodes_in_layer = [75,50,50,25,12,1]\n",
    "num_epochs= 1000\n",
    "learning_rate = 0.0001\n",
    "L2_regularization = True\n",
    "optimizer = \"adam\"\n",
    "\n",
    "hypertune[\"num_epochs\"].append(num_epochs)\n",
    "hypertune[\"learning_rate\"].append(learning_rate)\n",
    "hypertune[\"num_layers\"].append(num_layers)\n",
    "hypertune[\"L2_reg\"].append(L2_regularization)\n",
    "hypertune[\"optimizer\"].append(optimizer)\n",
    "\n",
    "# train and test the network\n",
    "_, train_accuracy, test_accuracy  = neural_network(X_train_network, Y_train_network, X_test_network, Y_test_network, \n",
    "                                                   num_layers, nodes_in_layer, num_epochs, learning_rate, \n",
    "                                                   L2 = L2_regularization, optimization = optimizer, hypertune_mode=True)\n",
    "\n",
    "hypertune[\"train_accuracy\"].append(train_accuracy)\n",
    "hypertune[\"test_accuracy\"].append(test_accuracy)"
   ]
  },
  {
   "cell_type": "code",
   "execution_count": 80,
   "metadata": {},
   "outputs": [
    {
     "name": "stdout",
     "output_type": "stream",
     "text": [
      "num_epochs [1000]\n",
      "learning_rate [0.0001]\n",
      "num_layers [6]\n",
      "L2_reg [True]\n",
      "optimizer ['adam']\n",
      "train_accuracy [0.7685749]\n",
      "test_accuracy [0.770073]\n"
     ]
    }
   ],
   "source": [
    "for key,value in hypertune.items():\n",
    "    print(key,value)"
   ]
  },
  {
   "cell_type": "code",
   "execution_count": 81,
   "metadata": {},
   "outputs": [
    {
     "data": {
      "application/vnd.jupyter.widget-view+json": {
       "model_id": "dc9cf6f31d6241e391c44eb41480bb29",
       "version_major": 2,
       "version_minor": 0
      },
      "text/plain": [
       "FloatProgress(value=0.0, bar_style='info', description='0%')"
      ]
     },
     "metadata": {},
     "output_type": "display_data"
    },
    {
     "name": "stdout",
     "output_type": "stream",
     "text": [
      "Cost after epoch 1: 1.8397951126098633\n",
      "Cost after epoch 100000: 0.33236515522003174\n",
      "Cost after epoch 200000: 0.32377249002456665\n",
      "Cost after epoch 300000: 0.27789366245269775\n",
      "Cost after epoch 400000: 0.2946854829788208\n",
      "Cost after epoch 500000: 0.2879863381385803\n",
      "Cost after epoch 600000: 0.27169162034988403\n",
      "Cost after epoch 700000: 0.27761971950531006\n",
      "Cost after epoch 800000: 0.27038612961769104\n",
      "Cost after epoch 900000: 0.2795579433441162\n",
      "Cost after epoch 1000000: 0.2974315285682678\n"
     ]
    },
    {
     "data": {
      "image/png": "[encoded data removed]",
      "text/plain": [
       "<Figure size 432x288 with 1 Axes>"
      ]
     },
     "metadata": {},
     "output_type": "display_data"
    },
    {
     "name": "stdout",
     "output_type": "stream",
     "text": [
      "Parameters have been trained!\n",
      "Train Accuracy: 0.9212342500686646\n",
      "Test Accuracy: 0.6897810101509094\n",
      "Wall time: 4h 49min 32s\n"
     ]
    },
    {
     "data": {
      "application/javascript": [
       "$(document).ready(\n",
       "    function() {\n",
       "        function appendUniqueDiv(){\n",
       "            // append a div with our uuid so we can check that it's already\n",
       "            // been sent and avoid duplicates on page reload\n",
       "            var notifiedDiv = document.createElement(\"div\")\n",
       "            notifiedDiv.id = \"f7107c69-bcf5-4970-8349-9abd6c081406\"\n",
       "            element.append(notifiedDiv)\n",
       "        }\n",
       "\n",
       "        // only send notifications if the pageload is complete; this will\n",
       "        // help stop extra notifications when a saved notebook is loaded,\n",
       "        // which during testing gives us state \"interactive\", not \"complete\"\n",
       "        if (document.readyState === 'complete') {\n",
       "            // check for the div that signifies that the notification\n",
       "            // was already sent\n",
       "            if (document.getElementById(\"f7107c69-bcf5-4970-8349-9abd6c081406\") === null) {\n",
       "                var notificationPayload = {\"requireInteraction\": true, \"icon\": \"/static/base/images/favicon.ico\", \"body\": \"Neural network training complete!\"};\n",
       "                if (Notification.permission !== 'denied') {\n",
       "                    if (Notification.permission !== 'granted') { \n",
       "                        Notification.requestPermission(function (permission) {\n",
       "                            if(!('permission' in Notification)) {\n",
       "                                Notification.permission = permission\n",
       "                            }\n",
       "                        })\n",
       "                    }\n",
       "                    if (Notification.permission === 'granted') {\n",
       "                    var notification = new Notification(\"Jupyter Notebook\", notificationPayload)\n",
       "                    appendUniqueDiv()\n",
       "                    notification.onclick = function () {\n",
       "                        window.focus();\n",
       "                        this.close();\n",
       "                        };\n",
       "                    } \n",
       "                }     \n",
       "            }\n",
       "        }\n",
       "    }\n",
       ")\n"
      ],
      "text/plain": [
       "<IPython.core.display.Javascript object>"
      ]
     },
     "metadata": {},
     "output_type": "display_data"
    }
   ],
   "source": [
    "%%notify -m \"Neural network training complete!\"\n",
    "%%time\n",
    "\n",
    "# seed for reproducibility\n",
    "tf.set_random_seed(2)\n",
    "\n",
    "# choose your parameters\n",
    "num_layers = 6\n",
    "nodes_in_layer = [75,50,50,25,12,1]\n",
    "num_epochs= 1000000\n",
    "learning_rate = 0.0001\n",
    "L2_regularization = True\n",
    "optimizer = \"adam\"\n",
    "\n",
    "hypertune[\"num_epochs\"].append(num_epochs)\n",
    "hypertune[\"learning_rate\"].append(learning_rate)\n",
    "hypertune[\"num_layers\"].append(num_layers)\n",
    "hypertune[\"L2_reg\"].append(L2_regularization)\n",
    "hypertune[\"optimizer\"].append(optimizer)\n",
    "\n",
    "# train and test the network\n",
    "_, train_accuracy, test_accuracy  = neural_network(X_train_network, Y_train_network, X_test_network, Y_test_network, \n",
    "                                                   num_layers, nodes_in_layer, num_epochs, learning_rate, \n",
    "                                                   L2 = L2_regularization, optimization = optimizer, hypertune_mode=True)\n",
    "\n",
    "hypertune[\"train_accuracy\"].append(train_accuracy)\n",
    "hypertune[\"test_accuracy\"].append(test_accuracy)"
   ]
  },
  {
   "cell_type": "code",
   "execution_count": 82,
   "metadata": {},
   "outputs": [
    {
     "data": {
      "application/vnd.jupyter.widget-view+json": {
       "model_id": "3db73101d13642dda7491bb05c65c2b5",
       "version_major": 2,
       "version_minor": 0
      },
      "text/plain": [
       "FloatProgress(value=0.0, bar_style='info', description='0%')"
      ]
     },
     "metadata": {},
     "output_type": "display_data"
    },
    {
     "name": "stdout",
     "output_type": "stream",
     "text": [
      "Cost after epoch 1: 1.1709225177764893\n",
      "Cost after epoch 10000: 0.48870304226875305\n",
      "Cost after epoch 20000: 0.4508342146873474\n",
      "Cost after epoch 30000: 0.4247768819332123\n",
      "Cost after epoch 40000: 0.3719346225261688\n",
      "Cost after epoch 50000: 0.3705783486366272\n",
      "Cost after epoch 60000: 0.3588150143623352\n",
      "Cost after epoch 70000: 0.3438021242618561\n",
      "Cost after epoch 80000: 0.3297385573387146\n",
      "Cost after epoch 90000: 0.34259045124053955\n",
      "Cost after epoch 100000: 0.3425086438655853\n"
     ]
    },
    {
     "data": {
      "image/png": "[encoded data removed]",
      "text/plain": [
       "<Figure size 432x288 with 1 Axes>"
      ]
     },
     "metadata": {},
     "output_type": "display_data"
    },
    {
     "name": "stdout",
     "output_type": "stream",
     "text": [
      "Parameters have been trained!\n",
      "Train Accuracy: 0.8769792914390564\n",
      "Test Accuracy: 0.7116788029670715\n",
      "Wall time: 23min 5s\n"
     ]
    },
    {
     "data": {
      "application/javascript": [
       "$(document).ready(\n",
       "    function() {\n",
       "        function appendUniqueDiv(){\n",
       "            // append a div with our uuid so we can check that it's already\n",
       "            // been sent and avoid duplicates on page reload\n",
       "            var notifiedDiv = document.createElement(\"div\")\n",
       "            notifiedDiv.id = \"a4303818-10c7-4381-ba31-790cee5244e0\"\n",
       "            element.append(notifiedDiv)\n",
       "        }\n",
       "\n",
       "        // only send notifications if the pageload is complete; this will\n",
       "        // help stop extra notifications when a saved notebook is loaded,\n",
       "        // which during testing gives us state \"interactive\", not \"complete\"\n",
       "        if (document.readyState === 'complete') {\n",
       "            // check for the div that signifies that the notification\n",
       "            // was already sent\n",
       "            if (document.getElementById(\"a4303818-10c7-4381-ba31-790cee5244e0\") === null) {\n",
       "                var notificationPayload = {\"requireInteraction\": true, \"icon\": \"/static/base/images/favicon.ico\", \"body\": \"Neural network training complete!\"};\n",
       "                if (Notification.permission !== 'denied') {\n",
       "                    if (Notification.permission !== 'granted') { \n",
       "                        Notification.requestPermission(function (permission) {\n",
       "                            if(!('permission' in Notification)) {\n",
       "                                Notification.permission = permission\n",
       "                            }\n",
       "                        })\n",
       "                    }\n",
       "                    if (Notification.permission === 'granted') {\n",
       "                    var notification = new Notification(\"Jupyter Notebook\", notificationPayload)\n",
       "                    appendUniqueDiv()\n",
       "                    notification.onclick = function () {\n",
       "                        window.focus();\n",
       "                        this.close();\n",
       "                        };\n",
       "                    } \n",
       "                }     \n",
       "            }\n",
       "        }\n",
       "    }\n",
       ")\n"
      ],
      "text/plain": [
       "<IPython.core.display.Javascript object>"
      ]
     },
     "metadata": {},
     "output_type": "display_data"
    }
   ],
   "source": [
    "%%notify -m \"Neural network training complete!\"\n",
    "%%time\n",
    "\n",
    "# seed for reproducibility\n",
    "tf.set_random_seed(2)\n",
    "\n",
    "# choose your parameters\n",
    "num_layers = 4\n",
    "nodes_in_layer = [50,25,12,1]\n",
    "num_epochs= 100000\n",
    "learning_rate = 0.0001\n",
    "L2_regularization = True\n",
    "optimizer = \"adam\"\n",
    "\n",
    "hypertune[\"num_epochs\"].append(num_epochs)\n",
    "hypertune[\"learning_rate\"].append(learning_rate)\n",
    "hypertune[\"num_layers\"].append(num_layers)\n",
    "hypertune[\"L2_reg\"].append(L2_regularization)\n",
    "hypertune[\"optimizer\"].append(optimizer)\n",
    "\n",
    "# train and test the network\n",
    "_, train_accuracy, test_accuracy  = neural_network(X_train_network, Y_train_network, X_test_network, Y_test_network, \n",
    "                                                   num_layers, nodes_in_layer, num_epochs, learning_rate, \n",
    "                                                   L2 = L2_regularization, optimization = optimizer, hypertune_mode=True)\n",
    "\n",
    "hypertune[\"train_accuracy\"].append(train_accuracy)\n",
    "hypertune[\"test_accuracy\"].append(test_accuracy)"
   ]
  },
  {
   "cell_type": "code",
   "execution_count": 83,
   "metadata": {},
   "outputs": [
    {
     "data": {
      "application/vnd.jupyter.widget-view+json": {
       "model_id": "2bfe6c2652f64582995842964836c1c1",
       "version_major": 2,
       "version_minor": 0
      },
      "text/plain": [
       "FloatProgress(value=0.0, bar_style='info', description='0%')"
      ]
     },
     "metadata": {},
     "output_type": "display_data"
    },
    {
     "name": "stdout",
     "output_type": "stream",
     "text": [
      "Cost after epoch 1: 0.5743999481201172\n",
      "Cost after epoch 10000: 0.2965209484100342\n",
      "Cost after epoch 20000: 0.3451331853866577\n",
      "Cost after epoch 30000: 0.30540937185287476\n",
      "Cost after epoch 40000: 0.310161828994751\n",
      "Cost after epoch 50000: 0.3093706965446472\n",
      "Cost after epoch 60000: 0.3179401755332947\n",
      "Cost after epoch 70000: 0.31856659054756165\n",
      "Cost after epoch 80000: 0.33167752623558044\n",
      "Cost after epoch 90000: 0.3538976311683655\n",
      "Cost after epoch 100000: 0.3206169307231903\n"
     ]
    },
    {
     "data": {
      "image/png": "[encoded data removed]",
      "text/plain": [
       "<Figure size 432x288 with 1 Axes>"
      ]
     },
     "metadata": {},
     "output_type": "display_data"
    },
    {
     "name": "stdout",
     "output_type": "stream",
     "text": [
      "Parameters have been trained!\n",
      "Train Accuracy: 0.8449046015739441\n",
      "Test Accuracy: 0.6861313581466675\n",
      "Wall time: 22min 5s\n"
     ]
    },
    {
     "data": {
      "application/javascript": [
       "$(document).ready(\n",
       "    function() {\n",
       "        function appendUniqueDiv(){\n",
       "            // append a div with our uuid so we can check that it's already\n",
       "            // been sent and avoid duplicates on page reload\n",
       "            var notifiedDiv = document.createElement(\"div\")\n",
       "            notifiedDiv.id = \"1ca89f66-1d7e-4ada-a698-f47974c03aac\"\n",
       "            element.append(notifiedDiv)\n",
       "        }\n",
       "\n",
       "        // only send notifications if the pageload is complete; this will\n",
       "        // help stop extra notifications when a saved notebook is loaded,\n",
       "        // which during testing gives us state \"interactive\", not \"complete\"\n",
       "        if (document.readyState === 'complete') {\n",
       "            // check for the div that signifies that the notification\n",
       "            // was already sent\n",
       "            if (document.getElementById(\"1ca89f66-1d7e-4ada-a698-f47974c03aac\") === null) {\n",
       "                var notificationPayload = {\"requireInteraction\": true, \"icon\": \"/static/base/images/favicon.ico\", \"body\": \"Neural network training complete!\"};\n",
       "                if (Notification.permission !== 'denied') {\n",
       "                    if (Notification.permission !== 'granted') { \n",
       "                        Notification.requestPermission(function (permission) {\n",
       "                            if(!('permission' in Notification)) {\n",
       "                                Notification.permission = permission\n",
       "                            }\n",
       "                        })\n",
       "                    }\n",
       "                    if (Notification.permission === 'granted') {\n",
       "                    var notification = new Notification(\"Jupyter Notebook\", notificationPayload)\n",
       "                    appendUniqueDiv()\n",
       "                    notification.onclick = function () {\n",
       "                        window.focus();\n",
       "                        this.close();\n",
       "                        };\n",
       "                    } \n",
       "                }     \n",
       "            }\n",
       "        }\n",
       "    }\n",
       ")\n"
      ],
      "text/plain": [
       "<IPython.core.display.Javascript object>"
      ]
     },
     "metadata": {},
     "output_type": "display_data"
    }
   ],
   "source": [
    "%%notify -m \"Neural network training complete!\"\n",
    "%%time\n",
    "\n",
    "# seed for reproducibility\n",
    "tf.set_random_seed(2)\n",
    "\n",
    "# choose your parameters\n",
    "num_layers = 4\n",
    "nodes_in_layer = [50,25,12,1]\n",
    "num_epochs= 100000\n",
    "learning_rate = 0.0001\n",
    "L2_regularization = False\n",
    "optimizer = \"adam\"\n",
    "\n",
    "hypertune[\"num_epochs\"].append(num_epochs)\n",
    "hypertune[\"learning_rate\"].append(learning_rate)\n",
    "hypertune[\"num_layers\"].append(num_layers)\n",
    "hypertune[\"L2_reg\"].append(L2_regularization)\n",
    "hypertune[\"optimizer\"].append(optimizer)\n",
    "\n",
    "# train and test the network\n",
    "_, train_accuracy, test_accuracy  = neural_network(X_train_network, Y_train_network, X_test_network, Y_test_network, \n",
    "                                                   num_layers, nodes_in_layer, num_epochs, learning_rate, \n",
    "                                                   L2 = L2_regularization, optimization = optimizer, hypertune_mode=True)\n",
    "\n",
    "hypertune[\"train_accuracy\"].append(train_accuracy)\n",
    "hypertune[\"test_accuracy\"].append(test_accuracy)"
   ]
  },
  {
   "cell_type": "code",
   "execution_count": 91,
   "metadata": {},
   "outputs": [
    {
     "data": {
      "text/plain": [
       "(1000, 0.0001, 6, True, 'adam', 0.01)"
      ]
     },
     "execution_count": 91,
     "metadata": {},
     "output_type": "execute_result"
    }
   ],
   "source": [
    "hyperparams"
   ]
  },
  {
   "cell_type": "code",
   "execution_count": 89,
   "metadata": {},
   "outputs": [
    {
     "ename": "AttributeError",
     "evalue": "'bool' object has no attribute 'items'",
     "output_type": "error",
     "traceback": [
      "\u001b[1;31m---------------------------------------------------------------------------\u001b[0m",
      "\u001b[1;31mAttributeError\u001b[0m                            Traceback (most recent call last)",
      "\u001b[1;32m<ipython-input-89-62a56d9caa7e>\u001b[0m in \u001b[0;36m<module>\u001b[1;34m()\u001b[0m\n\u001b[1;32m----> 1\u001b[1;33m \u001b[1;32mfor\u001b[0m \u001b[0mkey\u001b[0m\u001b[1;33m,\u001b[0m\u001b[0mvalue\u001b[0m \u001b[1;32min\u001b[0m \u001b[0mhypertune\u001b[0m\u001b[1;33m.\u001b[0m\u001b[0mitems\u001b[0m\u001b[1;33m(\u001b[0m\u001b[1;33m)\u001b[0m\u001b[1;33m:\u001b[0m\u001b[1;33m\u001b[0m\u001b[0m\n\u001b[0m\u001b[0;32m      2\u001b[0m     \u001b[0mprint\u001b[0m\u001b[1;33m(\u001b[0m\u001b[0mkey\u001b[0m\u001b[1;33m,\u001b[0m\u001b[0mvalue\u001b[0m\u001b[1;33m)\u001b[0m\u001b[1;33m\u001b[0m\u001b[0m\n",
      "\u001b[1;31mAttributeError\u001b[0m: 'bool' object has no attribute 'items'"
     ]
    }
   ],
   "source": [
    "for key,value in hypertune.items():\n",
    "    print(key,value)"
   ]
  },
  {
   "cell_type": "code",
   "execution_count": 94,
   "metadata": {},
   "outputs": [
    {
     "data": {
      "application/vnd.jupyter.widget-view+json": {
       "model_id": "e859fc5acc5b430eb3c9d73da067b308",
       "version_major": 2,
       "version_minor": 0
      },
      "text/plain": [
       "FloatProgress(value=0.0, bar_style='info', description='0%')"
      ]
     },
     "metadata": {},
     "output_type": "display_data"
    },
    {
     "name": "stdout",
     "output_type": "stream",
     "text": [
      "Cost after epoch 1: 1.8397951126098633\n",
      "Cost after epoch 50000: 1.0000675916671753\n",
      "Cost after epoch 100000: 0.7095179557800293\n",
      "Cost after epoch 150000: 0.5995803475379944\n",
      "Cost after epoch 200000: 0.55843585729599\n",
      "Cost after epoch 250000: 0.5542889833450317\n",
      "Cost after epoch 300000: 0.555478036403656\n",
      "Cost after epoch 350000: 0.5451802611351013\n",
      "Cost after epoch 400000: 0.5493862628936768\n",
      "Cost after epoch 450000: 0.5537885427474976\n",
      "Cost after epoch 500000: 0.5529360175132751\n"
     ]
    },
    {
     "data": {
      "image/png": "[encoded data removed]",
      "text/plain": [
       "<Figure size 432x288 with 1 Axes>"
      ]
     },
     "metadata": {},
     "output_type": "display_data"
    },
    {
     "name": "stdout",
     "output_type": "stream",
     "text": [
      "Parameters have been trained!\n",
      "Train Accuracy: 0.7665448784828186\n",
      "Test Accuracy: 0.7737226486206055\n",
      "Wall time: 2h 23min 38s\n"
     ]
    },
    {
     "data": {
      "application/javascript": [
       "$(document).ready(\n",
       "    function() {\n",
       "        function appendUniqueDiv(){\n",
       "            // append a div with our uuid so we can check that it's already\n",
       "            // been sent and avoid duplicates on page reload\n",
       "            var notifiedDiv = document.createElement(\"div\")\n",
       "            notifiedDiv.id = \"31e3db8c-7880-43bf-abb7-4a69bdff323d\"\n",
       "            element.append(notifiedDiv)\n",
       "        }\n",
       "\n",
       "        // only send notifications if the pageload is complete; this will\n",
       "        // help stop extra notifications when a saved notebook is loaded,\n",
       "        // which during testing gives us state \"interactive\", not \"complete\"\n",
       "        if (document.readyState === 'complete') {\n",
       "            // check for the div that signifies that the notification\n",
       "            // was already sent\n",
       "            if (document.getElementById(\"31e3db8c-7880-43bf-abb7-4a69bdff323d\") === null) {\n",
       "                var notificationPayload = {\"requireInteraction\": true, \"icon\": \"/static/base/images/favicon.ico\", \"body\": \"Neural network training complete!\"};\n",
       "                if (Notification.permission !== 'denied') {\n",
       "                    if (Notification.permission !== 'granted') { \n",
       "                        Notification.requestPermission(function (permission) {\n",
       "                            if(!('permission' in Notification)) {\n",
       "                                Notification.permission = permission\n",
       "                            }\n",
       "                        })\n",
       "                    }\n",
       "                    if (Notification.permission === 'granted') {\n",
       "                    var notification = new Notification(\"Jupyter Notebook\", notificationPayload)\n",
       "                    appendUniqueDiv()\n",
       "                    notification.onclick = function () {\n",
       "                        window.focus();\n",
       "                        this.close();\n",
       "                        };\n",
       "                    } \n",
       "                }     \n",
       "            }\n",
       "        }\n",
       "    }\n",
       ")\n"
      ],
      "text/plain": [
       "<IPython.core.display.Javascript object>"
      ]
     },
     "metadata": {},
     "output_type": "display_data"
    }
   ],
   "source": [
    "%%notify -m \"Neural network training complete!\"\n",
    "%%time\n",
    "\n",
    "# seed for reproducibility\n",
    "tf.set_random_seed(2)\n",
    "\n",
    "# choose your parameters\n",
    "num_layers = 6\n",
    "nodes_in_layer = [75,50,50,25,12,1]\n",
    "num_epochs= 500000\n",
    "learning_rate = 0.001\n",
    "L2_regularization = True\n",
    "optimizer = \"gradient descent\"\n",
    "hypertune_mode = True\n",
    "save_plot = True\n",
    "\n",
    "hypertune[\"num_epochs\"].append(num_epochs)\n",
    "hypertune[\"learning_rate\"].append(learning_rate)\n",
    "hypertune[\"num_layers\"].append(num_layers)\n",
    "hypertune[\"L2_reg\"].append(L2_regularization)\n",
    "hypertune[\"optimizer\"].append(optimizer)\n",
    "\n",
    "# train and test the network\n",
    "_, train_accuracy, test_accuracy = neural_network(X_train_network, Y_train_network, X_test_network, Y_test_network, \n",
    "                                                  num_layers, nodes_in_layer, num_epochs, learning_rate, L2 = L2_regularization,\n",
    "                                                  optimization=optimizer, hypertune_mode = hypertune_mode, save_loss_plot = save_plot)\n",
    "\n",
    "hypertune[\"train_accuracy\"].append(train_accuracy)\n",
    "hypertune[\"test_accuracy\"].append(test_accuracy)"
   ]
  },
  {
   "cell_type": "markdown",
   "metadata": {},
   "source": [
    "***"
   ]
  },
  {
   "cell_type": "markdown",
   "metadata": {},
   "source": [
    "<div align=\"right\">\n",
    "    <a href=\"#toc\">back to top</a>\n",
    "</div>\n",
    "\n",
    "## End of Part 3\n",
    "\n",
    "## That's it!\n",
    "\n",
    "We've seen that it is possible to predict (with great accuracy) whether a new League of Legends player will ge through their tutorial matches (reach summoner level 3) or not, based only on the gameplay data of that player's first match!"
   ]
  }
 ],
 "metadata": {
  "kernelspec": {
   "display_name": "Python 3",
   "language": "python",
   "name": "python3"
  },
  "language_info": {
   "codemirror_mode": {
    "name": "ipython",
    "version": 3
   },
   "file_extension": ".py",
   "mimetype": "text/x-python",
   "name": "python",
   "nbconvert_exporter": "python",
   "pygments_lexer": "ipython3",
   "version": "3.6.3"
  }
 },
 "nbformat": 4,
 "nbformat_minor": 2
}
