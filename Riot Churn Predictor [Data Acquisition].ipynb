{
 "cells": [
  {
   "cell_type": "markdown",
   "metadata": {},
   "source": [
    "# Riot Churn Predictor [Data Acquisition]\n",
    "\n",
    "We will be getting all data from Riot's API. Their API allows us to query a Summoner's name (username) to get match history from the last 3 years. Ultimately our goal is to build a model that predicts yes/no, 1/0, will the player churn or won't they."
   ]
  },
  {
   "cell_type": "markdown",
   "metadata": {},
   "source": [
    "## Step 1) Planning \n",
    "\n",
    "Let's first make sure we have a clear vision of what kind of data we can (and want) to get.\n",
    "\n",
    "### 1) What kind of data can we collect from a match?\n",
    "\n",
    "### 2) Is there any other non-match data we can collect about a player to help with our prediction?\n",
    "\n",
    "### 3) What players should we be targeting? (based on definition of churn)\n",
    "\n",
    "### 4) How many players and matches do we need to collect to make an adequate test/train dataset?\n",
    "\n",
    "### 5) How should our data be organized to feed it into a model?\n",
    "\n"
   ]
  },
  {
   "cell_type": "markdown",
   "metadata": {},
   "source": [
    "***"
   ]
  },
  {
   "cell_type": "markdown",
   "metadata": {},
   "source": [
    "## Step 2) Getting familiar with Riot's API (using the Python wrapper Cassiopeia)"
   ]
  },
  {
   "cell_type": "markdown",
   "metadata": {},
   "source": [
    "**Import needed libraries**"
   ]
  },
  {
   "cell_type": "code",
   "execution_count": null,
   "metadata": {
    "collapsed": true
   },
   "outputs": [],
   "source": [
    "import numpy as np\n",
    "import re\n",
    "import pandas as pd\n",
    "from collections import defaultdict\n",
    "\n",
    "import cassiopeia as cass"
   ]
  },
  {
   "cell_type": "markdown",
   "metadata": {},
   "source": [
    "**Set global parameters for Riot API**"
   ]
  },
  {
   "cell_type": "code",
   "execution_count": null,
   "metadata": {
    "collapsed": true
   },
   "outputs": [],
   "source": [
    "cass.set_riot_api_key(\"RGAPI-b4bd7b74-41e1-47ea-9e7c-421e1bcfff2a\") # API key that you get from your account\n",
    "cass.set_default_region(\"NA\")"
   ]
  },
  {
   "cell_type": "markdown",
   "metadata": {},
   "source": [
    "**How to access a single user**"
   ]
  },
  {
   "cell_type": "code",
   "execution_count": null,
   "metadata": {
    "collapsed": true
   },
   "outputs": [],
   "source": [
    "summoner = cass.get_summoner(name=\"SpaceManateeh\")\n",
    "print(\"{name} is a level {level} summoner on the {region} server.\".format(name=summoner.name,\n",
    "                                                                          level=summoner.level,\n",
    "                                                                          region=summoner.region))"
   ]
  },
  {
   "cell_type": "markdown",
   "metadata": {},
   "source": [
    "**All matches from last 3 years from one user**"
   ]
  },
  {
   "cell_type": "code",
   "execution_count": null,
   "metadata": {
    "collapsed": true
   },
   "outputs": [],
   "source": [
    "match_history = summoner.match_history\n",
    "total_matches = len(match_history)\n",
    "\n",
    "print(\"\\n\")\n",
    "print(\"Total Matches for user {name} = {matches}\".format(name=summoner.name, matches=total_matches))"
   ]
  },
  {
   "cell_type": "markdown",
   "metadata": {},
   "source": [
    "**Time of most recent and oldest match (in the last three years)**"
   ]
  },
  {
   "cell_type": "code",
   "execution_count": null,
   "metadata": {
    "collapsed": true
   },
   "outputs": [],
   "source": [
    "total_matches = len(match_history)\n",
    "first_match = match_history[total_matches-1]\n",
    "latest_match = match_history[0]\n",
    "\n",
    "time_first_match = re.search(\"\\d+-\\d+-\\d+\",str(first_match.creation))[0]\n",
    "time_latest_match = re.search(\"\\d+-\\d+-\\d+\",str(latest_match.creation))[0]\n",
    "\n",
    "print(\"{name}'s First Match Ever: {date}\".format(name=summoner.name, date=time_first_match))\n",
    "print(\"{name}'s Most Recent Match: {date}\".format(name=summoner.name, date=time_latest_match))"
   ]
  },
  {
   "cell_type": "markdown",
   "metadata": {},
   "source": [
    "**List the players from a specific match**"
   ]
  },
  {
   "cell_type": "code",
   "execution_count": null,
   "metadata": {
    "collapsed": true
   },
   "outputs": [],
   "source": [
    "match = match_history[0]\n",
    "\n",
    "players = match.participants\n",
    "for player in players:\n",
    "    player_name = str(player.summoner).split(\"name=\")[1].strip(\">\")\n",
    "    print(\"Player = {name} ; Team = {side}\".format(name=str(player.summoner).split(\"name=\")[1].strip(\">\"), side=player.side))"
   ]
  },
  {
   "cell_type": "markdown",
   "metadata": {},
   "source": [
    "***"
   ]
  },
  {
   "cell_type": "markdown",
   "metadata": {},
   "source": [
    "## Step 3) Building a function to get all of the data we want"
   ]
  },
  {
   "cell_type": "code",
   "execution_count": null,
   "metadata": {
    "collapsed": true
   },
   "outputs": [],
   "source": []
  },
  {
   "cell_type": "code",
   "execution_count": null,
   "metadata": {
    "collapsed": true
   },
   "outputs": [],
   "source": []
  },
  {
   "cell_type": "code",
   "execution_count": null,
   "metadata": {
    "collapsed": true
   },
   "outputs": [],
   "source": []
  },
  {
   "cell_type": "markdown",
   "metadata": {},
   "source": [
    "***"
   ]
  },
  {
   "cell_type": "markdown",
   "metadata": {},
   "source": [
    "## Step 4) Reviewing the data"
   ]
  },
  {
   "cell_type": "code",
   "execution_count": null,
   "metadata": {
    "collapsed": true
   },
   "outputs": [],
   "source": []
  },
  {
   "cell_type": "markdown",
   "metadata": {},
   "source": [
    "***"
   ]
  }
 ],
 "metadata": {
  "kernelspec": {
   "display_name": "Python 3",
   "language": "python",
   "name": "python3"
  },
  "language_info": {
   "codemirror_mode": {
    "name": "ipython",
    "version": 3
   },
   "file_extension": ".py",
   "mimetype": "text/x-python",
   "name": "python",
   "nbconvert_exporter": "python",
   "pygments_lexer": "ipython3",
   "version": "3.6.3"
  }
 },
 "nbformat": 4,
 "nbformat_minor": 2
}
